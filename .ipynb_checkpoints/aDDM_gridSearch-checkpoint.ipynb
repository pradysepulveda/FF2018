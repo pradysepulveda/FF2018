{
 "cells": [
  {
   "cell_type": "code",
   "execution_count": null,
   "metadata": {},
   "outputs": [],
   "source": []
  },
  {
   "cell_type": "raw",
   "metadata": {},
   "source": [
    "<script>\n",
    "  function code_toggle() {\n",
    "    if (code_shown){\n",
    "      $('div.input').hide('500');\n",
    "      $('#toggleButton').val('Show Code')\n",
    "    } else {\n",
    "      $('div.input').show('500');\n",
    "      $('#toggleButton').val('Hide Code')\n",
    "    }\n",
    "    code_shown = !code_shown\n",
    "  }\n",
    "\n",
    "  $( document ).ready(function(){\n",
    "    code_shown=false;\n",
    "    $('div.input').hide()\n",
    "  });\n",
    "</script>\n",
    "<form action=\"javascript:code_toggle()\"><input type=\"submit\" id=\"toggleButton\" value=\"Show Code\"></form>"
   ]
  },
  {
   "cell_type": "markdown",
   "metadata": {},
   "source": [
    "# aDDM_gridSearch Script"
   ]
  },
  {
   "cell_type": "markdown",
   "metadata": {},
   "source": [
    "Implement the iterative step for the search of optimal parameter sets. Use of aDDM_pta_mla script from addm_toolbox (https://github.com/goptavares/aDDM-Toolbox)"
   ]
  },
  {
   "cell_type": "code",
   "execution_count": 7,
   "metadata": {},
   "outputs": [],
   "source": [
    "from __future__ import absolute_import\n",
    "import argparse\n",
    "from addm_toolbox import addm_pta_mle_limited\n",
    "import numpy as np\n",
    "import pandas as pd\n"
   ]
  },
  {
   "cell_type": "code",
   "execution_count": 2,
   "metadata": {},
   "outputs": [],
   "source": [
    "import addm_toolbox"
   ]
  },
  {
   "cell_type": "code",
   "execution_count": 5,
   "metadata": {},
   "outputs": [
    {
     "data": {
      "text/plain": [
       "['__builtins__',\n",
       " '__cached__',\n",
       " '__doc__',\n",
       " '__file__',\n",
       " '__loader__',\n",
       " '__name__',\n",
       " '__package__',\n",
       " '__path__',\n",
       " '__spec__']"
      ]
     },
     "execution_count": 5,
     "metadata": {},
     "output_type": "execute_result"
    }
   ],
   "source": [
    "dir(addm_toolbox)"
   ]
  },
  {
   "cell_type": "markdown",
   "metadata": {},
   "source": [
    "### + Free parameters in the model\n",
    "\n",
    "#####    d : controls speed of signal integration (Free DDM parameter)\n",
    "#####   sigma: standard deviation of normal distribution (Free DDM parameter)\n",
    "#####   theta: controls attentional bias (Free aDDM parameter)\n",
    "\n",
    "### + Inputs for toolobox addm_pta_mle script \n",
    "##### range_d,range_sigma,range_theta : range to define the grid for parameter search\n",
    "##### trials_file_name : filepath with trial conditions (to be used for simulations)\n",
    "##### expdata_file_name :  filepath with trial info [participant, trial number, RT, response, values]\n",
    "##### fixations_file_name : filepath with fixations info [participant, trial num, fixation_id, fixation_time]\n",
    "##### Extra parameters: trials_per_subject, simulations_per_condition, subject_ids (number of the subjects to be included for adjusting the parameters, num_threads (parallel processing),save_simulations, save_figures, verbose (deliver reports)\n",
    "\n",
    "###  + Initial grid selection:\n",
    "##### range_d = [0.003, 0.006, 0.009] ; range_sigma = [0.03, 0.06, 0.09] ; range_theta = [0.3, 0.5, 0.7]\n",
    "\n",
    "### + Iteration (adjustment to a new grid) "
   ]
  },
  {
   "cell_type": "markdown",
   "metadata": {},
   "source": [
    "#### ** aDDM grid iterations using version of the script that does not transform item values **"
   ]
  },
  {
   "cell_type": "markdown",
   "metadata": {},
   "source": [
    "## Dislike condition"
   ]
  },
  {
   "cell_type": "code",
   "execution_count": 4,
   "metadata": {},
   "outputs": [
    {
     "ename": "NameError",
     "evalue": "name 'addm_pta_mle_limited' is not defined",
     "output_type": "error",
     "traceback": [
      "\u001b[0;31m---------------------------------------------------------------------------\u001b[0m",
      "\u001b[0;31mNameError\u001b[0m                                 Traceback (most recent call last)",
      "\u001b[0;32m<ipython-input-4-092ce1f2be0c>\u001b[0m in \u001b[0;36m<module>\u001b[0;34m()\u001b[0m\n\u001b[1;32m     34\u001b[0m \u001b[0;34m\u001b[0m\u001b[0m\n\u001b[1;32m     35\u001b[0m     \u001b[0;31m#run the toolbox\u001b[0m\u001b[0;34m\u001b[0m\u001b[0;34m\u001b[0m\u001b[0m\n\u001b[0;32m---> 36\u001b[0;31m     a = addm_pta_mle_limited.main(range_d, range_sigma, range_theta,\n\u001b[0m\u001b[1;32m     37\u001b[0m                       \u001b[0;32mNone\u001b[0m\u001b[0;34m,\u001b[0m\u001b[0;34m\u001b[0m\u001b[0m\n\u001b[1;32m     38\u001b[0m                       \u001b[0mexpdata_file_name\u001b[0m\u001b[0;34m,\u001b[0m\u001b[0;34m\u001b[0m\u001b[0m\n",
      "\u001b[0;31mNameError\u001b[0m: name 'addm_pta_mle_limited' is not defined"
     ]
    }
   ],
   "source": [
    "iteration_data = []\n",
    "current_min_nll = 0\n",
    "previous_min_nll = 0\n",
    "\n",
    "\n",
    "# Initial grid selection\n",
    "range_d = [0.003, 0.006, 0.009]\n",
    "range_sigma = [0.03, 0.06, 0.09]\n",
    "range_theta = [0.3, 0.5, 0.7]\n",
    "\n",
    "#data files definition\n",
    "trials_file_name = None\n",
    "#expdata_file_name = '/Users/bdmlab/OneDrive - University College London/PhD Projects/GiTs/FF2018/InputData/expdata_FFA_Dislike_v2.csv'\n",
    "#fixations_file_name = '/Users/bdmlab/OneDrive - University College London/PhD Projects/GiTs/FF2018/InputData/fixations_FFA_Dislike_v2.csv'\n",
    "expdata_file_name = '/Users/pradyumna/Documents/gitDocs/FF2018/InputData/expdata_FFA_Like_v2.csv'\n",
    "fixations_file_name = '/Users/pradyumna/Documents/gitDocs/FF2018/InputData/fixations_FFA_Like_v2.csv'\n",
    "\n",
    "trials_per_subject = 120\n",
    "simulations_per_condition = 300\n",
    "\n",
    "iter_num = 1\n",
    "\n",
    "while [(abs(current_min_nll-previous_min_nll) > (previous_min_nll*1/100)) and ((current_min_nll-previous_min_nll)>0) ]  or iter_num == 1:\n",
    "    \n",
    "    if iter_num > 1:  \n",
    "        delta_d = range_d[1]-range_d[0]\n",
    "        delta_sigma = range_sigma[1] - range_sigma[0]\n",
    "        delta_theta = range_theta[1] - range_theta[0]\n",
    "        \n",
    "        range_d = [new_d - delta_d/2 , new_d ,new_d + delta_d/2]\n",
    "        range_sigma =[new_sigma - delta_sigma/2 , new_sigma ,new_sigma + delta_sigma/2]\n",
    "        range_theta =[new_theta - delta_theta/2 , new_theta ,new_theta + delta_theta/2]\n",
    "    \n",
    "    \n",
    "    #run the toolbox\n",
    "    a = addm_pta_mle_limited.main(range_d, range_sigma, range_theta,\n",
    "                      None, \n",
    "                      expdata_file_name,\n",
    "                      fixations_file_name, \n",
    "                      trials_per_subject,simulations_per_condition, [],\n",
    "                      9, True, True,\n",
    "                      True)\n",
    "    \n",
    "    # Update the NLL values for this iteration\n",
    "    previous_min_nll = current_min_nll\n",
    "    current_min_nll = a[1]\n",
    "    \n",
    "    #get the new values\n",
    "    new_d = a[0][0]\n",
    "    new_sigma = a[0][1]\n",
    "    new_theta = a[0][2]\n",
    "    \n",
    "    iteration_data.append([iter_num,new_d, new_sigma, new_theta,current_min_nll]) \n",
    "\n",
    "    iter_num = iter_num + 1\n",
    "\n",
    "\n",
    "\n",
    "    \n",
    "    \n",
    "iteration_dataf=pd.DataFrame(iteration_data,columns=['Iteration', 'd', 'sigma', 'theta', 'min_NLL'])\n",
    "print (\"Finished iterations!!\")\n"
   ]
  },
  {
   "cell_type": "code",
   "execution_count": 6,
   "metadata": {},
   "outputs": [
    {
     "data": {
      "text/html": [
       "<div>\n",
       "<style>\n",
       "    .dataframe thead tr:only-child th {\n",
       "        text-align: right;\n",
       "    }\n",
       "\n",
       "    .dataframe thead th {\n",
       "        text-align: left;\n",
       "    }\n",
       "\n",
       "    .dataframe tbody tr th {\n",
       "        vertical-align: top;\n",
       "    }\n",
       "</style>\n",
       "<table border=\"1\" class=\"dataframe\">\n",
       "  <thead>\n",
       "    <tr style=\"text-align: right;\">\n",
       "      <th></th>\n",
       "      <th>Iteration</th>\n",
       "      <th>d</th>\n",
       "      <th>sigma</th>\n",
       "      <th>theta</th>\n",
       "      <th>min_NLL</th>\n",
       "    </tr>\n",
       "  </thead>\n",
       "  <tbody>\n",
       "    <tr>\n",
       "      <th>0</th>\n",
       "      <td>1</td>\n",
       "      <td>0.003000</td>\n",
       "      <td>0.060000</td>\n",
       "      <td>0.300000</td>\n",
       "      <td>14426.320831</td>\n",
       "    </tr>\n",
       "    <tr>\n",
       "      <th>1</th>\n",
       "      <td>2</td>\n",
       "      <td>0.001500</td>\n",
       "      <td>0.060000</td>\n",
       "      <td>0.200000</td>\n",
       "      <td>14249.165216</td>\n",
       "    </tr>\n",
       "    <tr>\n",
       "      <th>2</th>\n",
       "      <td>3</td>\n",
       "      <td>0.001500</td>\n",
       "      <td>0.052500</td>\n",
       "      <td>0.150000</td>\n",
       "      <td>14100.560179</td>\n",
       "    </tr>\n",
       "    <tr>\n",
       "      <th>3</th>\n",
       "      <td>4</td>\n",
       "      <td>0.001500</td>\n",
       "      <td>0.052500</td>\n",
       "      <td>0.125000</td>\n",
       "      <td>14087.303413</td>\n",
       "    </tr>\n",
       "    <tr>\n",
       "      <th>4</th>\n",
       "      <td>5</td>\n",
       "      <td>0.001500</td>\n",
       "      <td>0.050625</td>\n",
       "      <td>0.112500</td>\n",
       "      <td>14077.695636</td>\n",
       "    </tr>\n",
       "    <tr>\n",
       "      <th>5</th>\n",
       "      <td>6</td>\n",
       "      <td>0.001500</td>\n",
       "      <td>0.051562</td>\n",
       "      <td>0.106250</td>\n",
       "      <td>14073.754716</td>\n",
       "    </tr>\n",
       "    <tr>\n",
       "      <th>6</th>\n",
       "      <td>7</td>\n",
       "      <td>0.001500</td>\n",
       "      <td>0.051094</td>\n",
       "      <td>0.103125</td>\n",
       "      <td>14071.740680</td>\n",
       "    </tr>\n",
       "    <tr>\n",
       "      <th>7</th>\n",
       "      <td>8</td>\n",
       "      <td>0.001523</td>\n",
       "      <td>0.051094</td>\n",
       "      <td>0.101562</td>\n",
       "      <td>14070.888601</td>\n",
       "    </tr>\n",
       "    <tr>\n",
       "      <th>8</th>\n",
       "      <td>9</td>\n",
       "      <td>0.001523</td>\n",
       "      <td>0.051211</td>\n",
       "      <td>0.100781</td>\n",
       "      <td>14070.439959</td>\n",
       "    </tr>\n",
       "    <tr>\n",
       "      <th>9</th>\n",
       "      <td>10</td>\n",
       "      <td>0.001523</td>\n",
       "      <td>0.051211</td>\n",
       "      <td>0.100391</td>\n",
       "      <td>14070.227052</td>\n",
       "    </tr>\n",
       "    <tr>\n",
       "      <th>10</th>\n",
       "      <td>11</td>\n",
       "      <td>0.001521</td>\n",
       "      <td>0.051182</td>\n",
       "      <td>0.100195</td>\n",
       "      <td>14070.118659</td>\n",
       "    </tr>\n",
       "    <tr>\n",
       "      <th>11</th>\n",
       "      <td>12</td>\n",
       "      <td>0.001521</td>\n",
       "      <td>0.051182</td>\n",
       "      <td>0.100098</td>\n",
       "      <td>14070.065485</td>\n",
       "    </tr>\n",
       "    <tr>\n",
       "      <th>12</th>\n",
       "      <td>13</td>\n",
       "      <td>0.001521</td>\n",
       "      <td>0.051182</td>\n",
       "      <td>0.100049</td>\n",
       "      <td>14070.038874</td>\n",
       "    </tr>\n",
       "    <tr>\n",
       "      <th>13</th>\n",
       "      <td>14</td>\n",
       "      <td>0.001521</td>\n",
       "      <td>0.051185</td>\n",
       "      <td>0.100024</td>\n",
       "      <td>14070.025566</td>\n",
       "    </tr>\n",
       "    <tr>\n",
       "      <th>14</th>\n",
       "      <td>15</td>\n",
       "      <td>0.001521</td>\n",
       "      <td>0.051183</td>\n",
       "      <td>0.100012</td>\n",
       "      <td>14070.018914</td>\n",
       "    </tr>\n",
       "    <tr>\n",
       "      <th>15</th>\n",
       "      <td>16</td>\n",
       "      <td>0.001521</td>\n",
       "      <td>0.051184</td>\n",
       "      <td>0.100006</td>\n",
       "      <td>14070.015589</td>\n",
       "    </tr>\n",
       "    <tr>\n",
       "      <th>16</th>\n",
       "      <td>17</td>\n",
       "      <td>0.001521</td>\n",
       "      <td>0.051184</td>\n",
       "      <td>0.100003</td>\n",
       "      <td>14070.013926</td>\n",
       "    </tr>\n",
       "    <tr>\n",
       "      <th>17</th>\n",
       "      <td>18</td>\n",
       "      <td>0.001521</td>\n",
       "      <td>0.051184</td>\n",
       "      <td>0.100002</td>\n",
       "      <td>14070.013095</td>\n",
       "    </tr>\n",
       "    <tr>\n",
       "      <th>18</th>\n",
       "      <td>19</td>\n",
       "      <td>0.001521</td>\n",
       "      <td>0.051184</td>\n",
       "      <td>0.100001</td>\n",
       "      <td>14070.012679</td>\n",
       "    </tr>\n",
       "    <tr>\n",
       "      <th>19</th>\n",
       "      <td>20</td>\n",
       "      <td>0.001521</td>\n",
       "      <td>0.051184</td>\n",
       "      <td>0.100000</td>\n",
       "      <td>14070.012472</td>\n",
       "    </tr>\n",
       "    <tr>\n",
       "      <th>20</th>\n",
       "      <td>21</td>\n",
       "      <td>0.001521</td>\n",
       "      <td>0.051184</td>\n",
       "      <td>0.100000</td>\n",
       "      <td>14070.012368</td>\n",
       "    </tr>\n",
       "    <tr>\n",
       "      <th>21</th>\n",
       "      <td>22</td>\n",
       "      <td>0.001521</td>\n",
       "      <td>0.051184</td>\n",
       "      <td>0.100000</td>\n",
       "      <td>14070.012316</td>\n",
       "    </tr>\n",
       "    <tr>\n",
       "      <th>22</th>\n",
       "      <td>23</td>\n",
       "      <td>0.001521</td>\n",
       "      <td>0.051184</td>\n",
       "      <td>0.100000</td>\n",
       "      <td>14070.012290</td>\n",
       "    </tr>\n",
       "  </tbody>\n",
       "</table>\n",
       "</div>"
      ],
      "text/plain": [
       "    Iteration         d     sigma     theta       min_NLL\n",
       "0           1  0.003000  0.060000  0.300000  14426.320831\n",
       "1           2  0.001500  0.060000  0.200000  14249.165216\n",
       "2           3  0.001500  0.052500  0.150000  14100.560179\n",
       "3           4  0.001500  0.052500  0.125000  14087.303413\n",
       "4           5  0.001500  0.050625  0.112500  14077.695636\n",
       "5           6  0.001500  0.051562  0.106250  14073.754716\n",
       "6           7  0.001500  0.051094  0.103125  14071.740680\n",
       "7           8  0.001523  0.051094  0.101562  14070.888601\n",
       "8           9  0.001523  0.051211  0.100781  14070.439959\n",
       "9          10  0.001523  0.051211  0.100391  14070.227052\n",
       "10         11  0.001521  0.051182  0.100195  14070.118659\n",
       "11         12  0.001521  0.051182  0.100098  14070.065485\n",
       "12         13  0.001521  0.051182  0.100049  14070.038874\n",
       "13         14  0.001521  0.051185  0.100024  14070.025566\n",
       "14         15  0.001521  0.051183  0.100012  14070.018914\n",
       "15         16  0.001521  0.051184  0.100006  14070.015589\n",
       "16         17  0.001521  0.051184  0.100003  14070.013926\n",
       "17         18  0.001521  0.051184  0.100002  14070.013095\n",
       "18         19  0.001521  0.051184  0.100001  14070.012679\n",
       "19         20  0.001521  0.051184  0.100000  14070.012472\n",
       "20         21  0.001521  0.051184  0.100000  14070.012368\n",
       "21         22  0.001521  0.051184  0.100000  14070.012316\n",
       "22         23  0.001521  0.051184  0.100000  14070.012290"
      ]
     },
     "execution_count": 6,
     "metadata": {},
     "output_type": "execute_result"
    }
   ],
   "source": [
    "iterations_dislike = iteration_dataf\n",
    "iterations_dislike"
   ]
  },
  {
   "cell_type": "markdown",
   "metadata": {},
   "source": [
    "## Like condition grid iterations"
   ]
  },
  {
   "cell_type": "code",
   "execution_count": null,
   "metadata": {},
   "outputs": [],
   "source": [
    "iteration_data = []\n",
    "current_min_nll = 0\n",
    "previous_min_nll = 0\n",
    "\n",
    "\n",
    "# Initial grid selection\n",
    "range_d = [0.003, 0.006, 0.009]\n",
    "range_sigma = [0.03, 0.06, 0.09]\n",
    "range_theta = [0.3, 0.5, 0.7]\n",
    "\n",
    "#data files definition\n",
    "trials_file_name = None\n",
    "#expdata_file_name = '/Users/bdmlab/OneDrive - University College London/PhD Projects/GiTs/FF2018/InputData/expdata_FFA_Like_v2.csv'\n",
    "#fixations_file_name = '/Users/bdmlab/OneDrive - University College London/PhD Projects/GiTs/FF2018/InputData/fixations_FFA_Like_v2.csv'\n",
    "\n",
    "expdata_file_name = '/Users/pradyumna/Documents/gitDocs/FF2018/InputData/expdata_FFA_Like_v2.csv'\n",
    "fixations_file_name = '/Users/pradyumna/Documents/gitDocs/FF2018/InputData/fixations_FFA_Like_v2.csv'\n",
    "\n",
    "\n",
    "\n",
    "trials_per_subject = 120\n",
    "simulations_per_condition = 300\n",
    "\n",
    "iter_num = 1\n",
    "\n",
    "while [(abs(current_min_nll-previous_min_nll) > (previous_min_nll*1/100)) and ((current_min_nll-previous_min_nll)>0) ]  or iter_num == 1:\n",
    "    \n",
    "    if iter_num > 1:\n",
    "        delta_d = range_d[1]-range_d[0]\n",
    "        delta_sigma = range_sigma[1] - range_sigma[0]\n",
    "        delta_theta = range_theta[1] - range_theta[0]\n",
    "        \n",
    "        range_d = [new_d - delta_d/2 , new_d ,new_d + delta_d/2]\n",
    "        range_sigma =[new_sigma - delta_sigma/2 , new_sigma ,new_sigma + delta_sigma/2]\n",
    "        range_theta =[new_theta - delta_theta/2 , new_theta ,new_theta + delta_theta/2]\n",
    "    \n",
    "    \n",
    "    #run the toolbox\n",
    "    a = addm_pta_mle_limited.main(range_d, range_sigma, range_theta,\n",
    "                      None, \n",
    "                      expdata_file_name,\n",
    "                      fixations_file_name, \n",
    "                      trials_per_subject,simulations_per_condition, [],\n",
    "                      9, True, True,\n",
    "                      True)\n",
    "    \n",
    "    # Update the NLL values for this iteration\n",
    "    previous_min_nll = current_min_nll\n",
    "    current_min_nll = a[1]\n",
    "    \n",
    "    #get the new values\n",
    "    new_d = a[0][0]\n",
    "    new_sigma = a[0][1]\n",
    "    new_theta = a[0][2]\n",
    "    \n",
    "    iteration_data.append([iter_num,new_d, new_sigma, new_theta,current_min_nll]) \n",
    "\n",
    "    iter_num = iter_num + 1\n",
    "\n",
    "\n",
    "\n",
    "    \n",
    "    \n",
    "iteration_dataf=pd.DataFrame(iteration_data,columns=['Iteration', 'd', 'sigma', 'theta', 'min_NLL'])\n",
    "print (\"Finished iterations!!\")\n",
    "\n"
   ]
  },
  {
   "cell_type": "code",
   "execution_count": 10,
   "metadata": {},
   "outputs": [
    {
     "data": {
      "text/html": [
       "<div>\n",
       "<style scoped>\n",
       "    .dataframe tbody tr th:only-of-type {\n",
       "        vertical-align: middle;\n",
       "    }\n",
       "\n",
       "    .dataframe tbody tr th {\n",
       "        vertical-align: top;\n",
       "    }\n",
       "\n",
       "    .dataframe thead th {\n",
       "        text-align: right;\n",
       "    }\n",
       "</style>\n",
       "<table border=\"1\" class=\"dataframe\">\n",
       "  <thead>\n",
       "    <tr style=\"text-align: right;\">\n",
       "      <th></th>\n",
       "      <th>Iteration</th>\n",
       "      <th>d</th>\n",
       "      <th>sigma</th>\n",
       "      <th>theta</th>\n",
       "      <th>min_NLL</th>\n",
       "    </tr>\n",
       "  </thead>\n",
       "  <tbody>\n",
       "    <tr>\n",
       "      <th>0</th>\n",
       "      <td>1</td>\n",
       "      <td>0.003000</td>\n",
       "      <td>0.060000</td>\n",
       "      <td>0.300000</td>\n",
       "      <td>13446.11124</td>\n",
       "    </tr>\n",
       "    <tr>\n",
       "      <th>1</th>\n",
       "      <td>2</td>\n",
       "      <td>0.004500</td>\n",
       "      <td>0.045000</td>\n",
       "      <td>0.200000</td>\n",
       "      <td>13274.65442</td>\n",
       "    </tr>\n",
       "    <tr>\n",
       "      <th>2</th>\n",
       "      <td>3</td>\n",
       "      <td>0.003750</td>\n",
       "      <td>0.052500</td>\n",
       "      <td>0.150000</td>\n",
       "      <td>13195.83066</td>\n",
       "    </tr>\n",
       "    <tr>\n",
       "      <th>3</th>\n",
       "      <td>4</td>\n",
       "      <td>0.003750</td>\n",
       "      <td>0.048750</td>\n",
       "      <td>0.125000</td>\n",
       "      <td>13164.16943</td>\n",
       "    </tr>\n",
       "    <tr>\n",
       "      <th>4</th>\n",
       "      <td>5</td>\n",
       "      <td>0.003938</td>\n",
       "      <td>0.048750</td>\n",
       "      <td>0.112500</td>\n",
       "      <td>13159.98718</td>\n",
       "    </tr>\n",
       "    <tr>\n",
       "      <th>5</th>\n",
       "      <td>6</td>\n",
       "      <td>0.003844</td>\n",
       "      <td>0.048750</td>\n",
       "      <td>0.106250</td>\n",
       "      <td>13158.71115</td>\n",
       "    </tr>\n",
       "    <tr>\n",
       "      <th>6</th>\n",
       "      <td>7</td>\n",
       "      <td>0.003891</td>\n",
       "      <td>0.049219</td>\n",
       "      <td>0.103125</td>\n",
       "      <td>13157.58357</td>\n",
       "    </tr>\n",
       "    <tr>\n",
       "      <th>7</th>\n",
       "      <td>8</td>\n",
       "      <td>0.003867</td>\n",
       "      <td>0.049219</td>\n",
       "      <td>0.101562</td>\n",
       "      <td>13157.25843</td>\n",
       "    </tr>\n",
       "    <tr>\n",
       "      <th>8</th>\n",
       "      <td>9</td>\n",
       "      <td>0.003867</td>\n",
       "      <td>0.049102</td>\n",
       "      <td>0.100781</td>\n",
       "      <td>13157.07167</td>\n",
       "    </tr>\n",
       "    <tr>\n",
       "      <th>9</th>\n",
       "      <td>10</td>\n",
       "      <td>0.003873</td>\n",
       "      <td>0.049102</td>\n",
       "      <td>0.100391</td>\n",
       "      <td>13156.99510</td>\n",
       "    </tr>\n",
       "    <tr>\n",
       "      <th>10</th>\n",
       "      <td>11</td>\n",
       "      <td>0.003873</td>\n",
       "      <td>0.049102</td>\n",
       "      <td>0.100195</td>\n",
       "      <td>13156.95771</td>\n",
       "    </tr>\n",
       "    <tr>\n",
       "      <th>11</th>\n",
       "      <td>12</td>\n",
       "      <td>0.003872</td>\n",
       "      <td>0.049102</td>\n",
       "      <td>0.100098</td>\n",
       "      <td>13156.93892</td>\n",
       "    </tr>\n",
       "    <tr>\n",
       "      <th>12</th>\n",
       "      <td>13</td>\n",
       "      <td>0.003872</td>\n",
       "      <td>0.049109</td>\n",
       "      <td>0.100049</td>\n",
       "      <td>13156.92951</td>\n",
       "    </tr>\n",
       "    <tr>\n",
       "      <th>13</th>\n",
       "      <td>14</td>\n",
       "      <td>0.003872</td>\n",
       "      <td>0.049105</td>\n",
       "      <td>0.100024</td>\n",
       "      <td>13156.92484</td>\n",
       "    </tr>\n",
       "    <tr>\n",
       "      <th>14</th>\n",
       "      <td>15</td>\n",
       "      <td>0.003871</td>\n",
       "      <td>0.049107</td>\n",
       "      <td>0.100012</td>\n",
       "      <td>13156.92250</td>\n",
       "    </tr>\n",
       "    <tr>\n",
       "      <th>15</th>\n",
       "      <td>16</td>\n",
       "      <td>0.003871</td>\n",
       "      <td>0.049107</td>\n",
       "      <td>0.100006</td>\n",
       "      <td>13156.92133</td>\n",
       "    </tr>\n",
       "    <tr>\n",
       "      <th>16</th>\n",
       "      <td>17</td>\n",
       "      <td>0.003871</td>\n",
       "      <td>0.049107</td>\n",
       "      <td>0.100003</td>\n",
       "      <td>13156.92075</td>\n",
       "    </tr>\n",
       "    <tr>\n",
       "      <th>17</th>\n",
       "      <td>18</td>\n",
       "      <td>0.003871</td>\n",
       "      <td>0.049107</td>\n",
       "      <td>0.100002</td>\n",
       "      <td>13156.92046</td>\n",
       "    </tr>\n",
       "    <tr>\n",
       "      <th>18</th>\n",
       "      <td>19</td>\n",
       "      <td>0.003871</td>\n",
       "      <td>0.049107</td>\n",
       "      <td>0.100001</td>\n",
       "      <td>13156.92031</td>\n",
       "    </tr>\n",
       "    <tr>\n",
       "      <th>19</th>\n",
       "      <td>20</td>\n",
       "      <td>0.003871</td>\n",
       "      <td>0.049107</td>\n",
       "      <td>0.100000</td>\n",
       "      <td>13156.92024</td>\n",
       "    </tr>\n",
       "    <tr>\n",
       "      <th>20</th>\n",
       "      <td>21</td>\n",
       "      <td>0.003871</td>\n",
       "      <td>0.049107</td>\n",
       "      <td>0.100000</td>\n",
       "      <td>13156.92020</td>\n",
       "    </tr>\n",
       "    <tr>\n",
       "      <th>21</th>\n",
       "      <td>22</td>\n",
       "      <td>0.003871</td>\n",
       "      <td>0.049107</td>\n",
       "      <td>0.100000</td>\n",
       "      <td>13156.92018</td>\n",
       "    </tr>\n",
       "    <tr>\n",
       "      <th>22</th>\n",
       "      <td>23</td>\n",
       "      <td>0.003871</td>\n",
       "      <td>0.049107</td>\n",
       "      <td>0.100000</td>\n",
       "      <td>13156.92017</td>\n",
       "    </tr>\n",
       "    <tr>\n",
       "      <th>23</th>\n",
       "      <td>24</td>\n",
       "      <td>0.003871</td>\n",
       "      <td>0.049107</td>\n",
       "      <td>0.100000</td>\n",
       "      <td>13156.92017</td>\n",
       "    </tr>\n",
       "    <tr>\n",
       "      <th>24</th>\n",
       "      <td>25</td>\n",
       "      <td>0.003871</td>\n",
       "      <td>0.049107</td>\n",
       "      <td>0.100000</td>\n",
       "      <td>13156.92017</td>\n",
       "    </tr>\n",
       "    <tr>\n",
       "      <th>25</th>\n",
       "      <td>26</td>\n",
       "      <td>0.003871</td>\n",
       "      <td>0.049107</td>\n",
       "      <td>0.100000</td>\n",
       "      <td>13156.92016</td>\n",
       "    </tr>\n",
       "    <tr>\n",
       "      <th>26</th>\n",
       "      <td>27</td>\n",
       "      <td>0.003871</td>\n",
       "      <td>0.049107</td>\n",
       "      <td>0.100000</td>\n",
       "      <td>13156.92016</td>\n",
       "    </tr>\n",
       "    <tr>\n",
       "      <th>27</th>\n",
       "      <td>28</td>\n",
       "      <td>0.003871</td>\n",
       "      <td>0.049107</td>\n",
       "      <td>0.100000</td>\n",
       "      <td>13156.92016</td>\n",
       "    </tr>\n",
       "    <tr>\n",
       "      <th>28</th>\n",
       "      <td>29</td>\n",
       "      <td>0.003871</td>\n",
       "      <td>0.049107</td>\n",
       "      <td>0.100000</td>\n",
       "      <td>13156.92016</td>\n",
       "    </tr>\n",
       "    <tr>\n",
       "      <th>29</th>\n",
       "      <td>30</td>\n",
       "      <td>0.003871</td>\n",
       "      <td>0.049107</td>\n",
       "      <td>0.100000</td>\n",
       "      <td>13156.92016</td>\n",
       "    </tr>\n",
       "    <tr>\n",
       "      <th>30</th>\n",
       "      <td>32</td>\n",
       "      <td>0.003871</td>\n",
       "      <td>0.049107</td>\n",
       "      <td>0.100000</td>\n",
       "      <td>13156.92016</td>\n",
       "    </tr>\n",
       "  </tbody>\n",
       "</table>\n",
       "</div>"
      ],
      "text/plain": [
       "    Iteration         d     sigma     theta      min_NLL\n",
       "0           1  0.003000  0.060000  0.300000  13446.11124\n",
       "1           2  0.004500  0.045000  0.200000  13274.65442\n",
       "2           3  0.003750  0.052500  0.150000  13195.83066\n",
       "3           4  0.003750  0.048750  0.125000  13164.16943\n",
       "4           5  0.003938  0.048750  0.112500  13159.98718\n",
       "5           6  0.003844  0.048750  0.106250  13158.71115\n",
       "6           7  0.003891  0.049219  0.103125  13157.58357\n",
       "7           8  0.003867  0.049219  0.101562  13157.25843\n",
       "8           9  0.003867  0.049102  0.100781  13157.07167\n",
       "9          10  0.003873  0.049102  0.100391  13156.99510\n",
       "10         11  0.003873  0.049102  0.100195  13156.95771\n",
       "11         12  0.003872  0.049102  0.100098  13156.93892\n",
       "12         13  0.003872  0.049109  0.100049  13156.92951\n",
       "13         14  0.003872  0.049105  0.100024  13156.92484\n",
       "14         15  0.003871  0.049107  0.100012  13156.92250\n",
       "15         16  0.003871  0.049107  0.100006  13156.92133\n",
       "16         17  0.003871  0.049107  0.100003  13156.92075\n",
       "17         18  0.003871  0.049107  0.100002  13156.92046\n",
       "18         19  0.003871  0.049107  0.100001  13156.92031\n",
       "19         20  0.003871  0.049107  0.100000  13156.92024\n",
       "20         21  0.003871  0.049107  0.100000  13156.92020\n",
       "21         22  0.003871  0.049107  0.100000  13156.92018\n",
       "22         23  0.003871  0.049107  0.100000  13156.92017\n",
       "23         24  0.003871  0.049107  0.100000  13156.92017\n",
       "24         25  0.003871  0.049107  0.100000  13156.92017\n",
       "25         26  0.003871  0.049107  0.100000  13156.92016\n",
       "26         27  0.003871  0.049107  0.100000  13156.92016\n",
       "27         28  0.003871  0.049107  0.100000  13156.92016\n",
       "28         29  0.003871  0.049107  0.100000  13156.92016\n",
       "29         30  0.003871  0.049107  0.100000  13156.92016\n",
       "30         32  0.003871  0.049107  0.100000  13156.92016"
      ]
     },
     "execution_count": 10,
     "metadata": {},
     "output_type": "execute_result"
    }
   ],
   "source": [
    "iterations_like = iteration_dataf\n",
    "iterations_like"
   ]
  },
  {
   "cell_type": "markdown",
   "metadata": {},
   "source": [
    "# traditional DDM run\n",
    "\n",
    "### According to Tavares et al (2017) traditional DDM model is obtained when the attentional parameter (theta) is fixed to 1 \n",
    "## Iteration (adjustment to a new grid) until the change in min NNL is <1%"
   ]
  },
  {
   "cell_type": "markdown",
   "metadata": {},
   "source": [
    "## Like condition"
   ]
  },
  {
   "cell_type": "code",
   "execution_count": 2,
   "metadata": {},
   "outputs": [
    {
     "name": "stdout",
     "output_type": "stream",
     "text": [
      "Loading experimental data...\n",
      "No convert values\n",
      "Starting grid search...\n",
      "Computing likelihoods for model (0.003, 0.03, 1)...\n",
      "Computing likelihoods for model (0.003, 0.06, 1)...\n",
      "Computing likelihoods for model (0.003, 0.09, 1)...\n",
      "Computing likelihoods for model (0.006, 0.03, 1)...\n",
      "Computing likelihoods for model (0.006, 0.06, 1)...\n",
      "Computing likelihoods for model (0.006, 0.09, 1)...\n",
      "Computing likelihoods for model (0.009, 0.03, 1)...\n",
      "Computing likelihoods for model (0.009, 0.06, 1)...\n",
      "Computing likelihoods for model (0.009, 0.09, 1)...\n",
      "Finished grid search!\n",
      "Optimal d: 0.003\n",
      "Optimal sigma: 0.06\n",
      "Optimal theta: 1\n",
      "Min NLL: 13891.3708485\n",
      "PS modification to avoid calculating simulations. To undo, please uncomment last section at /Users/bdmlab/anaconda3/lib/python3.6/site-packages/addm_toolbox/addm_pta_mle.py\n",
      "Loading experimental data...\n",
      "No convert values\n",
      "Starting grid search...\n",
      "Computing likelihoods for model (0.0015, 0.045, 1)...\n",
      "Computing likelihoods for model (0.0015, 0.06, 1)...\n",
      "Computing likelihoods for model (0.0015, 0.075, 1)...\n",
      "Computing likelihoods for model (0.003, 0.045, 1)...\n",
      "Computing likelihoods for model (0.003, 0.06, 1)...\n",
      "Computing likelihoods for model (0.003, 0.075, 1)...\n",
      "Computing likelihoods for model (0.0045000000000000005, 0.045, 1)...\n",
      "Computing likelihoods for model (0.0045000000000000005, 0.06, 1)...\n",
      "Computing likelihoods for model (0.0045000000000000005, 0.075, 1)...\n",
      "Finished grid search!\n",
      "Optimal d: 0.0015\n",
      "Optimal sigma: 0.06\n",
      "Optimal theta: 1\n",
      "Min NLL: 13866.349076\n",
      "PS modification to avoid calculating simulations. To undo, please uncomment last section at /Users/bdmlab/anaconda3/lib/python3.6/site-packages/addm_toolbox/addm_pta_mle.py\n",
      "Finished iterations!!\n"
     ]
    }
   ],
   "source": [
    "iteration_data = []\n",
    "current_min_nll = 0\n",
    "previous_min_nll = 0\n",
    "\n",
    "\n",
    "# Initial grid selection\n",
    "range_d = [0.003, 0.006, 0.009]\n",
    "range_sigma = [0.03, 0.06, 0.09]\n",
    "range_theta = [1]\n",
    "\n",
    "#data files definition\n",
    "trials_file_name = None\n",
    "expdata_file_name = '/Users/bdmlab/OneDrive - University College London/PhD Projects/GiTs/FF2018/InputData/expdata_FFA_Like_v2.csv'\n",
    "fixations_file_name = '/Users/bdmlab/OneDrive - University College London/PhD Projects/GiTs/FF2018/InputData/fixations_FFA_Like_v2.csv'\n",
    "trials_per_subject = 120\n",
    "simulations_per_condition = 300\n",
    "\n",
    "iter_num = 1\n",
    "\n",
    "while ((abs(current_min_nll-previous_min_nll) > (previous_min_nll*1/100)) and ((current_min_nll-previous_min_nll)>0))  or iter_num == 1:\n",
    "    \n",
    "    if iter_num > 1:\n",
    "        delta_d = range_d[1]-range_d[0]\n",
    "        delta_sigma = range_sigma[1] - range_sigma[0]\n",
    "       # delta_theta = range_theta[1] - range_theta[0]\n",
    "        \n",
    "        range_d = [new_d - delta_d/2 , new_d ,new_d + delta_d/2]\n",
    "        range_sigma =[new_sigma - delta_sigma/2 , new_sigma ,new_sigma + delta_sigma/2]\n",
    "       # range_theta =[new_theta - delta_theta/2 , new_theta ,new_theta + delta_theta/2]\n",
    "    \n",
    "    \n",
    "    #run the toolbox\n",
    "    a = addm_pta_mle_limited.main(range_d, range_sigma, range_theta,\n",
    "                      None, \n",
    "                      expdata_file_name,\n",
    "                      fixations_file_name, \n",
    "                      trials_per_subject,simulations_per_condition, [],\n",
    "                      9, True, True,\n",
    "                      True)\n",
    "    \n",
    "    # Update the NLL values for this iteration\n",
    "    previous_min_nll = current_min_nll\n",
    "    current_min_nll = a[1]\n",
    "    \n",
    "    #get the new values\n",
    "    new_d = a[0][0]\n",
    "    new_sigma = a[0][1]\n",
    "    new_theta = a[0][2]\n",
    "    \n",
    "    iteration_data.append([iter_num,new_d, new_sigma, new_theta,current_min_nll]) \n",
    "\n",
    "    iter_num = iter_num + 1\n",
    "\n",
    "\n",
    "iteration_dataf=pd.DataFrame(iteration_data,columns=['Iteration', 'd', 'sigma', 'theta', 'min_NLL'])\n",
    "print (\"Finished iterations!!\")"
   ]
  },
  {
   "cell_type": "code",
   "execution_count": 3,
   "metadata": {},
   "outputs": [
    {
     "data": {
      "text/html": [
       "<div>\n",
       "<style scoped>\n",
       "    .dataframe tbody tr th:only-of-type {\n",
       "        vertical-align: middle;\n",
       "    }\n",
       "\n",
       "    .dataframe tbody tr th {\n",
       "        vertical-align: top;\n",
       "    }\n",
       "\n",
       "    .dataframe thead th {\n",
       "        text-align: right;\n",
       "    }\n",
       "</style>\n",
       "<table border=\"1\" class=\"dataframe\">\n",
       "  <thead>\n",
       "    <tr style=\"text-align: right;\">\n",
       "      <th></th>\n",
       "      <th>Iteration</th>\n",
       "      <th>d</th>\n",
       "      <th>sigma</th>\n",
       "      <th>theta</th>\n",
       "      <th>min_NLL</th>\n",
       "    </tr>\n",
       "  </thead>\n",
       "  <tbody>\n",
       "    <tr>\n",
       "      <th>0</th>\n",
       "      <td>1</td>\n",
       "      <td>0.0030</td>\n",
       "      <td>0.06</td>\n",
       "      <td>1</td>\n",
       "      <td>13891.370849</td>\n",
       "    </tr>\n",
       "    <tr>\n",
       "      <th>1</th>\n",
       "      <td>2</td>\n",
       "      <td>0.0015</td>\n",
       "      <td>0.06</td>\n",
       "      <td>1</td>\n",
       "      <td>13866.349076</td>\n",
       "    </tr>\n",
       "  </tbody>\n",
       "</table>\n",
       "</div>"
      ],
      "text/plain": [
       "   Iteration       d  sigma  theta       min_NLL\n",
       "0          1  0.0030   0.06      1  13891.370849\n",
       "1          2  0.0015   0.06      1  13866.349076"
      ]
     },
     "execution_count": 3,
     "metadata": {},
     "output_type": "execute_result"
    }
   ],
   "source": [
    "iterations_like_DDM1 = iteration_dataf\n",
    "iterations_like_DDM1"
   ]
  },
  {
   "cell_type": "markdown",
   "metadata": {},
   "source": [
    "## Dislike condition"
   ]
  },
  {
   "cell_type": "code",
   "execution_count": 11,
   "metadata": {},
   "outputs": [
    {
     "name": "stdout",
     "output_type": "stream",
     "text": [
      "Loading experimental data...\n",
      "No convert values\n",
      "Starting grid search...\n",
      "Computing likelihoods for model (0.003, 0.03, 1)...\n",
      "Computing likelihoods for model (0.003, 0.06, 1)...\n",
      "Computing likelihoods for model (0.003, 0.09, 1)...\n",
      "Computing likelihoods for model (0.006, 0.03, 1)...\n",
      "Computing likelihoods for model (0.006, 0.06, 1)...\n",
      "Computing likelihoods for model (0.006, 0.09, 1)...\n",
      "Computing likelihoods for model (0.009, 0.03, 1)...\n",
      "Computing likelihoods for model (0.009, 0.06, 1)...\n",
      "Computing likelihoods for model (0.009, 0.09, 1)...\n",
      "Finished grid search!\n",
      "Optimal d: 0.003\n",
      "Optimal sigma: 0.06\n",
      "Optimal theta: 1\n",
      "Min NLL: 15270.1983366\n",
      "PS modification to avoid calculating simulations. To undo, please uncomment last section at /Users/bdmlab/anaconda3/lib/python3.6/site-packages/addm_toolbox/addm_pta_mle.py\n",
      "Loading experimental data...\n",
      "No convert values\n",
      "Starting grid search...\n",
      "Computing likelihoods for model (0.0015, 0.045, 1)...\n",
      "Computing likelihoods for model (0.0015, 0.06, 1)...\n",
      "Computing likelihoods for model (0.0015, 0.075, 1)...\n",
      "Computing likelihoods for model (0.003, 0.045, 1)...\n",
      "Computing likelihoods for model (0.003, 0.06, 1)...\n",
      "Computing likelihoods for model (0.003, 0.075, 1)...\n",
      "Computing likelihoods for model (0.0045000000000000005, 0.045, 1)...\n",
      "Computing likelihoods for model (0.0045000000000000005, 0.06, 1)...\n",
      "Computing likelihoods for model (0.0045000000000000005, 0.075, 1)...\n",
      "Finished grid search!\n",
      "Optimal d: 0.0015\n",
      "Optimal sigma: 0.06\n",
      "Optimal theta: 1\n",
      "Min NLL: 14693.1711572\n",
      "PS modification to avoid calculating simulations. To undo, please uncomment last section at /Users/bdmlab/anaconda3/lib/python3.6/site-packages/addm_toolbox/addm_pta_mle.py\n",
      "Finished iterations!!\n"
     ]
    }
   ],
   "source": [
    "iteration_data = []\n",
    "current_min_nll = 0\n",
    "previous_min_nll = 0\n",
    "\n",
    "\n",
    "# Initial grid selection\n",
    "range_d = [0.003, 0.006, 0.009]\n",
    "range_sigma = [0.03, 0.06, 0.09]\n",
    "range_theta = [1]\n",
    "\n",
    "#data files definition\n",
    "trials_file_name = None\n",
    "expdata_file_name = '/Users/bdmlab/OneDrive - University College London/PhD Projects/GiTs/FF2018/InputData/expdata_FFA_Dislike_v2.csv'\n",
    "fixations_file_name = '/Users/bdmlab/OneDrive - University College London/PhD Projects/GiTs/FF2018/InputData/fixations_FFA_Dislike_v2.csv'\n",
    "trials_per_subject = 120\n",
    "simulations_per_condition = 300\n",
    "\n",
    "iter_num = 1\n",
    "\n",
    "while ((abs(current_min_nll-previous_min_nll) > (previous_min_nll*1/100)) and ((current_min_nll-previous_min_nll)>0)) or iter_num == 1:\n",
    "    \n",
    "    if iter_num > 1:\n",
    "        delta_d = range_d[1]-range_d[0]\n",
    "        delta_sigma = range_sigma[1] - range_sigma[0]\n",
    "       # delta_theta = range_theta[1] - range_theta[0]\n",
    "        \n",
    "        range_d = [new_d - delta_d/2 , new_d ,new_d + delta_d/2]\n",
    "        range_sigma =[new_sigma - delta_sigma/2 , new_sigma ,new_sigma + delta_sigma/2]\n",
    "       # range_theta =[new_theta - delta_theta/2 , new_theta ,new_theta + delta_theta/2]\n",
    "    \n",
    "    \n",
    "    #run the toolbox\n",
    "    a = addm_pta_mle_limited.main(range_d, range_sigma, range_theta,\n",
    "                      None, \n",
    "                      expdata_file_name,\n",
    "                      fixations_file_name, \n",
    "                      trials_per_subject,simulations_per_condition, [],\n",
    "                      9, True, True,\n",
    "                      True)\n",
    "    \n",
    "    # Update the NLL values for this iteration\n",
    "    previous_min_nll = current_min_nll\n",
    "    current_min_nll = a[1]\n",
    "    \n",
    "    #get the new values\n",
    "    new_d = a[0][0]\n",
    "    new_sigma = a[0][1]\n",
    "    new_theta = a[0][2]\n",
    "    \n",
    "    iteration_data.append([iter_num,new_d, new_sigma, new_theta,current_min_nll]) \n",
    "\n",
    "    iter_num = iter_num + 1\n",
    "   \n",
    "iteration_dataf=pd.DataFrame(iteration_data,columns=['Iteration', 'd', 'sigma', 'theta', 'min_NLL'])\n",
    "print (\"Finished iterations!!\")"
   ]
  },
  {
   "cell_type": "code",
   "execution_count": 12,
   "metadata": {},
   "outputs": [
    {
     "data": {
      "text/html": [
       "<div>\n",
       "<style scoped>\n",
       "    .dataframe tbody tr th:only-of-type {\n",
       "        vertical-align: middle;\n",
       "    }\n",
       "\n",
       "    .dataframe tbody tr th {\n",
       "        vertical-align: top;\n",
       "    }\n",
       "\n",
       "    .dataframe thead th {\n",
       "        text-align: right;\n",
       "    }\n",
       "</style>\n",
       "<table border=\"1\" class=\"dataframe\">\n",
       "  <thead>\n",
       "    <tr style=\"text-align: right;\">\n",
       "      <th></th>\n",
       "      <th>Iteration</th>\n",
       "      <th>d</th>\n",
       "      <th>sigma</th>\n",
       "      <th>theta</th>\n",
       "      <th>min_NLL</th>\n",
       "    </tr>\n",
       "  </thead>\n",
       "  <tbody>\n",
       "    <tr>\n",
       "      <th>0</th>\n",
       "      <td>1</td>\n",
       "      <td>0.0030</td>\n",
       "      <td>0.06</td>\n",
       "      <td>1</td>\n",
       "      <td>15270.198337</td>\n",
       "    </tr>\n",
       "    <tr>\n",
       "      <th>1</th>\n",
       "      <td>2</td>\n",
       "      <td>0.0015</td>\n",
       "      <td>0.06</td>\n",
       "      <td>1</td>\n",
       "      <td>14693.171157</td>\n",
       "    </tr>\n",
       "  </tbody>\n",
       "</table>\n",
       "</div>"
      ],
      "text/plain": [
       "   Iteration       d  sigma  theta       min_NLL\n",
       "0          1  0.0030   0.06      1  15270.198337\n",
       "1          2  0.0015   0.06      1  14693.171157"
      ]
     },
     "execution_count": 12,
     "metadata": {},
     "output_type": "execute_result"
    }
   ],
   "source": [
    "iterations_dislike_DDM1 = iteration_dataf\n",
    "iterations_dislike_DDM1"
   ]
  },
  {
   "cell_type": "markdown",
   "metadata": {},
   "source": [
    "*** \n",
    "\n",
    "# DDM model using HDDM\n",
    "\n",
    "### Additionally, HDDM (http://ski.clps.brown.edu/hddm_docs/) was used to calculate the parameters. In this case the parameters are defined in a different way than in Tavares's toolbox. \n",
    "\n",
    "The speed with which the accumulation process approaches one of the two boundaries is called drift-rate __v__ and represents the relative evidence for or against a particular response. \n",
    "\n",
    "The distance between the two boundaries (i.e. threshold **a** ) influences how much evidence must be accumulated until a response is executed. \n",
    "\n",
    "Response time, however, is not solely comprised of the decision making process – perception, movement initiation and execution all take time and are lumped in the DDM by a single non-decision time parameter __t__."
   ]
  },
  {
   "cell_type": "code",
   "execution_count": 13,
   "metadata": {},
   "outputs": [
    {
     "name": "stderr",
     "output_type": "stream",
     "text": [
      "/anaconda3/lib/python3.5/site-packages/IPython/parallel.py:13: ShimWarning: The `IPython.parallel` package has been deprecated since IPython 4.0. You should import from ipyparallel instead.\n",
      "  \"You should import from ipyparallel instead.\", ShimWarning)\n"
     ]
    }
   ],
   "source": [
    "import pandas as pd\n",
    "import matplotlib.pyplot as plt\n",
    "%matplotlib inline\n",
    "import hddm\n"
   ]
  },
  {
   "cell_type": "markdown",
   "metadata": {},
   "source": [
    "## Like condition"
   ]
  },
  {
   "cell_type": "code",
   "execution_count": 14,
   "metadata": {},
   "outputs": [],
   "source": [
    "data = hddm.load_csv('/Users/bdmlab/OneDrive - University College London/PhD Projects/GiTs/FF2018/InputData/DDM_HDDM_input/expdata_FFA_Like_DDM_v1.csv')"
   ]
  },
  {
   "cell_type": "code",
   "execution_count": 15,
   "metadata": {},
   "outputs": [],
   "source": [
    "# Instantiate model object passing it our data (no need to call flip_errors() before passing it).\n",
    "# This will tailor an individual hierarchical DDM around your dataset.\n",
    "m = hddm.HDDM(data)"
   ]
  },
  {
   "cell_type": "code",
   "execution_count": 16,
   "metadata": {},
   "outputs": [
    {
     "name": "stderr",
     "output_type": "stream",
     "text": [
      "/anaconda3/lib/python3.5/site-packages/scipy/optimize/optimize.py:1932: RuntimeWarning: invalid value encountered in absolute\n",
      "  tmp2 = numpy.abs(tmp2)\n"
     ]
    },
    {
     "name": "stdout",
     "output_type": "stream",
     "text": [
      "-9346.76793097965\n",
      "-9346.767930967557\n"
     ]
    }
   ],
   "source": [
    "# find a good starting point which helps with the convergence.\n",
    "m.find_starting_values()"
   ]
  },
  {
   "cell_type": "code",
   "execution_count": 17,
   "metadata": {},
   "outputs": [
    {
     "name": "stderr",
     "output_type": "stream",
     "text": [
      "/anaconda3/lib/python3.5/site-packages/pymc/Node.py:403: VisibleDeprecationWarning: using a non-integer number instead of an integer will result in an error in the future\n",
      "  self.__name__ = input['__name__']\n"
     ]
    },
    {
     "name": "stdout",
     "output_type": "stream",
     "text": [
      " [-----------------100%-----------------] 2000 of 2000 complete in 49.5 sec"
     ]
    },
    {
     "name": "stderr",
     "output_type": "stream",
     "text": [
      "/anaconda3/lib/python3.5/site-packages/numpy/core/fromnumeric.py:224: VisibleDeprecationWarning: using a non-integer number instead of an integer will result in an error in the future\n",
      "  return reshape(newshape, order=order)\n",
      "/anaconda3/lib/python3.5/site-packages/numpy/core/fromnumeric.py:224: VisibleDeprecationWarning: using a non-integer number instead of an integer will result in an error in the future\n",
      "  return reshape(newshape, order=order)\n",
      "/anaconda3/lib/python3.5/site-packages/numpy/core/fromnumeric.py:224: VisibleDeprecationWarning: using a non-integer number instead of an integer will result in an error in the future\n",
      "  return reshape(newshape, order=order)\n",
      "/anaconda3/lib/python3.5/site-packages/numpy/core/fromnumeric.py:224: VisibleDeprecationWarning: using a non-integer number instead of an integer will result in an error in the future\n",
      "  return reshape(newshape, order=order)\n",
      "/anaconda3/lib/python3.5/site-packages/numpy/core/fromnumeric.py:224: VisibleDeprecationWarning: using a non-integer number instead of an integer will result in an error in the future\n",
      "  return reshape(newshape, order=order)\n",
      "/anaconda3/lib/python3.5/site-packages/numpy/core/fromnumeric.py:224: VisibleDeprecationWarning: using a non-integer number instead of an integer will result in an error in the future\n",
      "  return reshape(newshape, order=order)\n"
     ]
    },
    {
     "data": {
      "text/plain": [
       "<pymc.MCMC.MCMC at 0x1a20e0f780>"
      ]
     },
     "execution_count": 17,
     "metadata": {},
     "output_type": "execute_result"
    }
   ],
   "source": [
    "# start drawing 7000 samples and discarding 5000 as burn-in\n",
    "m.sample(2000, burn=20)"
   ]
  },
  {
   "cell_type": "code",
   "execution_count": 18,
   "metadata": {},
   "outputs": [
    {
     "name": "stdout",
     "output_type": "stream",
     "text": [
      "        mean         std       2.5q        25q        50q       75q      97.5q       mc err\n",
      "a    3.78832   0.0278334    3.73456    3.76973    3.78838   3.80793    3.84208  0.000677786\n",
      "v   0.340129  0.00993594   0.320355   0.333335   0.339862  0.347031   0.359232  0.000227653\n",
      "t  0.0285532  0.00364456  0.0209365  0.0262836  0.0287596  0.030966  0.0354253  8.61214e-05\n",
      "DIC: 18680.056197\n",
      "deviance: 18677.127517\n",
      "pD: 2.928680\n",
      "Plotting a\n"
     ]
    },
    {
     "name": "stderr",
     "output_type": "stream",
     "text": [
      "/anaconda3/lib/python3.5/site-packages/numpy/core/fromnumeric.py:224: VisibleDeprecationWarning: using a non-integer number instead of an integer will result in an error in the future\n",
      "  return reshape(newshape, order=order)\n",
      "/anaconda3/lib/python3.5/site-packages/numpy/core/fromnumeric.py:224: VisibleDeprecationWarning: using a non-integer number instead of an integer will result in an error in the future\n",
      "  return reshape(newshape, order=order)\n",
      "/anaconda3/lib/python3.5/site-packages/numpy/core/fromnumeric.py:224: VisibleDeprecationWarning: using a non-integer number instead of an integer will result in an error in the future\n",
      "  return reshape(newshape, order=order)\n",
      "/anaconda3/lib/python3.5/site-packages/numpy/core/fromnumeric.py:224: VisibleDeprecationWarning: using a non-integer number instead of an integer will result in an error in the future\n",
      "  return reshape(newshape, order=order)\n",
      "/anaconda3/lib/python3.5/site-packages/numpy/core/fromnumeric.py:224: VisibleDeprecationWarning: using a non-integer number instead of an integer will result in an error in the future\n",
      "  return reshape(newshape, order=order)\n",
      "/anaconda3/lib/python3.5/site-packages/numpy/core/fromnumeric.py:224: VisibleDeprecationWarning: using a non-integer number instead of an integer will result in an error in the future\n",
      "  return reshape(newshape, order=order)\n"
     ]
    },
    {
     "name": "stdout",
     "output_type": "stream",
     "text": [
      "Plotting v\n",
      "Plotting t\n"
     ]
    },
    {
     "name": "stderr",
     "output_type": "stream",
     "text": [
      "/anaconda3/lib/python3.5/site-packages/matplotlib/axes/_axes.py:6462: UserWarning: The 'normed' kwarg is deprecated, and has been replaced by the 'density' kwarg.\n",
      "  warnings.warn(\"The 'normed' kwarg is deprecated, and has been \"\n"
     ]
    },
    {
     "data": {
      "image/png": "[encoded data removed]",
      "text/plain": [
       "<Figure size 720x432 with 3 Axes>"
      ]
     },
     "metadata": {},
     "output_type": "display_data"
    },
    {
     "data": {
      "image/png": "[encoded data removed]",
      "text/plain": [
       "<Figure size 720x432 with 3 Axes>"
      ]
     },
     "metadata": {},
     "output_type": "display_data"
    },
    {
     "data": {
      "image/png": "[encoded data removed]",
      "text/plain": [
       "<Figure size 720x432 with 3 Axes>"
      ]
     },
     "metadata": {},
     "output_type": "display_data"
    },
    {
     "data": {
      "image/png": "[encoded data removed]",
      "text/plain": [
       "<Figure size 576x432 with 1 Axes>"
      ]
     },
     "metadata": {},
     "output_type": "display_data"
    }
   ],
   "source": [
    "# Print fitted parameters and other model statistics\n",
    "m.print_stats()\n",
    "\n",
    "# Plot posterior distributions and theoretical RT distributions\n",
    "m.plot_posteriors()\n",
    "m.plot_posterior_predictive()"
   ]
  },
  {
   "cell_type": "markdown",
   "metadata": {},
   "source": [
    "## Dislike condition"
   ]
  },
  {
   "cell_type": "code",
   "execution_count": 19,
   "metadata": {},
   "outputs": [],
   "source": [
    "data = hddm.load_csv('/Users/bdmlab/OneDrive - University College London/PhD Projects/GiTs/FF2018/InputData/DDM_HDDM_input/expdata_FFA_Dislike_DDM_v1.csv')"
   ]
  },
  {
   "cell_type": "code",
   "execution_count": 20,
   "metadata": {},
   "outputs": [
    {
     "name": "stderr",
     "output_type": "stream",
     "text": [
      "/anaconda3/lib/python3.5/site-packages/scipy/optimize/optimize.py:1932: RuntimeWarning: invalid value encountered in absolute\n",
      "  tmp2 = numpy.abs(tmp2)\n"
     ]
    },
    {
     "name": "stdout",
     "output_type": "stream",
     "text": [
      "-9839.930443486577\n",
      "-9839.930439328318\n"
     ]
    },
    {
     "name": "stderr",
     "output_type": "stream",
     "text": [
      "/anaconda3/lib/python3.5/site-packages/pymc/Node.py:403: VisibleDeprecationWarning: using a non-integer number instead of an integer will result in an error in the future\n",
      "  self.__name__ = input['__name__']\n"
     ]
    },
    {
     "name": "stdout",
     "output_type": "stream",
     "text": [
      " [-----------------100%-----------------] 2000 of 2000 complete in 47.6 sec"
     ]
    },
    {
     "name": "stderr",
     "output_type": "stream",
     "text": [
      "/anaconda3/lib/python3.5/site-packages/numpy/core/fromnumeric.py:224: VisibleDeprecationWarning: using a non-integer number instead of an integer will result in an error in the future\n",
      "  return reshape(newshape, order=order)\n",
      "/anaconda3/lib/python3.5/site-packages/numpy/core/fromnumeric.py:224: VisibleDeprecationWarning: using a non-integer number instead of an integer will result in an error in the future\n",
      "  return reshape(newshape, order=order)\n",
      "/anaconda3/lib/python3.5/site-packages/numpy/core/fromnumeric.py:224: VisibleDeprecationWarning: using a non-integer number instead of an integer will result in an error in the future\n",
      "  return reshape(newshape, order=order)\n",
      "/anaconda3/lib/python3.5/site-packages/numpy/core/fromnumeric.py:224: VisibleDeprecationWarning: using a non-integer number instead of an integer will result in an error in the future\n",
      "  return reshape(newshape, order=order)\n",
      "/anaconda3/lib/python3.5/site-packages/numpy/core/fromnumeric.py:224: VisibleDeprecationWarning: using a non-integer number instead of an integer will result in an error in the future\n",
      "  return reshape(newshape, order=order)\n",
      "/anaconda3/lib/python3.5/site-packages/numpy/core/fromnumeric.py:224: VisibleDeprecationWarning: using a non-integer number instead of an integer will result in an error in the future\n",
      "  return reshape(newshape, order=order)\n"
     ]
    },
    {
     "data": {
      "text/plain": [
       "<pymc.MCMC.MCMC at 0x1a206dd9b0>"
      ]
     },
     "execution_count": 20,
     "metadata": {},
     "output_type": "execute_result"
    }
   ],
   "source": [
    "# Instantiate model object passing it our data (no need to call flip_errors() before passing it).\n",
    "# This will tailor an individual hierarchical DDM around your dataset.\n",
    "m = hddm.HDDM(data)\n",
    "\n",
    "# find a good starting point which helps with the convergence.\n",
    "m.find_starting_values()\n",
    "\n",
    "# start drawing 7000 samples and discarding 5000 as burn-in\n",
    "m.sample(2000, burn=20)"
   ]
  },
  {
   "cell_type": "code",
   "execution_count": 21,
   "metadata": {},
   "outputs": [
    {
     "name": "stdout",
     "output_type": "stream",
     "text": [
      "        mean         std       2.5q        25q        50q        75q      97.5q       mc err\n",
      "a     3.9029   0.0288039    3.84934    3.88202    3.90372    3.92277    3.95834  0.000694245\n",
      "v   0.293904  0.00964856   0.273938   0.287646   0.294073   0.300369   0.312284  0.000227991\n",
      "t  0.0826609  0.00443913  0.0735629  0.0797151  0.0828599  0.0857519  0.0905621  0.000102094\n",
      "DIC: 19671.626480\n",
      "deviance: 19668.502264\n",
      "pD: 3.124216\n",
      "Plotting a\n",
      "Plotting v\n"
     ]
    },
    {
     "name": "stderr",
     "output_type": "stream",
     "text": [
      "/anaconda3/lib/python3.5/site-packages/numpy/core/fromnumeric.py:224: VisibleDeprecationWarning: using a non-integer number instead of an integer will result in an error in the future\n",
      "  return reshape(newshape, order=order)\n",
      "/anaconda3/lib/python3.5/site-packages/numpy/core/fromnumeric.py:224: VisibleDeprecationWarning: using a non-integer number instead of an integer will result in an error in the future\n",
      "  return reshape(newshape, order=order)\n",
      "/anaconda3/lib/python3.5/site-packages/numpy/core/fromnumeric.py:224: VisibleDeprecationWarning: using a non-integer number instead of an integer will result in an error in the future\n",
      "  return reshape(newshape, order=order)\n",
      "/anaconda3/lib/python3.5/site-packages/numpy/core/fromnumeric.py:224: VisibleDeprecationWarning: using a non-integer number instead of an integer will result in an error in the future\n",
      "  return reshape(newshape, order=order)\n",
      "/anaconda3/lib/python3.5/site-packages/numpy/core/fromnumeric.py:224: VisibleDeprecationWarning: using a non-integer number instead of an integer will result in an error in the future\n",
      "  return reshape(newshape, order=order)\n",
      "/anaconda3/lib/python3.5/site-packages/numpy/core/fromnumeric.py:224: VisibleDeprecationWarning: using a non-integer number instead of an integer will result in an error in the future\n",
      "  return reshape(newshape, order=order)\n"
     ]
    },
    {
     "name": "stdout",
     "output_type": "stream",
     "text": [
      "Plotting t\n"
     ]
    },
    {
     "name": "stderr",
     "output_type": "stream",
     "text": [
      "/anaconda3/lib/python3.5/site-packages/matplotlib/axes/_axes.py:6462: UserWarning: The 'normed' kwarg is deprecated, and has been replaced by the 'density' kwarg.\n",
      "  warnings.warn(\"The 'normed' kwarg is deprecated, and has been \"\n"
     ]
    },
    {
     "data": {
      "image/png": "[encoded data removed]",
      "text/plain": [
       "<Figure size 720x432 with 3 Axes>"
      ]
     },
     "metadata": {},
     "output_type": "display_data"
    },
    {
     "data": {
      "image/png": "[encoded data removed]",
      "text/plain": [
       "<Figure size 720x432 with 3 Axes>"
      ]
     },
     "metadata": {},
     "output_type": "display_data"
    },
    {
     "data": {
      "image/png": "[encoded data removed]",
      "text/plain": [
       "<Figure size 720x432 with 3 Axes>"
      ]
     },
     "metadata": {},
     "output_type": "display_data"
    },
    {
     "data": {
      "image/png": "[encoded data removed]",
      "text/plain": [
       "<Figure size 576x432 with 1 Axes>"
      ]
     },
     "metadata": {},
     "output_type": "display_data"
    }
   ],
   "source": [
    "# Print fitted parameters and other model statistics\n",
    "m.print_stats()\n",
    "\n",
    "# Plot posterior distributions and theoretical RT distributions\n",
    "m.plot_posteriors()\n",
    "m.plot_posterior_predictive()"
   ]
  },
  {
   "cell_type": "markdown",
   "metadata": {},
   "source": [
    "# Insert aDDM model but with corrected values"
   ]
  },
  {
   "cell_type": "code",
   "execution_count": 8,
   "metadata": {},
   "outputs": [],
   "source": [
    "from __future__ import absolute_import\n",
    "import argparse\n",
    "from addm_toolbox import addm_pta_mle_FF2018\n",
    "import numpy as np\n",
    "import pandas as pd"
   ]
  },
  {
   "cell_type": "markdown",
   "metadata": {},
   "source": [
    "## Dislike Condition"
   ]
  },
  {
   "cell_type": "code",
   "execution_count": 9,
   "metadata": {},
   "outputs": [
    {
     "name": "stdout",
     "output_type": "stream",
     "text": [
      "Loading experimental data...\n",
      "No convert values\n",
      "Starting grid search...\n",
      "Computing likelihoods for model (0.003, 0.03, 0.3)...\n",
      "Computing likelihoods for model (0.003, 0.03, 0.5)...\n",
      "Computing likelihoods for model (0.003, 0.03, 0.7)...\n",
      "Computing likelihoods for model (0.003, 0.06, 0.3)...\n",
      "Computing likelihoods for model (0.003, 0.06, 0.5)...\n",
      "Computing likelihoods for model (0.003, 0.06, 0.7)...\n",
      "Computing likelihoods for model (0.003, 0.09, 0.3)...\n",
      "Computing likelihoods for model (0.003, 0.09, 0.5)...\n",
      "Computing likelihoods for model (0.003, 0.09, 0.7)...\n",
      "Computing likelihoods for model (0.006, 0.03, 0.3)...\n",
      "Computing likelihoods for model (0.006, 0.03, 0.5)...\n",
      "Computing likelihoods for model (0.006, 0.03, 0.7)...\n",
      "Computing likelihoods for model (0.006, 0.06, 0.3)...\n",
      "Computing likelihoods for model (0.006, 0.06, 0.5)...\n",
      "Computing likelihoods for model (0.006, 0.06, 0.7)...\n",
      "Computing likelihoods for model (0.006, 0.09, 0.3)...\n",
      "Computing likelihoods for model (0.006, 0.09, 0.5)...\n",
      "Computing likelihoods for model (0.006, 0.09, 0.7)...\n",
      "Computing likelihoods for model (0.009, 0.03, 0.3)...\n"
     ]
    },
    {
     "name": "stderr",
     "output_type": "stream",
     "text": [
      "/Users/pradyumna/anaconda/lib/python3.5/site-packages/addm_toolbox/addm.py:271: RuntimeWarning: invalid value encountered in true_divide\n",
      "  prStatesNew = prStatesNew * sumIn / sumCurrent\n",
      "/Users/pradyumna/anaconda/lib/python3.5/site-packages/addm_toolbox/addm.py:272: RuntimeWarning: invalid value encountered in double_scalars\n",
      "  tempUpCross = tempUpCross * sumIn / sumCurrent\n",
      "/Users/pradyumna/anaconda/lib/python3.5/site-packages/addm_toolbox/addm.py:273: RuntimeWarning: invalid value encountered in double_scalars\n",
      "  tempDownCross = tempDownCross * sumIn / sumCurrent\n"
     ]
    },
    {
     "name": "stdout",
     "output_type": "stream",
     "text": [
      "Computing likelihoods for model (0.009, 0.03, 0.5)...\n"
     ]
    },
    {
     "name": "stderr",
     "output_type": "stream",
     "text": [
      "/Users/pradyumna/anaconda/lib/python3.5/site-packages/addm_toolbox/addm.py:271: RuntimeWarning: invalid value encountered in true_divide\n",
      "  prStatesNew = prStatesNew * sumIn / sumCurrent\n",
      "/Users/pradyumna/anaconda/lib/python3.5/site-packages/addm_toolbox/addm.py:272: RuntimeWarning: invalid value encountered in double_scalars\n",
      "  tempUpCross = tempUpCross * sumIn / sumCurrent\n",
      "/Users/pradyumna/anaconda/lib/python3.5/site-packages/addm_toolbox/addm.py:273: RuntimeWarning: invalid value encountered in double_scalars\n",
      "  tempDownCross = tempDownCross * sumIn / sumCurrent\n",
      "/Users/pradyumna/anaconda/lib/python3.5/site-packages/addm_toolbox/addm.py:271: RuntimeWarning: invalid value encountered in true_divide\n",
      "  prStatesNew = prStatesNew * sumIn / sumCurrent\n",
      "/Users/pradyumna/anaconda/lib/python3.5/site-packages/addm_toolbox/addm.py:272: RuntimeWarning: invalid value encountered in double_scalars\n",
      "  tempUpCross = tempUpCross * sumIn / sumCurrent\n",
      "/Users/pradyumna/anaconda/lib/python3.5/site-packages/addm_toolbox/addm.py:273: RuntimeWarning: invalid value encountered in double_scalars\n",
      "  tempDownCross = tempDownCross * sumIn / sumCurrent\n"
     ]
    },
    {
     "name": "stdout",
     "output_type": "stream",
     "text": [
      "Computing likelihoods for model (0.009, 0.03, 0.7)...\n"
     ]
    },
    {
     "name": "stderr",
     "output_type": "stream",
     "text": [
      "/Users/pradyumna/anaconda/lib/python3.5/site-packages/addm_toolbox/addm.py:271: RuntimeWarning: invalid value encountered in true_divide\n",
      "  prStatesNew = prStatesNew * sumIn / sumCurrent\n",
      "/Users/pradyumna/anaconda/lib/python3.5/site-packages/addm_toolbox/addm.py:272: RuntimeWarning: invalid value encountered in double_scalars\n",
      "  tempUpCross = tempUpCross * sumIn / sumCurrent\n",
      "/Users/pradyumna/anaconda/lib/python3.5/site-packages/addm_toolbox/addm.py:273: RuntimeWarning: invalid value encountered in double_scalars\n",
      "  tempDownCross = tempDownCross * sumIn / sumCurrent\n",
      "/Users/pradyumna/anaconda/lib/python3.5/site-packages/addm_toolbox/addm.py:271: RuntimeWarning: invalid value encountered in true_divide\n",
      "  prStatesNew = prStatesNew * sumIn / sumCurrent\n",
      "/Users/pradyumna/anaconda/lib/python3.5/site-packages/addm_toolbox/addm.py:272: RuntimeWarning: invalid value encountered in double_scalars\n",
      "  tempUpCross = tempUpCross * sumIn / sumCurrent\n",
      "/Users/pradyumna/anaconda/lib/python3.5/site-packages/addm_toolbox/addm.py:273: RuntimeWarning: invalid value encountered in double_scalars\n",
      "  tempDownCross = tempDownCross * sumIn / sumCurrent\n"
     ]
    },
    {
     "name": "stdout",
     "output_type": "stream",
     "text": [
      "Computing likelihoods for model (0.009, 0.06, 0.3)...\n",
      "Computing likelihoods for model (0.009, 0.06, 0.5)...\n",
      "Computing likelihoods for model (0.009, 0.06, 0.7)...\n",
      "Computing likelihoods for model (0.009, 0.09, 0.3)...\n",
      "Computing likelihoods for model (0.009, 0.09, 0.5)...\n",
      "Computing likelihoods for model (0.009, 0.09, 0.7)...\n"
     ]
    },
    {
     "name": "stderr",
     "output_type": "stream",
     "text": [
      "/Users/pradyumna/anaconda/lib/python3.5/site-packages/addm_toolbox/addm_pta_mle_FF2018.py:136: RuntimeWarning: divide by zero encountered in log\n",
      "  NLL[model.params] = - np.sum(np.log(likelihoods[model.params]))\n"
     ]
    },
    {
     "name": "stdout",
     "output_type": "stream",
     "text": [
      "Finished grid search!\n",
      "Optimal d: 0.003\n",
      "Optimal sigma: 0.06\n",
      "Optimal theta: 0.3\n",
      "Min NLL: 16282.8009536\n",
      "Loading experimental data...\n",
      "No convert values\n",
      "Starting grid search...\n",
      "Computing likelihoods for model (0.0015, 0.045, 0.19999999999999998)...\n",
      "Computing likelihoods for model (0.0015, 0.045, 0.3)...\n",
      "Computing likelihoods for model (0.0015, 0.045, 0.4)...\n",
      "Computing likelihoods for model (0.0015, 0.06, 0.19999999999999998)...\n",
      "Computing likelihoods for model (0.0015, 0.06, 0.3)...\n",
      "Computing likelihoods for model (0.0015, 0.06, 0.4)...\n",
      "Computing likelihoods for model (0.0015, 0.075, 0.19999999999999998)...\n",
      "Computing likelihoods for model (0.0015, 0.075, 0.3)...\n",
      "Computing likelihoods for model (0.0015, 0.075, 0.4)...\n",
      "Computing likelihoods for model (0.003, 0.045, 0.19999999999999998)...\n",
      "Computing likelihoods for model (0.003, 0.045, 0.3)...\n",
      "Computing likelihoods for model (0.003, 0.045, 0.4)...\n",
      "Computing likelihoods for model (0.003, 0.06, 0.19999999999999998)...\n",
      "Computing likelihoods for model (0.003, 0.06, 0.3)...\n",
      "Computing likelihoods for model (0.003, 0.06, 0.4)...\n",
      "Computing likelihoods for model (0.003, 0.075, 0.19999999999999998)...\n",
      "Computing likelihoods for model (0.003, 0.075, 0.3)...\n",
      "Computing likelihoods for model (0.003, 0.075, 0.4)...\n",
      "Computing likelihoods for model (0.0045000000000000005, 0.045, 0.19999999999999998)...\n",
      "Computing likelihoods for model (0.0045000000000000005, 0.045, 0.3)...\n",
      "Computing likelihoods for model (0.0045000000000000005, 0.045, 0.4)...\n",
      "Computing likelihoods for model (0.0045000000000000005, 0.06, 0.19999999999999998)...\n",
      "Computing likelihoods for model (0.0045000000000000005, 0.06, 0.3)...\n",
      "Computing likelihoods for model (0.0045000000000000005, 0.06, 0.4)...\n",
      "Computing likelihoods for model (0.0045000000000000005, 0.075, 0.19999999999999998)...\n",
      "Computing likelihoods for model (0.0045000000000000005, 0.075, 0.3)...\n",
      "Computing likelihoods for model (0.0045000000000000005, 0.075, 0.4)...\n",
      "Finished grid search!\n",
      "Optimal d: 0.0015\n",
      "Optimal sigma: 0.06\n",
      "Optimal theta: 0.19999999999999998\n",
      "Min NLL: 14512.7434448\n",
      "Finished iterations!!\n"
     ]
    }
   ],
   "source": [
    "iteration_data = []\n",
    "current_min_nll = 0\n",
    "previous_min_nll = 0\n",
    "\n",
    "\n",
    "# Initial grid selection\n",
    "range_d = [0.003, 0.006, 0.009]\n",
    "range_sigma = [0.03, 0.06, 0.09]\n",
    "range_theta = [0.3, 0.5, 0.7]\n",
    "\n",
    "#data files definition\n",
    "trials_file_name = None\n",
    "#expdata_file_name = '/Users/bdmlab/OneDrive - University College London/PhD Projects/GiTs/FF2018/InputData/expdata_FFA_Like_v2.csv'\n",
    "#fixations_file_name = '/Users/bdmlab/OneDrive - University College London/PhD Projects/GiTs/FF2018/InputData/fixations_FFA_Like_v2.csv'\n",
    "\n",
    "expdata_file_name = '/Users/pradyumna/Documents/gitDocs/FF2018/InputData/expdata_collapsed_FFA_Dislike_v2.csv'\n",
    "fixations_file_name = '/Users/pradyumna/Documents/gitDocs/FF2018/InputData/fixations_collapsed_FFA_Dislike_v2.csv'\n",
    "\n",
    "\n",
    "\n",
    "trials_per_subject = 120\n",
    "simulations_per_condition = 300\n",
    "\n",
    "iter_num = 1\n",
    "\n",
    "while ((abs(current_min_nll-previous_min_nll) > (previous_min_nll*1/100)) and ((current_min_nll-previous_min_nll)>0)) or iter_num == 1:\n",
    "    \n",
    "    if iter_num > 1:\n",
    "        delta_d = range_d[1]-range_d[0]\n",
    "        delta_sigma = range_sigma[1] - range_sigma[0]\n",
    "        delta_theta = range_theta[1] - range_theta[0]\n",
    "        \n",
    "        range_d = [new_d - delta_d/2 , new_d ,new_d + delta_d/2]\n",
    "        range_sigma =[new_sigma - delta_sigma/2 , new_sigma ,new_sigma + delta_sigma/2]\n",
    "        range_theta =[new_theta - delta_theta/2 , new_theta ,new_theta + delta_theta/2]\n",
    "    \n",
    "    \n",
    "    #run the toolbox\n",
    "    a = addm_pta_mle_FF2018.main(range_d, range_sigma, range_theta,\n",
    "                      None, \n",
    "                      expdata_file_name,\n",
    "                      fixations_file_name, \n",
    "                      trials_per_subject,simulations_per_condition, [],\n",
    "                      9, True, True,\n",
    "                      True)\n",
    "    \n",
    "    # Update the NLL values for this iteration\n",
    "    previous_min_nll = current_min_nll\n",
    "    current_min_nll = a[1]\n",
    "    \n",
    "    #get the new values\n",
    "    new_d = a[0][0]\n",
    "    new_sigma = a[0][1]\n",
    "    new_theta = a[0][2]\n",
    "    \n",
    "    iteration_data.append([iter_num,new_d, new_sigma, new_theta,current_min_nll]) \n",
    "\n",
    "    iter_num = iter_num + 1\n",
    "\n",
    "\n",
    "\n",
    "    \n",
    "    \n",
    "iteration_dataf=pd.DataFrame(iteration_data,columns=['Iteration', 'd', 'sigma', 'theta', 'min_NLL'])\n",
    "print (\"Finished iterations!!\")\n",
    "\n"
   ]
  },
  {
   "cell_type": "code",
   "execution_count": 12,
   "metadata": {},
   "outputs": [
    {
     "data": {
      "text/html": [
       "<div>\n",
       "<style>\n",
       "    .dataframe thead tr:only-child th {\n",
       "        text-align: right;\n",
       "    }\n",
       "\n",
       "    .dataframe thead th {\n",
       "        text-align: left;\n",
       "    }\n",
       "\n",
       "    .dataframe tbody tr th {\n",
       "        vertical-align: top;\n",
       "    }\n",
       "</style>\n",
       "<table border=\"1\" class=\"dataframe\">\n",
       "  <thead>\n",
       "    <tr style=\"text-align: right;\">\n",
       "      <th></th>\n",
       "      <th>Iteration</th>\n",
       "      <th>d</th>\n",
       "      <th>sigma</th>\n",
       "      <th>theta</th>\n",
       "      <th>min_NLL</th>\n",
       "    </tr>\n",
       "  </thead>\n",
       "  <tbody>\n",
       "    <tr>\n",
       "      <th>0</th>\n",
       "      <td>1</td>\n",
       "      <td>0.0030</td>\n",
       "      <td>0.06</td>\n",
       "      <td>0.3</td>\n",
       "      <td>14703.588717</td>\n",
       "    </tr>\n",
       "    <tr>\n",
       "      <th>1</th>\n",
       "      <td>2</td>\n",
       "      <td>0.0015</td>\n",
       "      <td>0.06</td>\n",
       "      <td>0.2</td>\n",
       "      <td>13672.661850</td>\n",
       "    </tr>\n",
       "  </tbody>\n",
       "</table>\n",
       "</div>"
      ],
      "text/plain": [
       "   Iteration       d  sigma  theta       min_NLL\n",
       "0          1  0.0030   0.06    0.3  14703.588717\n",
       "1          2  0.0015   0.06    0.2  13672.661850"
      ]
     },
     "execution_count": 12,
     "metadata": {},
     "output_type": "execute_result"
    }
   ],
   "source": [
    "iterations_dislike = iteration_dataf\n",
    "iterations_dislike"
   ]
  },
  {
   "cell_type": "markdown",
   "metadata": {},
   "source": [
    "## Like Condition"
   ]
  },
  {
   "cell_type": "code",
   "execution_count": 11,
   "metadata": {},
   "outputs": [
    {
     "name": "stdout",
     "output_type": "stream",
     "text": [
      "Loading experimental data...\n",
      "No convert values\n",
      "Starting grid search...\n",
      "Computing likelihoods for model (0.003, 0.03, 0.3)...\n",
      "Computing likelihoods for model (0.003, 0.03, 0.5)...\n",
      "Computing likelihoods for model (0.003, 0.03, 0.7)...\n",
      "Computing likelihoods for model (0.003, 0.06, 0.3)...\n",
      "Computing likelihoods for model (0.003, 0.06, 0.5)...\n",
      "Computing likelihoods for model (0.003, 0.06, 0.7)...\n",
      "Computing likelihoods for model (0.003, 0.09, 0.3)...\n",
      "Computing likelihoods for model (0.003, 0.09, 0.5)...\n",
      "Computing likelihoods for model (0.003, 0.09, 0.7)...\n",
      "Computing likelihoods for model (0.006, 0.03, 0.3)...\n",
      "Computing likelihoods for model (0.006, 0.03, 0.5)...\n",
      "Computing likelihoods for model (0.006, 0.03, 0.7)...\n",
      "Computing likelihoods for model (0.006, 0.06, 0.3)...\n",
      "Computing likelihoods for model (0.006, 0.06, 0.5)...\n",
      "Computing likelihoods for model (0.006, 0.06, 0.7)...\n",
      "Computing likelihoods for model (0.006, 0.09, 0.3)...\n",
      "Computing likelihoods for model (0.006, 0.09, 0.5)...\n",
      "Computing likelihoods for model (0.006, 0.09, 0.7)...\n",
      "Computing likelihoods for model (0.009, 0.03, 0.3)...\n"
     ]
    },
    {
     "name": "stderr",
     "output_type": "stream",
     "text": [
      "/Users/pradyumna/anaconda/lib/python3.5/site-packages/addm_toolbox/addm.py:271: RuntimeWarning: invalid value encountered in true_divide\n",
      "  prStatesNew = prStatesNew * sumIn / sumCurrent\n",
      "/Users/pradyumna/anaconda/lib/python3.5/site-packages/addm_toolbox/addm.py:272: RuntimeWarning: invalid value encountered in double_scalars\n",
      "  tempUpCross = tempUpCross * sumIn / sumCurrent\n",
      "/Users/pradyumna/anaconda/lib/python3.5/site-packages/addm_toolbox/addm.py:273: RuntimeWarning: invalid value encountered in double_scalars\n",
      "  tempDownCross = tempDownCross * sumIn / sumCurrent\n"
     ]
    },
    {
     "name": "stdout",
     "output_type": "stream",
     "text": [
      "Computing likelihoods for model (0.009, 0.03, 0.5)...\n",
      "Computing likelihoods for model (0.009, 0.03, 0.7)...\n"
     ]
    },
    {
     "name": "stderr",
     "output_type": "stream",
     "text": [
      "/Users/pradyumna/anaconda/lib/python3.5/site-packages/addm_toolbox/addm.py:271: RuntimeWarning: invalid value encountered in true_divide\n",
      "  prStatesNew = prStatesNew * sumIn / sumCurrent\n",
      "/Users/pradyumna/anaconda/lib/python3.5/site-packages/addm_toolbox/addm.py:272: RuntimeWarning: invalid value encountered in double_scalars\n",
      "  tempUpCross = tempUpCross * sumIn / sumCurrent\n",
      "/Users/pradyumna/anaconda/lib/python3.5/site-packages/addm_toolbox/addm.py:273: RuntimeWarning: invalid value encountered in double_scalars\n",
      "  tempDownCross = tempDownCross * sumIn / sumCurrent\n"
     ]
    },
    {
     "name": "stdout",
     "output_type": "stream",
     "text": [
      "Computing likelihoods for model (0.009, 0.06, 0.3)...\n",
      "Computing likelihoods for model (0.009, 0.06, 0.5)...\n",
      "Computing likelihoods for model (0.009, 0.06, 0.7)...\n",
      "Computing likelihoods for model (0.009, 0.09, 0.3)...\n",
      "Computing likelihoods for model (0.009, 0.09, 0.5)...\n",
      "Computing likelihoods for model (0.009, 0.09, 0.7)...\n"
     ]
    },
    {
     "name": "stderr",
     "output_type": "stream",
     "text": [
      "/Users/pradyumna/anaconda/lib/python3.5/site-packages/addm_toolbox/addm_pta_mle_FF2018.py:136: RuntimeWarning: divide by zero encountered in log\n",
      "  NLL[model.params] = - np.sum(np.log(likelihoods[model.params]))\n"
     ]
    },
    {
     "name": "stdout",
     "output_type": "stream",
     "text": [
      "Finished grid search!\n",
      "Optimal d: 0.003\n",
      "Optimal sigma: 0.06\n",
      "Optimal theta: 0.3\n",
      "Min NLL: 14703.5887173\n",
      "Loading experimental data...\n",
      "No convert values\n",
      "Starting grid search...\n",
      "Computing likelihoods for model (0.0015, 0.045, 0.19999999999999998)...\n",
      "Computing likelihoods for model (0.0015, 0.045, 0.3)...\n",
      "Computing likelihoods for model (0.0015, 0.045, 0.4)...\n",
      "Computing likelihoods for model (0.0015, 0.06, 0.19999999999999998)...\n",
      "Computing likelihoods for model (0.0015, 0.06, 0.3)...\n",
      "Computing likelihoods for model (0.0015, 0.06, 0.4)...\n",
      "Computing likelihoods for model (0.0015, 0.075, 0.19999999999999998)...\n",
      "Computing likelihoods for model (0.0015, 0.075, 0.3)...\n",
      "Computing likelihoods for model (0.0015, 0.075, 0.4)...\n",
      "Computing likelihoods for model (0.003, 0.045, 0.19999999999999998)...\n",
      "Computing likelihoods for model (0.003, 0.045, 0.3)...\n",
      "Computing likelihoods for model (0.003, 0.045, 0.4)...\n",
      "Computing likelihoods for model (0.003, 0.06, 0.19999999999999998)...\n",
      "Computing likelihoods for model (0.003, 0.06, 0.3)...\n",
      "Computing likelihoods for model (0.003, 0.06, 0.4)...\n",
      "Computing likelihoods for model (0.003, 0.075, 0.19999999999999998)...\n",
      "Computing likelihoods for model (0.003, 0.075, 0.3)...\n",
      "Computing likelihoods for model (0.003, 0.075, 0.4)...\n",
      "Computing likelihoods for model (0.0045000000000000005, 0.045, 0.19999999999999998)...\n",
      "Computing likelihoods for model (0.0045000000000000005, 0.045, 0.3)...\n",
      "Computing likelihoods for model (0.0045000000000000005, 0.045, 0.4)...\n",
      "Computing likelihoods for model (0.0045000000000000005, 0.06, 0.19999999999999998)...\n",
      "Computing likelihoods for model (0.0045000000000000005, 0.06, 0.3)...\n",
      "Computing likelihoods for model (0.0045000000000000005, 0.06, 0.4)...\n",
      "Computing likelihoods for model (0.0045000000000000005, 0.075, 0.19999999999999998)...\n",
      "Computing likelihoods for model (0.0045000000000000005, 0.075, 0.3)...\n",
      "Computing likelihoods for model (0.0045000000000000005, 0.075, 0.4)...\n",
      "Finished grid search!\n",
      "Optimal d: 0.0015\n",
      "Optimal sigma: 0.06\n",
      "Optimal theta: 0.19999999999999998\n",
      "Min NLL: 13672.6618495\n",
      "Finished iterations!!\n"
     ]
    }
   ],
   "source": [
    "iteration_data = []\n",
    "current_min_nll = 0\n",
    "previous_min_nll = 0\n",
    "\n",
    "\n",
    "# Initial grid selection\n",
    "range_d = [0.003, 0.006, 0.009]\n",
    "range_sigma = [0.03, 0.06, 0.09]\n",
    "range_theta = [0.3, 0.5, 0.7]\n",
    "\n",
    "#data files definition\n",
    "trials_file_name = None\n",
    "#expdata_file_name = '/Users/bdmlab/OneDrive - University College London/PhD Projects/GiTs/FF2018/InputData/expdata_FFA_Like_v2.csv'\n",
    "#fixations_file_name = '/Users/bdmlab/OneDrive - University College London/PhD Projects/GiTs/FF2018/InputData/fixations_FFA_Like_v2.csv'\n",
    "\n",
    "expdata_file_name = '/Users/pradyumna/Documents/gitDocs/FF2018/InputData/expdata_collapsed_FFA_Like_v2.csv'\n",
    "fixations_file_name = '/Users/pradyumna/Documents/gitDocs/FF2018/InputData/fixations_collapsed_FFA_Like_v2.csv'\n",
    "\n",
    "\n",
    "\n",
    "trials_per_subject = 120\n",
    "simulations_per_condition = 300\n",
    "\n",
    "iter_num = 1\n",
    "\n",
    "while ((abs(current_min_nll-previous_min_nll) > (previous_min_nll*1/100)) and ((current_min_nll-previous_min_nll)>0)) or iter_num == 1:\n",
    "    \n",
    "    if iter_num > 1:\n",
    "        delta_d = range_d[1]-range_d[0]\n",
    "        delta_sigma = range_sigma[1] - range_sigma[0]\n",
    "        delta_theta = range_theta[1] - range_theta[0]\n",
    "        \n",
    "        range_d = [new_d - delta_d/2 , new_d ,new_d + delta_d/2]\n",
    "        range_sigma =[new_sigma - delta_sigma/2 , new_sigma ,new_sigma + delta_sigma/2]\n",
    "        range_theta =[new_theta - delta_theta/2 , new_theta ,new_theta + delta_theta/2]\n",
    "    \n",
    "    \n",
    "    #run the toolbox\n",
    "    a = addm_pta_mle_FF2018.main(range_d, range_sigma, range_theta,\n",
    "                      None, \n",
    "                      expdata_file_name,\n",
    "                      fixations_file_name, \n",
    "                      trials_per_subject,simulations_per_condition, [],\n",
    "                      9, True, True,\n",
    "                      True)\n",
    "    \n",
    "    # Update the NLL values for this iteration\n",
    "    previous_min_nll = current_min_nll\n",
    "    current_min_nll = a[1]\n",
    "    \n",
    "    #get the new values\n",
    "    new_d = a[0][0]\n",
    "    new_sigma = a[0][1]\n",
    "    new_theta = a[0][2]\n",
    "    \n",
    "    iteration_data.append([iter_num,new_d, new_sigma, new_theta,current_min_nll]) \n",
    "\n",
    "    iter_num = iter_num + 1\n",
    "\n",
    "\n",
    "\n",
    "    \n",
    "    \n",
    "iteration_dataf=pd.DataFrame(iteration_data,columns=['Iteration', 'd', 'sigma', 'theta', 'min_NLL'])\n",
    "print (\"Finished iterations!!\")\n",
    "\n"
   ]
  },
  {
   "cell_type": "code",
   "execution_count": 13,
   "metadata": {},
   "outputs": [
    {
     "data": {
      "text/html": [
       "<div>\n",
       "<style>\n",
       "    .dataframe thead tr:only-child th {\n",
       "        text-align: right;\n",
       "    }\n",
       "\n",
       "    .dataframe thead th {\n",
       "        text-align: left;\n",
       "    }\n",
       "\n",
       "    .dataframe tbody tr th {\n",
       "        vertical-align: top;\n",
       "    }\n",
       "</style>\n",
       "<table border=\"1\" class=\"dataframe\">\n",
       "  <thead>\n",
       "    <tr style=\"text-align: right;\">\n",
       "      <th></th>\n",
       "      <th>Iteration</th>\n",
       "      <th>d</th>\n",
       "      <th>sigma</th>\n",
       "      <th>theta</th>\n",
       "      <th>min_NLL</th>\n",
       "    </tr>\n",
       "  </thead>\n",
       "  <tbody>\n",
       "    <tr>\n",
       "      <th>0</th>\n",
       "      <td>1</td>\n",
       "      <td>0.0030</td>\n",
       "      <td>0.06</td>\n",
       "      <td>0.3</td>\n",
       "      <td>14703.588717</td>\n",
       "    </tr>\n",
       "    <tr>\n",
       "      <th>1</th>\n",
       "      <td>2</td>\n",
       "      <td>0.0015</td>\n",
       "      <td>0.06</td>\n",
       "      <td>0.2</td>\n",
       "      <td>13672.661850</td>\n",
       "    </tr>\n",
       "  </tbody>\n",
       "</table>\n",
       "</div>"
      ],
      "text/plain": [
       "   Iteration       d  sigma  theta       min_NLL\n",
       "0          1  0.0030   0.06    0.3  14703.588717\n",
       "1          2  0.0015   0.06    0.2  13672.661850"
      ]
     },
     "execution_count": 13,
     "metadata": {},
     "output_type": "execute_result"
    }
   ],
   "source": [
    "iterations_dislike = iteration_dataf\n",
    "iterations_dislike"
   ]
  },
  {
   "cell_type": "markdown",
   "metadata": {},
   "source": [
    "*** "
   ]
  },
  {
   "cell_type": "code",
   "execution_count": null,
   "metadata": {},
   "outputs": [],
   "source": [
    "### "
   ]
  },
  {
   "cell_type": "raw",
   "metadata": {},
   "source": [
    "<script>\n",
    "  $(document).ready(function(){\n",
    "    $('div.prompt').hide();\n",
    "    $('div.back-to-top').hide();\n",
    "    $('nav#menubar').hide();\n",
    "    $('.breadcrumb').hide();\n",
    "    $('.hidden-print').hide();\n",
    "  });\n",
    "</script>\n",
    "\n",
    "<footer id=\"attribution\" style=\"float:right; color:#999; background:#fff;\">\n",
    "Created with Jupyter, delivered by Fastly, rendered by Rackspace.\n",
    "</footer>"
   ]
  }
 ],
 "metadata": {
  "kernelspec": {
   "display_name": "Python 3",
   "language": "python",
   "name": "python3"
  },
  "language_info": {
   "codemirror_mode": {
    "name": "ipython",
    "version": 3
   },
   "file_extension": ".py",
   "mimetype": "text/x-python",
   "name": "python",
   "nbconvert_exporter": "python",
   "pygments_lexer": "ipython3",
   "version": "3.7.0"
  }
 },
 "nbformat": 4,
 "nbformat_minor": 2
}
