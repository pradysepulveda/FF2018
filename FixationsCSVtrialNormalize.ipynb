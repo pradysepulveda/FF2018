{
 "cells": [
  {
   "cell_type": "code",
   "execution_count": 223,
   "metadata": {},
   "outputs": [],
   "source": [
    "import numpy as np\n",
    "import pandas as pd\n",
    "from pandas.core.frame import DataFrame as DF\n",
    "import seaborn as sns\n",
    "sns.set(color_codes=True)\n",
    "#np.random.seed(sum(map(ord, \"distributions\")))\n",
    "from sklearn import linear_model  # packages for the logistic regression function to plot the logistic regression \n",
    "from sklearn.linear_model import LogisticRegression # packages for the logistic regression function to plot the logistic regression \n",
    "import scipy\n",
    "from scipy import stats, integrate\n",
    "from scipy.stats import mode\n",
    "from scipy.stats.stats import pearsonr # Pearson's correlation\n",
    "from copy import copy as copy\n",
    "import operator as operator\n",
    "import pylab"
   ]
  },
  {
   "cell_type": "code",
   "execution_count": 224,
   "metadata": {},
   "outputs": [],
   "source": [
    "#Input the fixation and expdat with breaks in trial numerations (due to separation in Like and Dislike conditions)\n",
    "data_fix = pd.read_csv('/Users/bdmlab/OneDrive - University College London/PhD Projects/GiTs/FF2018/InputData/fixations_FFA_Dislike_v1.csv') \n",
    "data_expData = pd.read_csv('/Users/bdmlab/OneDrive - University College London/PhD Projects/GiTs/FF2018/InputData/expdata_FFA_Dislike_v1.csv') \n",
    "\n",
    "data_expData = data_expData.apply(pd.to_numeric, errors='ignore')\n",
    "data_fix = data_fix.apply(pd.to_numeric, errors='ignore')"
   ]
  },
  {
   "cell_type": "code",
   "execution_count": 225,
   "metadata": {},
   "outputs": [],
   "source": [
    "partNums = pd.unique(data_expData[\"parcode\"])\n",
    "\n",
    "new_fix_dataframe = data_fix.iloc[0:0]\n",
    "new_expData_dataframe = data_expData.iloc[0:0]\n",
    "\n",
    "for i in partNums:\n",
    "    old_index_trial = []\n",
    "    new_index_trial = []\n",
    "    participant_trials = []\n",
    "    \n",
    "    participant_trials = data_expData.loc[data_expData['parcode'] == i]\n",
    "    part_fix_trials = data_fix.loc[data_fix['parcode'] == i]\n",
    "    \n",
    "    old_index_trial = participant_trials['trial'].values\n",
    "    new_index_trial = range(len(old_index_trial))\n",
    "    \n",
    "    for j in new_index_trial:\n",
    "           #insert new column with new trial numeration : case trialData\n",
    "            trialCol2Replace = participant_trials['trial'].replace(old_index_trial[j], new_index_trial[j])\n",
    "            participant_trials = participant_trials.drop(['trial'], axis=1)\n",
    "            participant_trials.insert(1,'trial',trialCol2Replace)\n",
    "            \n",
    "            #insert new column with new trial numeration : case Fixations\n",
    "            fixCol2Replace = part_fix_trials['trial'].replace(old_index_trial[j], new_index_trial[j]).values\n",
    "            part_fix_trials = part_fix_trials.drop(['trial'], axis=1)\n",
    "            part_fix_trials.insert(1,'trial',fixCol2Replace)\n",
    "            \n",
    "            #print (participant_trials)\n",
    "            time_trials = part_fix_trials['fix_time'].values\n",
    "            \n",
    "            ix = np.isin(time_trials, 0)\n",
    "            delete_fix_idx = np.where(ix)\n",
    "            part_fix_trials = part_fix_trials.drop(part_fix_trials.index[delete_fix_idx])\n",
    "            \n",
    "    new_fix_dataframe = pd.concat([new_fix_dataframe, part_fix_trials],sort = False)\n",
    "    new_expData_dataframe = pd.concat([new_expData_dataframe, participant_trials],sort = False)"
   ]
  },
  {
   "cell_type": "code",
   "execution_count": 226,
   "metadata": {},
   "outputs": [],
   "source": [
    "# Output the correctly numerated trials for both CSV files\n",
    "new_expData_dataframe.to_csv(\"Output/expdata_FFA_Dislike_v2.csv\",index = False)\n",
    "new_fix_dataframe.to_csv(\"Output/fixations_FFA_Dislike_v2.csv\",index = False)\n"
   ]
  },
  {
   "cell_type": "code",
   "execution_count": null,
   "metadata": {},
   "outputs": [],
   "source": []
  },
  {
   "cell_type": "code",
   "execution_count": null,
   "metadata": {},
   "outputs": [],
   "source": []
  }
 ],
 "metadata": {
  "kernelspec": {
   "display_name": "Python 3",
   "language": "python",
   "name": "python3"
  },
  "language_info": {
   "codemirror_mode": {
    "name": "ipython",
    "version": 3
   },
   "file_extension": ".py",
   "mimetype": "text/x-python",
   "name": "python",
   "nbconvert_exporter": "python",
   "pygments_lexer": "ipython3",
   "version": "3.6.5"
  }
 },
 "nbformat": 4,
 "nbformat_minor": 2
}
