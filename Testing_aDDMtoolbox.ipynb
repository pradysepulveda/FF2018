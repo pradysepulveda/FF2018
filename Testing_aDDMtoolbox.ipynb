{
 "cells": [
  {
   "cell_type": "code",
   "execution_count": 1,
   "metadata": {},
   "outputs": [],
   "source": [
    "from __future__ import absolute_import\n",
    "import argparse\n",
    "import addm_toolbox \n",
    "import numpy as np\n",
    "import pandas as pd\n",
    "import os\n",
    "\n",
    "import pkg_resources\n"
   ]
  },
  {
   "cell_type": "code",
   "execution_count": 2,
   "metadata": {},
   "outputs": [],
   "source": [
    "subjectIds = [1]\n",
    "subjectIds = ([str(subj) for subj in subjectIds] if subjectIds\n",
    "                  else list(data))\n",
    "trialsPerSubject = 120\n"
   ]
  },
  {
   "cell_type": "code",
   "execution_count": 3,
   "metadata": {},
   "outputs": [],
   "source": [
    "\n",
    "expdata_file_name = '/Users/pradyumna/Documents/GiTs/FF2018/InputData_aDDM/aDDM_expdata_FF2018_Like_zScore_31.csv'\n",
    "fixations_file_name = '/Users/pradyumna/Documents/GiTs/FF2018/InputData_aDDM/aDDM_Fix_FF2018_Like_YesBin_31.csv'\n",
    "trials_file_name = '/Users/pradyumna/Documents/GiTs/FF2018/InputData_aDDM/trial_conditions_parcode_zScore.csv'\n",
    "\n",
    "data = addm_toolbox.util.load_data_from_csv(expdata_file_name, fixations_file_name,\n",
    "                              convertItemValues=None) # Tavares was transforming the values by default\n"
   ]
  },
  {
   "cell_type": "code",
   "execution_count": 4,
   "metadata": {},
   "outputs": [],
   "source": [
    "dataTrials = list()\n",
    "subjectIds = ([str(subj) for subj in subjectIds] if subjectIds\n",
    "              else list(data))\n",
    "for subjectId in subjectIds:\n",
    "    maxNumTrials = len(data[subjectId]) // 2\n",
    "    numTrials = (trialsPerSubject\n",
    "                 if 1 <= trialsPerSubject <= maxNumTrials\n",
    "                 else maxNumTrials)\n",
    "    trialSet = np.random.choice(\n",
    "        [trialId for trialId in range(len(data[subjectId]))\n",
    "         if trialId % 2], numTrials, replace=False)\n",
    "    dataTrials.extend([data[subjectId][t] for t in trialSet])"
   ]
  },
  {
   "cell_type": "code",
   "execution_count": 5,
   "metadata": {},
   "outputs": [
    {
     "data": {
      "text/plain": [
       "60"
      ]
     },
     "execution_count": 5,
     "metadata": {},
     "output_type": "execute_result"
    }
   ],
   "source": [
    "len(dataTrials)"
   ]
  },
  {
   "cell_type": "markdown",
   "metadata": {},
   "source": [
    "# calculate likelihoods for the model"
   ]
  },
  {
   "cell_type": "code",
   "execution_count": 6,
   "metadata": {},
   "outputs": [],
   "source": [
    "rangeD = [0.001, 0.005,0.01]\n",
    "rangeSigma = [0.01,0.05 ,0.1]\n",
    "rangeTheta = [0.1, 0.5, 0.9]"
   ]
  },
  {
   "cell_type": "code",
   "execution_count": 7,
   "metadata": {},
   "outputs": [],
   "source": [
    "models = list()\n",
    "for d in rangeD:\n",
    "    for sigma in rangeSigma:\n",
    "        for theta in rangeTheta:\n",
    "            models.append(addm_toolbox.addm_cont.aDDM(d, sigma, theta))"
   ]
  },
  {
   "cell_type": "code",
   "execution_count": 8,
   "metadata": {},
   "outputs": [],
   "source": [
    "likelihoods = dict()\n",
    "\n",
    "for model in models:\n",
    "    likelihoods[model.params] = model.parallel_get_likelihoods(\n",
    "        dataTrials, numThreads=9)"
   ]
  },
  {
   "cell_type": "code",
   "execution_count": 9,
   "metadata": {},
   "outputs": [],
   "source": [
    "NLL = dict()\n",
    "for model in models:\n",
    "      NLL[model.params] = - np.sum(np.log(likelihoods[model.params]))\n",
    "optimalParams = min(NLL, key=NLL.get)"
   ]
  },
  {
   "cell_type": "code",
   "execution_count": 10,
   "metadata": {},
   "outputs": [
    {
     "data": {
      "text/plain": [
       "(0.001, 0.05, 0.9, 1)"
      ]
     },
     "execution_count": 10,
     "metadata": {},
     "output_type": "execute_result"
    }
   ],
   "source": [
    "optimalParams"
   ]
  },
  {
   "cell_type": "markdown",
   "metadata": {},
   "source": [
    "# load conditions "
   ]
  },
  {
   "cell_type": "code",
   "execution_count": 11,
   "metadata": {},
   "outputs": [],
   "source": [
    "trialsFileName = pkg_resources.resource_filename(\n",
    "            u\"addm_toolbox\", u\"data/trial_conditions.csv\")\n",
    "trialConditions = addm_toolbox.util_cont.load_trial_conditions_from_csv(trials_file_name)"
   ]
  },
  {
   "cell_type": "code",
   "execution_count": 23,
   "metadata": {},
   "outputs": [
    {
     "data": {
      "text/plain": [
       "[(1.237880962, -1.136137321),\n",
       " (-1.81442826, -0.457846383),\n",
       " (-0.457846383, 0.559590024),\n",
       " (-0.118700914, -1.81442826),\n",
       " (-1.136137321, -1.136137321),\n",
       " (1.9161719, 0.559590024),\n",
       " (-0.118700914, 0.898735493),\n",
       " (1.237880962, 1.9161719),\n",
       " (-0.118700914, -0.457846383),\n",
       " (-1.136137321, 0.898735493),\n",
       " (0.898735493, 0.898735493),\n",
       " (0.220444555, -1.136137321),\n",
       " (-0.796991852, 0.898735493),\n",
       " (-0.457846383, -1.136137321),\n",
       " (0.559590024, -0.118700914),\n",
       " (-1.136137321, -0.457846383),\n",
       " (-0.796991852, -0.457846383),\n",
       " (-0.118700914, 1.577026431),\n",
       " (-0.457846383, 0.220444555),\n",
       " (-0.457846383, 0.898735493),\n",
       " (0.898735493, -0.118700914),\n",
       " (1.237880962, 1.577026431),\n",
       " (-0.457846383, -0.118700914),\n",
       " (-0.457846383, 0.220444555),\n",
       " (0.559590024, -0.457846383),\n",
       " (-1.136137321, -1.81442826),\n",
       " (-0.796991852, 1.9161719),\n",
       " (-0.796991852, 0.898735493),\n",
       " (-0.796991852, -1.136137321),\n",
       " (0.898735493, -1.81442826),\n",
       " (0.898735493, -1.136137321),\n",
       " (0.559590024, 0.220444555),\n",
       " (0.559590024, -0.796991852),\n",
       " (0.898735493, 1.237880962),\n",
       " (1.237880962, -0.796991852),\n",
       " (0.898735493, -0.118700914),\n",
       " (-0.457846383, -0.796991852),\n",
       " (1.9161719, -0.457846383),\n",
       " (-0.118700914, -1.81442826),\n",
       " (0.898735493, 1.237880962),\n",
       " (-0.118700914, 0.898735493),\n",
       " (0.220444555, -0.457846383),\n",
       " (0.898735493, -0.457846383),\n",
       " (-0.796991852, 1.237880962),\n",
       " (1.237880962, -1.81442826),\n",
       " (-1.136137321, -1.136137321),\n",
       " (-1.136137321, -0.118700914),\n",
       " (-1.136137321, 0.898735493),\n",
       " (-1.136137321, 0.898735493),\n",
       " (-1.81442826, 0.898735493),\n",
       " (-1.81442826, -1.136137321),\n",
       " (1.237880962, 0.898735493),\n",
       " (2.594462838, -0.796991852),\n",
       " (-1.81442826, -0.118700914),\n",
       " (-0.457846383, -1.136137321),\n",
       " (-0.796991852, -0.796991852),\n",
       " (-1.81442826, -0.118700914),\n",
       " (-0.118700914, -1.136137321),\n",
       " (-1.136137321, 0.220444555),\n",
       " (-0.796991852, -0.457846383),\n",
       " (-0.118700914, 0.898735493),\n",
       " (0.898735493, -0.796991852),\n",
       " (0.898735493, 2.594462838),\n",
       " (-0.118700914, 0.220444555),\n",
       " (0.559590024, -1.136137321),\n",
       " (0.898735493, -0.118700914),\n",
       " (0.220444555, 0.898735493),\n",
       " (0.559590024, 0.898735493),\n",
       " (-0.118700914, 0.559590024),\n",
       " (0.559590024, -1.136137321),\n",
       " (0.220444555, 0.559590024),\n",
       " (-0.118700914, -0.118700914),\n",
       " (-0.796991852, -1.136137321),\n",
       " (-0.457846383, -0.118700914),\n",
       " (-0.796991852, -0.118700914),\n",
       " (-0.457846383, 1.9161719),\n",
       " (0.898735493, -1.136137321),\n",
       " (0.898735493, 0.559590024),\n",
       " (1.237880962, -0.118700914),\n",
       " (0.898735493, -0.796991852),\n",
       " (2.594462838, 0.898735493),\n",
       " (-0.796991852, -0.796991852),\n",
       " (-0.118700914, -0.457846383),\n",
       " (-1.136137321, -0.796991852),\n",
       " (-1.136137321, -0.457846383),\n",
       " (0.898735493, 0.559590024),\n",
       " (0.220444555, -0.118700914),\n",
       " (-1.136137321, 1.237880962),\n",
       " (-1.136137321, 0.559590024),\n",
       " (0.898735493, 0.898735493),\n",
       " (-0.796991852, 0.898735493),\n",
       " (-0.118700914, -0.118700914),\n",
       " (-0.118700914, 1.237880962),\n",
       " (-1.136137321, -0.457846383),\n",
       " (-0.457846383, -1.136137321),\n",
       " (0.898735493, -1.136137321),\n",
       " (1.577026431, -0.118700914),\n",
       " (1.9161719, -0.796991852),\n",
       " (0.559590024, 1.9161719),\n",
       " (0.898735493, -1.136137321),\n",
       " (0.898735493, -0.796991852),\n",
       " (1.237880962, 0.898735493),\n",
       " (-1.136137321, -0.118700914),\n",
       " (-1.136137321, -0.796991852),\n",
       " (-1.136137321, 0.898735493),\n",
       " (1.577026431, 1.237880962),\n",
       " (1.9161719, 1.237880962),\n",
       " (0.559590024, -0.457846383),\n",
       " (-0.796991852, 2.594462838),\n",
       " (-1.81442826, 1.237880962),\n",
       " (-0.457846383, -1.81442826),\n",
       " (-0.457846383, -0.796991852),\n",
       " (-0.457846383, 0.559590024),\n",
       " (-0.118700914, -1.136137321),\n",
       " (0.559590024, 0.898735493),\n",
       " (0.220444555, -0.457846383),\n",
       " (0.898735493, 0.220444555),\n",
       " (-1.136137321, 0.559590024),\n",
       " (-0.796991852, 0.559590024),\n",
       " (-0.118700914, -0.796991852),\n",
       " (0.698746441, -0.597896439)]"
      ]
     },
     "execution_count": 23,
     "metadata": {},
     "output_type": "execute_result"
    }
   ],
   "source": [
    "trialConditions"
   ]
  },
  {
   "cell_type": "code",
   "execution_count": 12,
   "metadata": {},
   "outputs": [
    {
     "data": {
      "text/plain": [
       "-1.2378809621020497"
      ]
     },
     "execution_count": 12,
     "metadata": {},
     "output_type": "execute_result"
    }
   ],
   "source": [
    "data['1'][119].valueRight"
   ]
  },
  {
   "cell_type": "code",
   "execution_count": 13,
   "metadata": {},
   "outputs": [
    {
     "data": {
      "text/plain": [
       "-1.5770264311711084"
      ]
     },
     "execution_count": 13,
     "metadata": {},
     "output_type": "execute_result"
    }
   ],
   "source": [
    "data['1'][119].valueLeft"
   ]
  },
  {
   "cell_type": "markdown",
   "metadata": {},
   "source": [
    "## get distributions"
   ]
  },
  {
   "cell_type": "code",
   "execution_count": 14,
   "metadata": {},
   "outputs": [],
   "source": [
    "fixationData =addm_toolbox.util_cont.get_empirical_distributions(\n",
    "            data, subjectIds=subjectIds, useOddTrials=False, useEvenTrials=True,\n",
    "            valueDiffs = list(range(-5,6,1)),fixDistType=u\"linear\")"
   ]
  },
  {
   "cell_type": "code",
   "execution_count": 15,
   "metadata": {},
   "outputs": [
    {
     "data": {
      "text/plain": [
       "0.847457627118644"
      ]
     },
     "execution_count": 15,
     "metadata": {},
     "output_type": "execute_result"
    }
   ],
   "source": [
    "fixationData.probFixLeftFirst"
   ]
  },
  {
   "cell_type": "code",
   "execution_count": 16,
   "metadata": {},
   "outputs": [
    {
     "data": {
      "text/plain": [
       "[(1.237880962, -1.136137321),\n",
       " (-1.81442826, -0.457846383),\n",
       " (-0.457846383, 0.559590024),\n",
       " (-0.118700914, -1.81442826),\n",
       " (-1.136137321, -1.136137321),\n",
       " (1.9161719, 0.559590024),\n",
       " (-0.118700914, 0.898735493),\n",
       " (1.237880962, 1.9161719),\n",
       " (-0.118700914, -0.457846383),\n",
       " (-1.136137321, 0.898735493),\n",
       " (0.898735493, 0.898735493),\n",
       " (0.220444555, -1.136137321),\n",
       " (-0.796991852, 0.898735493),\n",
       " (-0.457846383, -1.136137321),\n",
       " (0.559590024, -0.118700914),\n",
       " (-1.136137321, -0.457846383),\n",
       " (-0.796991852, -0.457846383),\n",
       " (-0.118700914, 1.577026431),\n",
       " (-0.457846383, 0.220444555),\n",
       " (-0.457846383, 0.898735493),\n",
       " (0.898735493, -0.118700914),\n",
       " (1.237880962, 1.577026431),\n",
       " (-0.457846383, -0.118700914),\n",
       " (-0.457846383, 0.220444555),\n",
       " (0.559590024, -0.457846383),\n",
       " (-1.136137321, -1.81442826),\n",
       " (-0.796991852, 1.9161719),\n",
       " (-0.796991852, 0.898735493),\n",
       " (-0.796991852, -1.136137321),\n",
       " (0.898735493, -1.81442826),\n",
       " (0.898735493, -1.136137321),\n",
       " (0.559590024, 0.220444555),\n",
       " (0.559590024, -0.796991852),\n",
       " (0.898735493, 1.237880962),\n",
       " (1.237880962, -0.796991852),\n",
       " (0.898735493, -0.118700914),\n",
       " (-0.457846383, -0.796991852),\n",
       " (1.9161719, -0.457846383),\n",
       " (-0.118700914, -1.81442826),\n",
       " (0.898735493, 1.237880962),\n",
       " (-0.118700914, 0.898735493),\n",
       " (0.220444555, -0.457846383),\n",
       " (0.898735493, -0.457846383),\n",
       " (-0.796991852, 1.237880962),\n",
       " (1.237880962, -1.81442826),\n",
       " (-1.136137321, -1.136137321),\n",
       " (-1.136137321, -0.118700914),\n",
       " (-1.136137321, 0.898735493),\n",
       " (-1.136137321, 0.898735493),\n",
       " (-1.81442826, 0.898735493),\n",
       " (-1.81442826, -1.136137321),\n",
       " (1.237880962, 0.898735493),\n",
       " (2.594462838, -0.796991852),\n",
       " (-1.81442826, -0.118700914),\n",
       " (-0.457846383, -1.136137321),\n",
       " (-0.796991852, -0.796991852),\n",
       " (-1.81442826, -0.118700914),\n",
       " (-0.118700914, -1.136137321),\n",
       " (-1.136137321, 0.220444555),\n",
       " (-0.796991852, -0.457846383),\n",
       " (-0.118700914, 0.898735493),\n",
       " (0.898735493, -0.796991852),\n",
       " (0.898735493, 2.594462838),\n",
       " (-0.118700914, 0.220444555),\n",
       " (0.559590024, -1.136137321),\n",
       " (0.898735493, -0.118700914),\n",
       " (0.220444555, 0.898735493),\n",
       " (0.559590024, 0.898735493),\n",
       " (-0.118700914, 0.559590024),\n",
       " (0.559590024, -1.136137321),\n",
       " (0.220444555, 0.559590024),\n",
       " (-0.118700914, -0.118700914),\n",
       " (-0.796991852, -1.136137321),\n",
       " (-0.457846383, -0.118700914),\n",
       " (-0.796991852, -0.118700914),\n",
       " (-0.457846383, 1.9161719),\n",
       " (0.898735493, -1.136137321),\n",
       " (0.898735493, 0.559590024),\n",
       " (1.237880962, -0.118700914),\n",
       " (0.898735493, -0.796991852),\n",
       " (2.594462838, 0.898735493),\n",
       " (-0.796991852, -0.796991852),\n",
       " (-0.118700914, -0.457846383),\n",
       " (-1.136137321, -0.796991852),\n",
       " (-1.136137321, -0.457846383),\n",
       " (0.898735493, 0.559590024),\n",
       " (0.220444555, -0.118700914),\n",
       " (-1.136137321, 1.237880962),\n",
       " (-1.136137321, 0.559590024),\n",
       " (0.898735493, 0.898735493),\n",
       " (-0.796991852, 0.898735493),\n",
       " (-0.118700914, -0.118700914),\n",
       " (-0.118700914, 1.237880962),\n",
       " (-1.136137321, -0.457846383),\n",
       " (-0.457846383, -1.136137321),\n",
       " (0.898735493, -1.136137321),\n",
       " (1.577026431, -0.118700914),\n",
       " (1.9161719, -0.796991852),\n",
       " (0.559590024, 1.9161719),\n",
       " (0.898735493, -1.136137321),\n",
       " (0.898735493, -0.796991852),\n",
       " (1.237880962, 0.898735493),\n",
       " (-1.136137321, -0.118700914),\n",
       " (-1.136137321, -0.796991852),\n",
       " (-1.136137321, 0.898735493),\n",
       " (1.577026431, 1.237880962),\n",
       " (1.9161719, 1.237880962),\n",
       " (0.559590024, -0.457846383),\n",
       " (-0.796991852, 2.594462838),\n",
       " (-1.81442826, 1.237880962),\n",
       " (-0.457846383, -1.81442826),\n",
       " (-0.457846383, -0.796991852),\n",
       " (-0.457846383, 0.559590024),\n",
       " (-0.118700914, -1.136137321),\n",
       " (0.559590024, 0.898735493),\n",
       " (0.220444555, -0.457846383),\n",
       " (0.898735493, 0.220444555),\n",
       " (-1.136137321, 0.559590024),\n",
       " (-0.796991852, 0.559590024),\n",
       " (-0.118700914, -0.796991852),\n",
       " (0.698746441, -0.597896439)]"
      ]
     },
     "execution_count": 16,
     "metadata": {},
     "output_type": "execute_result"
    }
   ],
   "source": [
    "trialConditions"
   ]
  },
  {
   "cell_type": "code",
   "execution_count": 17,
   "metadata": {},
   "outputs": [],
   "source": [
    "valueRight = trialConditions[0][0]\n",
    "valueLeft = trialConditions[0][1]"
   ]
  },
  {
   "cell_type": "code",
   "execution_count": 18,
   "metadata": {},
   "outputs": [
    {
     "data": {
      "text/plain": [
       "array([313, 290, 258, 230, 232, 247, 212, 215, 268, 225, 250, 299, 261,\n",
       "       238, 234, 261, 237, 229, 241, 254, 983, 209, 212, 256,   0, 229,\n",
       "       243, 214, 204, 233, 232, 244, 404, 244, 232, 252,   0, 250,   0,\n",
       "         0, 227, 215, 202,   0, 206, 231, 241, 221, 208, 188, 232, 358,\n",
       "         0, 240, 210,   0, 221, 208,   2])"
      ]
     },
     "execution_count": 18,
     "metadata": {},
     "output_type": "execute_result"
    }
   ],
   "source": [
    "fixationData.latencies"
   ]
  },
  {
   "cell_type": "code",
   "execution_count": 19,
   "metadata": {},
   "outputs": [],
   "source": [
    "simulTrials = list()"
   ]
  },
  {
   "cell_type": "code",
   "execution_count": 20,
   "metadata": {},
   "outputs": [],
   "source": [
    "simulTrials.append( model.simulate_trial(valueLeft, valueRight, fixationData))\n",
    "#print(a.valueLeft)\n",
    "#print(a.valueRight)\n",
    "#print(a.RT)\n",
    "#print (a.choice)"
   ]
  },
  {
   "cell_type": "code",
   "execution_count": 21,
   "metadata": {},
   "outputs": [
    {
     "data": {
      "text/plain": [
       "[<addm_toolbox.addm_cont.aDDMTrial at 0x7fd7d0986828>]"
      ]
     },
     "execution_count": 21,
     "metadata": {},
     "output_type": "execute_result"
    }
   ],
   "source": [
    "simulTrials"
   ]
  },
  {
   "cell_type": "markdown",
   "metadata": {},
   "source": [
    "## in this case values are still decimals"
   ]
  },
  {
   "cell_type": "code",
   "execution_count": 22,
   "metadata": {},
   "outputs": [],
   "source": [
    "addm_toolbox.util_cont.save_simulations_to_csv(simulTrials,\n",
    "                    \"simul_expdata_TEST.csv\",\n",
    "                    \"simul_fixations_TEST.csv\")"
   ]
  },
  {
   "cell_type": "code",
   "execution_count": null,
   "metadata": {},
   "outputs": [],
   "source": []
  }
 ],
 "metadata": {
  "kernelspec": {
   "display_name": "Python 3",
   "language": "python",
   "name": "python3"
  },
  "language_info": {
   "codemirror_mode": {
    "name": "ipython",
    "version": 3
   },
   "file_extension": ".py",
   "mimetype": "text/x-python",
   "name": "python",
   "nbconvert_exporter": "python",
   "pygments_lexer": "ipython3",
   "version": "3.7.3"
  }
 },
 "nbformat": 4,
 "nbformat_minor": 2
}
