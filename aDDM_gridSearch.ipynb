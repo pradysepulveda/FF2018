{
 "cells": [
  {
   "cell_type": "markdown",
   "metadata": {},
   "source": [
    "Implement the iterative step for the search of optimal parameter sets. Use of aDDM_pta_mla script from addm_toolbox (https://github.com/goptavares/aDDM-Toolbox)"
   ]
  },
  {
   "cell_type": "code",
   "execution_count": 1,
   "metadata": {},
   "outputs": [],
   "source": [
    "import subprocess \n",
    "import os\n"
   ]
  },
  {
   "cell_type": "code",
   "execution_count": 3,
   "metadata": {},
   "outputs": [
    {
     "name": "stdout",
     "output_type": "stream",
     "text": [
      "It is b'Sun Aug 19 11:00:04 BST 2018\\n'\n"
     ]
    }
   ],
   "source": [
    "time = subprocess.check_output('date')\n",
    "print ('It is', time)"
   ]
  },
  {
   "cell_type": "code",
   "execution_count": 5,
   "metadata": {},
   "outputs": [],
   "source": [
    "a =os.system('addm_pta_mle  --h')"
   ]
  },
  {
   "cell_type": "code",
   "execution_count": null,
   "metadata": {},
   "outputs": [],
   "source": []
  },
  {
   "cell_type": "code",
   "execution_count": 12,
   "metadata": {},
   "outputs": [
    {
     "data": {
      "text/plain": [
       "0"
      ]
     },
     "execution_count": 12,
     "metadata": {},
     "output_type": "execute_result"
    }
   ],
   "source": [
    "time = subprocess.Popen('addm_pta_mle', stdout=subprocess.PIPE, stderr=subprocess.PIPE)"
   ]
  },
  {
   "cell_type": "code",
   "execution_count": 8,
   "metadata": {},
   "outputs": [
    {
     "ename": "KeyboardInterrupt",
     "evalue": "",
     "output_type": "error",
     "traceback": [
      "\u001b[0;31m---------------------------------------------------------------------------\u001b[0m",
      "\u001b[0;31mKeyboardInterrupt\u001b[0m                         Traceback (most recent call last)",
      "\u001b[0;32m<ipython-input-8-e432170626f0>\u001b[0m in \u001b[0;36m<module>\u001b[0;34m()\u001b[0m\n\u001b[1;32m      1\u001b[0m \u001b[0mtime\u001b[0m \u001b[0;34m=\u001b[0m \u001b[0msubprocess\u001b[0m\u001b[0;34m.\u001b[0m\u001b[0mPopen\u001b[0m\u001b[0;34m(\u001b[0m\u001b[0;34m'addm_pta_mle'\u001b[0m\u001b[0;34m,\u001b[0m \u001b[0mstdout\u001b[0m\u001b[0;34m=\u001b[0m\u001b[0msubprocess\u001b[0m\u001b[0;34m.\u001b[0m\u001b[0mPIPE\u001b[0m\u001b[0;34m,\u001b[0m \u001b[0mstderr\u001b[0m\u001b[0;34m=\u001b[0m\u001b[0msubprocess\u001b[0m\u001b[0;34m.\u001b[0m\u001b[0mPIPE\u001b[0m\u001b[0;34m)\u001b[0m\u001b[0;34m\u001b[0m\u001b[0m\n\u001b[0;32m----> 2\u001b[0;31m \u001b[0moutput\u001b[0m\u001b[0;34m,\u001b[0m \u001b[0merr\u001b[0m \u001b[0;34m=\u001b[0m \u001b[0mtime\u001b[0m\u001b[0;34m.\u001b[0m\u001b[0mcommunicate\u001b[0m\u001b[0;34m(\u001b[0m\u001b[0;34m)\u001b[0m\u001b[0;34m\u001b[0m\u001b[0m\n\u001b[0m",
      "\u001b[0;32m~/anaconda/lib/python3.5/subprocess.py\u001b[0m in \u001b[0;36mcommunicate\u001b[0;34m(self, input, timeout)\u001b[0m\n\u001b[1;32m    801\u001b[0m \u001b[0;34m\u001b[0m\u001b[0m\n\u001b[1;32m    802\u001b[0m             \u001b[0;32mtry\u001b[0m\u001b[0;34m:\u001b[0m\u001b[0;34m\u001b[0m\u001b[0m\n\u001b[0;32m--> 803\u001b[0;31m                 \u001b[0mstdout\u001b[0m\u001b[0;34m,\u001b[0m \u001b[0mstderr\u001b[0m \u001b[0;34m=\u001b[0m \u001b[0mself\u001b[0m\u001b[0;34m.\u001b[0m\u001b[0m_communicate\u001b[0m\u001b[0;34m(\u001b[0m\u001b[0minput\u001b[0m\u001b[0;34m,\u001b[0m \u001b[0mendtime\u001b[0m\u001b[0;34m,\u001b[0m \u001b[0mtimeout\u001b[0m\u001b[0;34m)\u001b[0m\u001b[0;34m\u001b[0m\u001b[0m\n\u001b[0m\u001b[1;32m    804\u001b[0m             \u001b[0;32mfinally\u001b[0m\u001b[0;34m:\u001b[0m\u001b[0;34m\u001b[0m\u001b[0m\n\u001b[1;32m    805\u001b[0m                 \u001b[0mself\u001b[0m\u001b[0;34m.\u001b[0m\u001b[0m_communication_started\u001b[0m \u001b[0;34m=\u001b[0m \u001b[0;32mTrue\u001b[0m\u001b[0;34m\u001b[0m\u001b[0m\n",
      "\u001b[0;32m~/anaconda/lib/python3.5/subprocess.py\u001b[0m in \u001b[0;36m_communicate\u001b[0;34m(self, input, endtime, orig_timeout)\u001b[0m\n\u001b[1;32m   1454\u001b[0m                         \u001b[0;32mraise\u001b[0m \u001b[0mTimeoutExpired\u001b[0m\u001b[0;34m(\u001b[0m\u001b[0mself\u001b[0m\u001b[0;34m.\u001b[0m\u001b[0margs\u001b[0m\u001b[0;34m,\u001b[0m \u001b[0morig_timeout\u001b[0m\u001b[0;34m)\u001b[0m\u001b[0;34m\u001b[0m\u001b[0m\n\u001b[1;32m   1455\u001b[0m \u001b[0;34m\u001b[0m\u001b[0m\n\u001b[0;32m-> 1456\u001b[0;31m                     \u001b[0mready\u001b[0m \u001b[0;34m=\u001b[0m \u001b[0mselector\u001b[0m\u001b[0;34m.\u001b[0m\u001b[0mselect\u001b[0m\u001b[0;34m(\u001b[0m\u001b[0mtimeout\u001b[0m\u001b[0;34m)\u001b[0m\u001b[0;34m\u001b[0m\u001b[0m\n\u001b[0m\u001b[1;32m   1457\u001b[0m                     \u001b[0mself\u001b[0m\u001b[0;34m.\u001b[0m\u001b[0m_check_timeout\u001b[0m\u001b[0;34m(\u001b[0m\u001b[0mendtime\u001b[0m\u001b[0;34m,\u001b[0m \u001b[0morig_timeout\u001b[0m\u001b[0;34m)\u001b[0m\u001b[0;34m\u001b[0m\u001b[0m\n\u001b[1;32m   1458\u001b[0m \u001b[0;34m\u001b[0m\u001b[0m\n",
      "\u001b[0;32m~/anaconda/lib/python3.5/selectors.py\u001b[0m in \u001b[0;36mselect\u001b[0;34m(self, timeout)\u001b[0m\n\u001b[1;32m    374\u001b[0m             \u001b[0mready\u001b[0m \u001b[0;34m=\u001b[0m \u001b[0;34m[\u001b[0m\u001b[0;34m]\u001b[0m\u001b[0;34m\u001b[0m\u001b[0m\n\u001b[1;32m    375\u001b[0m             \u001b[0;32mtry\u001b[0m\u001b[0;34m:\u001b[0m\u001b[0;34m\u001b[0m\u001b[0m\n\u001b[0;32m--> 376\u001b[0;31m                 \u001b[0mfd_event_list\u001b[0m \u001b[0;34m=\u001b[0m \u001b[0mself\u001b[0m\u001b[0;34m.\u001b[0m\u001b[0m_poll\u001b[0m\u001b[0;34m.\u001b[0m\u001b[0mpoll\u001b[0m\u001b[0;34m(\u001b[0m\u001b[0mtimeout\u001b[0m\u001b[0;34m)\u001b[0m\u001b[0;34m\u001b[0m\u001b[0m\n\u001b[0m\u001b[1;32m    377\u001b[0m             \u001b[0;32mexcept\u001b[0m \u001b[0mInterruptedError\u001b[0m\u001b[0;34m:\u001b[0m\u001b[0;34m\u001b[0m\u001b[0m\n\u001b[1;32m    378\u001b[0m                 \u001b[0;32mreturn\u001b[0m \u001b[0mready\u001b[0m\u001b[0;34m\u001b[0m\u001b[0m\n",
      "\u001b[0;31mKeyboardInterrupt\u001b[0m: "
     ]
    }
   ],
   "source": [
    "time = subprocess.Popen('addm_pta_mle', stdout=subprocess.PIPE, stderr=subprocess.PIPE)\n",
    "output, err = time.communicate()"
   ]
  },
  {
   "cell_type": "code",
   "execution_count": 6,
   "metadata": {},
   "outputs": [
    {
     "data": {
      "text/plain": [
       "b'Fri Aug 17 17:57:47 BST 2018\\n'"
      ]
     },
     "execution_count": 6,
     "metadata": {},
     "output_type": "execute_result"
    }
   ],
   "source": [
    "output"
   ]
  },
  {
   "cell_type": "code",
   "execution_count": null,
   "metadata": {},
   "outputs": [],
   "source": []
  },
  {
   "cell_type": "code",
   "execution_count": null,
   "metadata": {},
   "outputs": [],
   "source": []
  },
  {
   "cell_type": "code",
   "execution_count": 3,
   "metadata": {},
   "outputs": [],
   "source": [
    "from __future__ import absolute_import\n",
    "\n",
    "import argparse\n",
    "\n",
    "from addm_toolbox import addm_pta_mle"
   ]
  },
  {
   "cell_type": "code",
   "execution_count": 12,
   "metadata": {},
   "outputs": [
    {
     "data": {
      "text/plain": [
       "_StoreTrueAction(option_strings=['--verbose'], dest='verbose', nargs=0, const=True, default=False, type=None, choices=None, help='Increase output verbosity.', metavar=None)"
      ]
     },
     "execution_count": 12,
     "metadata": {},
     "output_type": "execute_result"
    }
   ],
   "source": [
    "parser = argparse.ArgumentParser()\n",
    "parser.add_argument(u\"--range-d\", nargs=u\"+\", type=float,\n",
    "                    default=[0.003, 0.006, 0.009],\n",
    "                    help=u\"Search range for parameter d.\")\n",
    "parser.add_argument(u\"--range-sigma\", nargs=u\"+\", type=float,\n",
    "                    default=[0.03, 0.06, 0.09],\n",
    "                    help=u\"Search range for parameter sigma.\")\n",
    "parser.add_argument(u\"--range-theta\", nargs=u\"+\", type=float,\n",
    "                    default=[0.3, 0.5, 0.7],\n",
    "                    help=u\"Search range for parameter theta.\")\n",
    "parser.add_argument(u\"--trials-file-name\", type=str, default=None,\n",
    "                    help=u\"Path of trial conditions file.\")\n",
    "parser.add_argument(u\"--expdata-file-name\", type=str, default=None,\n",
    "                    help=u\"Path of experimental data file.\")\n",
    "parser.add_argument(u\"--fixations-file-name\", type=str, default=None,\n",
    "                    help=u\"Path of fixations file.\")\n",
    "parser.add_argument(u\"--trials-per-subject\", type=int, default=100,\n",
    "                    help=u\"Number of trials from each subject to be used \"\n",
    "                    \"in the analysis; if smaller than 1, all trials are \"\n",
    "                    \"used.\")\n",
    "parser.add_argument(u\"--simulations-per-condition\", type=int,\n",
    "                    default=800, help=u\"Number of simulations to be generated \"\n",
    "                    \"per trial condition.\")\n",
    "parser.add_argument(u\"--subject-ids\", nargs=u\"+\", type=str, default=[],\n",
    "                    help=u\"List of subject ids. If not provided, all \"\n",
    "                    \"existing subjects will be used.\")\n",
    "parser.add_argument(u\"--num-threads\", type=int, default=9,\n",
    "                    help=u\"Size of the thread pool.\")\n",
    "parser.add_argument(u\"--save-simulations\", default=False,\n",
    "                    action=u\"store_true\", help=u\"Save simulations to CSV.\")\n",
    "parser.add_argument(u\"--save-figures\", default=False,\n",
    "                    action=u\"store_true\", help=u\"Save figures comparing \"\n",
    "                    \"choice and RT curves for data and simulations.\")\n",
    "parser.add_argument(u\"--verbose\", default=False, action=u\"store_true\",\n",
    "                    help=u\"Increase output verbosity.\")"
   ]
  },
  {
   "cell_type": "code",
   "execution_count": 15,
   "metadata": {},
   "outputs": [
    {
     "name": "stdout",
     "output_type": "stream",
     "text": [
      "ArgumentParser(prog='ipykernel_launcher.py', usage=None, description=None, formatter_class=<class 'argparse.HelpFormatter'>, conflict_handler='error', add_help=True)\n"
     ]
    }
   ],
   "source": [
    "print(args.accumulate(args.integers))"
   ]
  },
  {
   "cell_type": "code",
   "execution_count": 13,
   "metadata": {},
   "outputs": [
    {
     "name": "stderr",
     "output_type": "stream",
     "text": [
      "usage: ipykernel_launcher.py [-h] [--range-d RANGE_D [RANGE_D ...]]\n",
      "                             [--range-sigma RANGE_SIGMA [RANGE_SIGMA ...]]\n",
      "                             [--range-theta RANGE_THETA [RANGE_THETA ...]]\n",
      "                             [--trials-file-name TRIALS_FILE_NAME]\n",
      "                             [--expdata-file-name EXPDATA_FILE_NAME]\n",
      "                             [--fixations-file-name FIXATIONS_FILE_NAME]\n",
      "                             [--trials-per-subject TRIALS_PER_SUBJECT]\n",
      "                             [--simulations-per-condition SIMULATIONS_PER_CONDITION]\n",
      "                             [--subject-ids SUBJECT_IDS [SUBJECT_IDS ...]]\n",
      "                             [--num-threads NUM_THREADS] [--save-simulations]\n",
      "                             [--save-figures] [--verbose]\n",
      "ipykernel_launcher.py: error: unrecognized arguments: -f /Users/pradyumna/Library/Jupyter/runtime/kernel-9f2bcee1-544f-4947-9d8e-55eec8199021.json\n"
     ]
    },
    {
     "ename": "SystemExit",
     "evalue": "2",
     "output_type": "error",
     "traceback": [
      "An exception has occurred, use %tb to see the full traceback.\n",
      "\u001b[0;31mSystemExit\u001b[0m\u001b[0;31m:\u001b[0m 2\n"
     ]
    },
    {
     "name": "stderr",
     "output_type": "stream",
     "text": [
      "/Users/pradyumna/anaconda/lib/python3.5/site-packages/IPython/core/interactiveshell.py:2870: UserWarning: To exit: use 'exit', 'quit', or Ctrl-D.\n",
      "  warn(\"To exit: use 'exit', 'quit', or Ctrl-D.\", stacklevel=1)\n"
     ]
    }
   ],
   "source": [
    "args = parser.parse_args()"
   ]
  },
  {
   "cell_type": "code",
   "execution_count": 10,
   "metadata": {},
   "outputs": [
    {
     "ename": "NameError",
     "evalue": "name 'args' is not defined",
     "output_type": "error",
     "traceback": [
      "\u001b[0;31m---------------------------------------------------------------------------\u001b[0m",
      "\u001b[0;31mNameError\u001b[0m                                 Traceback (most recent call last)",
      "\u001b[0;32m<ipython-input-10-3c651674187a>\u001b[0m in \u001b[0;36m<module>\u001b[0;34m()\u001b[0m\n\u001b[0;32m----> 1\u001b[0;31m addm_pta_mle.main(args.range_d, args.range_sigma, args.range_theta,\n\u001b[0m\u001b[1;32m      2\u001b[0m                   \u001b[0margs\u001b[0m\u001b[0;34m.\u001b[0m\u001b[0mtrials_file_name\u001b[0m\u001b[0;34m,\u001b[0m \u001b[0margs\u001b[0m\u001b[0;34m.\u001b[0m\u001b[0mexpdata_file_name\u001b[0m\u001b[0;34m,\u001b[0m\u001b[0;34m\u001b[0m\u001b[0m\n\u001b[1;32m      3\u001b[0m                   \u001b[0margs\u001b[0m\u001b[0;34m.\u001b[0m\u001b[0mfixations_file_name\u001b[0m\u001b[0;34m,\u001b[0m \u001b[0margs\u001b[0m\u001b[0;34m.\u001b[0m\u001b[0mtrials_per_subject\u001b[0m\u001b[0;34m,\u001b[0m\u001b[0;34m\u001b[0m\u001b[0m\n\u001b[1;32m      4\u001b[0m                   \u001b[0margs\u001b[0m\u001b[0;34m.\u001b[0m\u001b[0msimulations_per_condition\u001b[0m\u001b[0;34m,\u001b[0m \u001b[0margs\u001b[0m\u001b[0;34m.\u001b[0m\u001b[0msubject_ids\u001b[0m\u001b[0;34m,\u001b[0m\u001b[0;34m\u001b[0m\u001b[0m\n\u001b[1;32m      5\u001b[0m                   \u001b[0margs\u001b[0m\u001b[0;34m.\u001b[0m\u001b[0mnum_threads\u001b[0m\u001b[0;34m,\u001b[0m \u001b[0margs\u001b[0m\u001b[0;34m.\u001b[0m\u001b[0msave_simulations\u001b[0m\u001b[0;34m,\u001b[0m \u001b[0margs\u001b[0m\u001b[0;34m.\u001b[0m\u001b[0msave_figures\u001b[0m\u001b[0;34m,\u001b[0m\u001b[0;34m\u001b[0m\u001b[0m\n",
      "\u001b[0;31mNameError\u001b[0m: name 'args' is not defined"
     ]
    }
   ],
   "source": [
    "addm_pta_mle.main(args.range_d, args.range_sigma, args.range_theta,\n",
    "                  args.trials_file_name, args.expdata_file_name,\n",
    "                  args.fixations_file_name, args.trials_per_subject,\n",
    "                  args.simulations_per_condition, args.subject_ids,\n",
    "                  args.num_threads, args.save_simulations, args.save_figures,\n",
    "                  args.verbose)"
   ]
  },
  {
   "cell_type": "code",
   "execution_count": null,
   "metadata": {},
   "outputs": [],
   "source": [
    "addm_pta_mle.main(args.range_d, args.range_sigma, args.range_theta,\n",
    "                  args.trials_file_name, args.expdata_file_name,\n",
    "                  args.fixations_file_name, args.trials_per_subject,\n",
    "                  args.simulations_per_condition, args.subject_ids,\n",
    "                  args.num_threads, args.save_simulations, args.save_figures,\n",
    "                  args.verbose)"
   ]
  },
  {
   "cell_type": "code",
   "execution_count": 17,
   "metadata": {},
   "outputs": [
    {
     "name": "stdout",
     "output_type": "stream",
     "text": [
      "Loading experimental data...\n",
      "Starting grid search...\n",
      "Computing likelihoods for model (0.003, 0.03, 0.3)...\n",
      "Computing likelihoods for model (0.003, 0.03, 0.5)...\n",
      "Computing likelihoods for model (0.003, 0.03, 0.7)...\n",
      "Computing likelihoods for model (0.003, 0.06, 0.3)...\n",
      "Computing likelihoods for model (0.003, 0.06, 0.5)...\n",
      "Computing likelihoods for model (0.003, 0.06, 0.7)...\n",
      "Computing likelihoods for model (0.003, 0.09, 0.3)...\n",
      "Computing likelihoods for model (0.003, 0.09, 0.5)...\n",
      "Computing likelihoods for model (0.003, 0.09, 0.7)...\n",
      "Computing likelihoods for model (0.006, 0.03, 0.3)...\n",
      "Computing likelihoods for model (0.006, 0.03, 0.5)...\n",
      "Computing likelihoods for model (0.006, 0.03, 0.7)...\n",
      "Computing likelihoods for model (0.006, 0.06, 0.3)...\n",
      "Computing likelihoods for model (0.006, 0.06, 0.5)...\n",
      "Computing likelihoods for model (0.006, 0.06, 0.7)...\n",
      "Computing likelihoods for model (0.006, 0.09, 0.3)...\n",
      "Computing likelihoods for model (0.006, 0.09, 0.5)...\n",
      "Computing likelihoods for model (0.006, 0.09, 0.7)...\n",
      "Computing likelihoods for model (0.009, 0.03, 0.3)...\n",
      "Computing likelihoods for model (0.009, 0.03, 0.5)...\n",
      "Computing likelihoods for model (0.009, 0.03, 0.7)...\n",
      "Computing likelihoods for model (0.009, 0.06, 0.3)...\n",
      "Computing likelihoods for model (0.009, 0.06, 0.5)...\n",
      "Computing likelihoods for model (0.009, 0.06, 0.7)...\n",
      "Computing likelihoods for model (0.009, 0.09, 0.3)...\n",
      "Computing likelihoods for model (0.009, 0.09, 0.5)...\n",
      "Computing likelihoods for model (0.009, 0.09, 0.7)...\n",
      "Finished grid search!\n",
      "Optimal d: 0.006\n",
      "Optimal sigma: 0.06\n",
      "Optimal theta: 0.7\n",
      "Min NLL: 13671.2932071\n",
      "Getting fixation distributions from even trials...\n"
     ]
    },
    {
     "ename": "KeyError",
     "evalue": "0.029999999999999805",
     "output_type": "error",
     "traceback": [
      "\u001b[0;31m---------------------------------------------------------------------------\u001b[0m",
      "\u001b[0;31mKeyError\u001b[0m                                  Traceback (most recent call last)",
      "\u001b[0;32m<ipython-input-17-7749abe225b9>\u001b[0m in \u001b[0;36m<module>\u001b[0;34m()\u001b[0m\n\u001b[1;32m      5\u001b[0m                   \u001b[0;36m100\u001b[0m\u001b[0;34m,\u001b[0m\u001b[0;36m300\u001b[0m\u001b[0;34m,\u001b[0m \u001b[0;34m[\u001b[0m\u001b[0;34m]\u001b[0m\u001b[0;34m,\u001b[0m\u001b[0;34m\u001b[0m\u001b[0m\n\u001b[1;32m      6\u001b[0m                   \u001b[0;36m9\u001b[0m\u001b[0;34m,\u001b[0m \u001b[0;32mTrue\u001b[0m\u001b[0;34m,\u001b[0m \u001b[0;32mTrue\u001b[0m\u001b[0;34m,\u001b[0m\u001b[0;34m\u001b[0m\u001b[0m\n\u001b[0;32m----> 7\u001b[0;31m                   True)\n\u001b[0m",
      "\u001b[0;32m~/anaconda/lib/python3.5/site-packages/addm_toolbox/addm_pta_mle.py\u001b[0m in \u001b[0;36mmain\u001b[0;34m(rangeD, rangeSigma, rangeTheta, trialsFileName, expdataFileName, fixationsFileName, trialsPerSubject, simulationsPerCondition, subjectIds, numThreads, saveSimulations, saveFigures, verbose)\u001b[0m\n\u001b[1;32m    145\u001b[0m         \u001b[0mprint\u001b[0m\u001b[0;34m(\u001b[0m\u001b[0;34mu\"Getting fixation distributions from even trials...\"\u001b[0m\u001b[0;34m)\u001b[0m\u001b[0;34m\u001b[0m\u001b[0m\n\u001b[1;32m    146\u001b[0m     fixationData = get_empirical_distributions(\n\u001b[0;32m--> 147\u001b[0;31m         data, subjectIds=subjectIds, useOddTrials=False, useEvenTrials=True)\n\u001b[0m\u001b[1;32m    148\u001b[0m \u001b[0;34m\u001b[0m\u001b[0m\n\u001b[1;32m    149\u001b[0m     \u001b[0;31m# Generate simulations using the even trials fixation distributions and the\u001b[0m\u001b[0;34m\u001b[0m\u001b[0;34m\u001b[0m\u001b[0m\n",
      "\u001b[0;32m~/anaconda/lib/python3.5/site-packages/addm_toolbox/util.py\u001b[0m in \u001b[0;36mget_empirical_distributions\u001b[0;34m(data, timeStep, maxFixTime, numFixDists, fixDistType, valueDiffs, subjectIds, useOddTrials, useEvenTrials, useCisTrials, useTransTrials)\u001b[0m\n\u001b[1;32m    285\u001b[0m                         \u001b[0;32melif\u001b[0m \u001b[0mfixDistType\u001b[0m \u001b[0;34m==\u001b[0m \u001b[0;34mu\"fixation\"\u001b[0m\u001b[0;34m:\u001b[0m\u001b[0;34m\u001b[0m\u001b[0m\n\u001b[1;32m    286\u001b[0m                             \u001b[0mvalueDiff\u001b[0m \u001b[0;34m=\u001b[0m \u001b[0mfixUnfixValueDiffs\u001b[0m\u001b[0;34m[\u001b[0m\u001b[0mtrial\u001b[0m\u001b[0;34m.\u001b[0m\u001b[0mfixItem\u001b[0m\u001b[0;34m[\u001b[0m\u001b[0mi\u001b[0m\u001b[0;34m]\u001b[0m\u001b[0;34m]\u001b[0m\u001b[0;34m\u001b[0m\u001b[0m\n\u001b[0;32m--> 287\u001b[0;31m                             fixationsList[fixNumber][valueDiff].append(\n\u001b[0m\u001b[1;32m    288\u001b[0m                                 trial.fixTime[i])\n\u001b[1;32m    289\u001b[0m                     \u001b[0;32mif\u001b[0m \u001b[0mfixNumber\u001b[0m \u001b[0;34m<\u001b[0m \u001b[0mnumFixDists\u001b[0m\u001b[0;34m:\u001b[0m\u001b[0;34m\u001b[0m\u001b[0m\n",
      "\u001b[0;31mKeyError\u001b[0m: 0.029999999999999805"
     ]
    }
   ],
   "source": [
    "addm_pta_mle.main([0.003, 0.006, 0.009], [0.03, 0.06, 0.09], [0.3, 0.5, 0.7],\n",
    "                  None, \n",
    "                  '/Users/pradyumna/Google Drive/BdM Projects/FoodFraming_Amy/Analysis Scripts/aDDM_tools/expdata_FFA_Dislike_v1.csv',\n",
    "                  '/Users/pradyumna/Google Drive/BdM Projects/FoodFraming_Amy/Analysis Scripts/aDDM_tools/fixations_FFA_Dislike_v1.csv', \n",
    "                  100,300, [],\n",
    "                  9, True, True,\n",
    "                  True)"
   ]
  },
  {
   "cell_type": "code",
   "execution_count": 7,
   "metadata": {},
   "outputs": [
    {
     "name": "stdout",
     "output_type": "stream",
     "text": [
      "Loading experimental data...\n",
      "Starting grid search...\n",
      "Computing likelihoods for model (0.003, 0.03, 0.3)...\n",
      "Computing likelihoods for model (0.003, 0.03, 0.5)...\n",
      "Computing likelihoods for model (0.003, 0.03, 0.7)...\n",
      "Computing likelihoods for model (0.003, 0.06, 0.3)...\n",
      "Computing likelihoods for model (0.003, 0.06, 0.5)...\n",
      "Computing likelihoods for model (0.003, 0.06, 0.7)...\n",
      "Computing likelihoods for model (0.003, 0.09, 0.3)...\n",
      "Computing likelihoods for model (0.003, 0.09, 0.5)...\n",
      "Computing likelihoods for model (0.003, 0.09, 0.7)...\n",
      "Computing likelihoods for model (0.006, 0.03, 0.3)...\n",
      "Computing likelihoods for model (0.006, 0.03, 0.5)...\n",
      "Computing likelihoods for model (0.006, 0.03, 0.7)...\n",
      "Computing likelihoods for model (0.006, 0.06, 0.3)...\n",
      "Computing likelihoods for model (0.006, 0.06, 0.5)...\n",
      "Computing likelihoods for model (0.006, 0.06, 0.7)...\n",
      "Computing likelihoods for model (0.006, 0.09, 0.3)...\n",
      "Computing likelihoods for model (0.006, 0.09, 0.5)...\n",
      "Computing likelihoods for model (0.006, 0.09, 0.7)...\n",
      "Computing likelihoods for model (0.009, 0.03, 0.3)...\n",
      "Computing likelihoods for model (0.009, 0.03, 0.5)...\n",
      "Computing likelihoods for model (0.009, 0.03, 0.7)...\n",
      "Computing likelihoods for model (0.009, 0.06, 0.3)...\n",
      "Computing likelihoods for model (0.009, 0.06, 0.5)...\n",
      "Computing likelihoods for model (0.009, 0.06, 0.7)...\n",
      "Computing likelihoods for model (0.009, 0.09, 0.3)...\n",
      "Computing likelihoods for model (0.009, 0.09, 0.5)...\n",
      "Computing likelihoods for model (0.009, 0.09, 0.7)...\n",
      "Finished grid search!\n",
      "Optimal d: 0.009\n",
      "Optimal sigma: 0.03\n",
      "Optimal theta: 0.3\n",
      "Min NLL: 136.7429805875333\n",
      "Getting fixation distributions from even trials...\n"
     ]
    },
    {
     "ename": "KeyError",
     "evalue": "0.20999999999999996",
     "output_type": "error",
     "traceback": [
      "\u001b[0;31m---------------------------------------------------------------------------\u001b[0m",
      "\u001b[0;31mKeyError\u001b[0m                                  Traceback (most recent call last)",
      "\u001b[0;32m<ipython-input-7-c7ab4897ec97>\u001b[0m in \u001b[0;36m<module>\u001b[0;34m()\u001b[0m\n\u001b[1;32m      5\u001b[0m                   \u001b[0;36m100\u001b[0m\u001b[0;34m,\u001b[0m\u001b[0;36m300\u001b[0m\u001b[0;34m,\u001b[0m \u001b[0;34m[\u001b[0m\u001b[0;34m]\u001b[0m\u001b[0;34m,\u001b[0m\u001b[0;34m\u001b[0m\u001b[0m\n\u001b[1;32m      6\u001b[0m                   \u001b[0;36m9\u001b[0m\u001b[0;34m,\u001b[0m \u001b[0;32mTrue\u001b[0m\u001b[0;34m,\u001b[0m \u001b[0;32mTrue\u001b[0m\u001b[0;34m,\u001b[0m\u001b[0;34m\u001b[0m\u001b[0m\n\u001b[0;32m----> 7\u001b[0;31m                   True)\n\u001b[0m",
      "\u001b[0;32m/anaconda3/lib/python3.6/site-packages/addm_toolbox/addm_pta_mle.py\u001b[0m in \u001b[0;36mmain\u001b[0;34m(rangeD, rangeSigma, rangeTheta, trialsFileName, expdataFileName, fixationsFileName, trialsPerSubject, simulationsPerCondition, subjectIds, numThreads, saveSimulations, saveFigures, verbose)\u001b[0m\n\u001b[1;32m    145\u001b[0m         \u001b[0mprint\u001b[0m\u001b[0;34m(\u001b[0m\u001b[0;34mu\"Getting fixation distributions from even trials...\"\u001b[0m\u001b[0;34m)\u001b[0m\u001b[0;34m\u001b[0m\u001b[0m\n\u001b[1;32m    146\u001b[0m     fixationData = get_empirical_distributions(\n\u001b[0;32m--> 147\u001b[0;31m         data, subjectIds=subjectIds, useOddTrials=False, useEvenTrials=True)\n\u001b[0m\u001b[1;32m    148\u001b[0m \u001b[0;34m\u001b[0m\u001b[0m\n\u001b[1;32m    149\u001b[0m     \u001b[0;31m# Generate simulations using the even trials fixation distributions and the\u001b[0m\u001b[0;34m\u001b[0m\u001b[0;34m\u001b[0m\u001b[0m\n",
      "\u001b[0;32m/anaconda3/lib/python3.6/site-packages/addm_toolbox/util.py\u001b[0m in \u001b[0;36mget_empirical_distributions\u001b[0;34m(data, timeStep, maxFixTime, numFixDists, fixDistType, valueDiffs, subjectIds, useOddTrials, useEvenTrials, useCisTrials, useTransTrials)\u001b[0m\n\u001b[1;32m    285\u001b[0m                         \u001b[0;32melif\u001b[0m \u001b[0mfixDistType\u001b[0m \u001b[0;34m==\u001b[0m \u001b[0;34mu\"fixation\"\u001b[0m\u001b[0;34m:\u001b[0m\u001b[0;34m\u001b[0m\u001b[0m\n\u001b[1;32m    286\u001b[0m                             \u001b[0mvalueDiff\u001b[0m \u001b[0;34m=\u001b[0m \u001b[0mfixUnfixValueDiffs\u001b[0m\u001b[0;34m[\u001b[0m\u001b[0mtrial\u001b[0m\u001b[0;34m.\u001b[0m\u001b[0mfixItem\u001b[0m\u001b[0;34m[\u001b[0m\u001b[0mi\u001b[0m\u001b[0;34m]\u001b[0m\u001b[0;34m]\u001b[0m\u001b[0;34m\u001b[0m\u001b[0m\n\u001b[0;32m--> 287\u001b[0;31m                             fixationsList[fixNumber][valueDiff].append(\n\u001b[0m\u001b[1;32m    288\u001b[0m                                 trial.fixTime[i])\n\u001b[1;32m    289\u001b[0m                     \u001b[0;32mif\u001b[0m \u001b[0mfixNumber\u001b[0m \u001b[0;34m<\u001b[0m \u001b[0mnumFixDists\u001b[0m\u001b[0;34m:\u001b[0m\u001b[0;34m\u001b[0m\u001b[0m\n",
      "\u001b[0;31mKeyError\u001b[0m: 0.20999999999999996"
     ]
    }
   ],
   "source": [
    "addm_pta_mle.main([0.003, 0.006, 0.009], [0.03, 0.06, 0.09], [0.3, 0.5, 0.7],\n",
    "                  None, \n",
    "                  '/Users/bdmlab/OneDrive - University College London/PhD Projects/GiTs/FF2018/InputData/expdata_FFA_Dislike_part1_v2.csv',\n",
    "                  '/Users/bdmlab/OneDrive - University College London/PhD Projects/GiTs/FF2018/InputData/fixations_FFA_Dislike_part1_v2.csv', \n",
    "                  100,300, [],\n",
    "                  9, True, True,\n",
    "                  True)"
   ]
  },
  {
   "cell_type": "code",
   "execution_count": null,
   "metadata": {},
   "outputs": [],
   "source": []
  }
 ],
 "metadata": {
  "kernelspec": {
   "display_name": "Python 3",
   "language": "python",
   "name": "python3"
  },
  "language_info": {
   "codemirror_mode": {
    "name": "ipython",
    "version": 3
   },
   "file_extension": ".py",
   "mimetype": "text/x-python",
   "name": "python",
   "nbconvert_exporter": "python",
   "pygments_lexer": "ipython3",
   "version": "3.6.5"
  }
 },
 "nbformat": 4,
 "nbformat_minor": 2
}
