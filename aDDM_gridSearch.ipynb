{
 "cells": [
  {
   "cell_type": "markdown",
   "metadata": {},
   "source": [
    "# aDDM_gridSearch Script"
   ]
  },
  {
   "cell_type": "markdown",
   "metadata": {},
   "source": [
    "Implement the iterative step for the search of optimal parameter sets. Use of aDDM_pta_mla script from addm_toolbox (https://github.com/goptavares/aDDM-Toolbox)"
   ]
  },
  {
   "cell_type": "code",
   "execution_count": 1,
   "metadata": {},
   "outputs": [
    {
     "ename": "ImportError",
     "evalue": "cannot import name 'addm_pta_mle_limited'",
     "output_type": "error",
     "traceback": [
      "\u001b[0;31m---------------------------------------------------------------------------\u001b[0m",
      "\u001b[0;31mImportError\u001b[0m                               Traceback (most recent call last)",
      "\u001b[0;32m<ipython-input-1-c48c8ff9a8cf>\u001b[0m in \u001b[0;36m<module>\u001b[0;34m()\u001b[0m\n\u001b[1;32m      1\u001b[0m \u001b[0;32mfrom\u001b[0m \u001b[0m__future__\u001b[0m \u001b[0;32mimport\u001b[0m \u001b[0mabsolute_import\u001b[0m\u001b[0;34m\u001b[0m\u001b[0m\n\u001b[1;32m      2\u001b[0m \u001b[0;32mimport\u001b[0m \u001b[0margparse\u001b[0m\u001b[0;34m\u001b[0m\u001b[0m\n\u001b[0;32m----> 3\u001b[0;31m \u001b[0;32mfrom\u001b[0m \u001b[0maddm_toolbox\u001b[0m \u001b[0;32mimport\u001b[0m \u001b[0maddm_pta_mle_limited\u001b[0m\u001b[0;34m\u001b[0m\u001b[0m\n\u001b[0m\u001b[1;32m      4\u001b[0m \u001b[0;32mimport\u001b[0m \u001b[0mnumpy\u001b[0m \u001b[0;32mas\u001b[0m \u001b[0mnp\u001b[0m\u001b[0;34m\u001b[0m\u001b[0m\n\u001b[1;32m      5\u001b[0m \u001b[0;32mimport\u001b[0m \u001b[0mpandas\u001b[0m \u001b[0;32mas\u001b[0m \u001b[0mpd\u001b[0m\u001b[0;34m\u001b[0m\u001b[0m\n",
      "\u001b[0;31mImportError\u001b[0m: cannot import name 'addm_pta_mle_limited'"
     ]
    }
   ],
   "source": [
    "from __future__ import absolute_import\n",
    "import argparse\n",
    "from addm_toolbox import addm_pta_mle_limited\n",
    "import numpy as np\n",
    "import pandas as pd\n"
   ]
  },
  {
   "cell_type": "code",
   "execution_count": 28,
   "metadata": {},
   "outputs": [],
   "source": [
    "import addm_toolbox"
   ]
  },
  {
   "cell_type": "code",
   "execution_count": 29,
   "metadata": {},
   "outputs": [
    {
     "data": {
      "text/plain": [
       "<module 'addm_toolbox' from '/anaconda3/lib/python3.5/site-packages/addm_toolbox/__init__.py'>"
      ]
     },
     "execution_count": 29,
     "metadata": {},
     "output_type": "execute_result"
    }
   ],
   "source": [
    "addm_toolbox"
   ]
  },
  {
   "cell_type": "markdown",
   "metadata": {},
   "source": [
    "# Parameters \n",
    "##### addm_pta_mle.main(args.range_d, args.range_sigma, args.range_theta,\n",
    "#####                  args.trials_file_name, args.expdata_file_name,\n",
    "#####                  args.fixations_file_name, args.trials_per_subject,\n",
    "#####                  args.simulations_per_condition, args.subject_ids,\n",
    "#####                  args.num_threads, args.save_simulations, args.save_figures,\n",
    "#####                  args.verbose)"
   ]
  },
  {
   "cell_type": "markdown",
   "metadata": {},
   "source": [
    "## Dislike condition grid iterations"
   ]
  },
  {
   "cell_type": "code",
   "execution_count": 31,
   "metadata": {},
   "outputs": [
    {
     "name": "stdout",
     "output_type": "stream",
     "text": [
      "Loading experimental data...\n",
      "Starting grid search...\n",
      "Computing likelihoods for model (0.003, 0.03, 0.3)...\n",
      "Computing likelihoods for model (0.003, 0.03, 0.5)...\n",
      "Computing likelihoods for model (0.003, 0.03, 0.7)...\n",
      "Computing likelihoods for model (0.003, 0.06, 0.3)...\n",
      "Computing likelihoods for model (0.003, 0.06, 0.5)...\n",
      "Computing likelihoods for model (0.003, 0.06, 0.7)...\n",
      "Computing likelihoods for model (0.003, 0.09, 0.3)...\n",
      "Computing likelihoods for model (0.003, 0.09, 0.5)...\n",
      "Computing likelihoods for model (0.003, 0.09, 0.7)...\n",
      "Computing likelihoods for model (0.006, 0.03, 0.3)...\n",
      "Computing likelihoods for model (0.006, 0.03, 0.5)...\n",
      "Computing likelihoods for model (0.006, 0.03, 0.7)...\n",
      "Computing likelihoods for model (0.006, 0.06, 0.3)...\n",
      "Computing likelihoods for model (0.006, 0.06, 0.5)...\n",
      "Computing likelihoods for model (0.006, 0.06, 0.7)...\n",
      "Computing likelihoods for model (0.006, 0.09, 0.3)...\n",
      "Computing likelihoods for model (0.006, 0.09, 0.5)...\n",
      "Computing likelihoods for model (0.006, 0.09, 0.7)...\n",
      "Computing likelihoods for model (0.009, 0.03, 0.3)...\n",
      "Computing likelihoods for model (0.009, 0.03, 0.5)...\n",
      "Computing likelihoods for model (0.009, 0.03, 0.7)...\n",
      "Computing likelihoods for model (0.009, 0.06, 0.3)...\n",
      "Computing likelihoods for model (0.009, 0.06, 0.5)...\n",
      "Computing likelihoods for model (0.009, 0.06, 0.7)...\n",
      "Computing likelihoods for model (0.009, 0.09, 0.3)...\n",
      "Computing likelihoods for model (0.009, 0.09, 0.5)...\n",
      "Computing likelihoods for model (0.009, 0.09, 0.7)...\n",
      "Finished grid search!\n",
      "Optimal d: 0.006\n",
      "Optimal sigma: 0.06\n",
      "Optimal theta: 0.7\n",
      "Min NLL: 13671.2932071381\n",
      "PS modification to avoid calculating simulations. To undo, please uncomment last section at /Users/bdmlab/anaconda3/lib/python3.6/site-packages/addm_toolbox/addm_pta_mle.py\n",
      "Loading experimental data...\n",
      "Starting grid search...\n",
      "Computing likelihoods for model (0.0045000000000000005, 0.045, 0.6)...\n",
      "Computing likelihoods for model (0.0045000000000000005, 0.045, 0.7)...\n",
      "Computing likelihoods for model (0.0045000000000000005, 0.045, 0.7999999999999999)...\n",
      "Computing likelihoods for model (0.0045000000000000005, 0.06, 0.6)...\n",
      "Computing likelihoods for model (0.0045000000000000005, 0.06, 0.7)...\n",
      "Computing likelihoods for model (0.0045000000000000005, 0.06, 0.7999999999999999)...\n",
      "Computing likelihoods for model (0.0045000000000000005, 0.075, 0.6)...\n",
      "Computing likelihoods for model (0.0045000000000000005, 0.075, 0.7)...\n",
      "Computing likelihoods for model (0.0045000000000000005, 0.075, 0.7999999999999999)...\n",
      "Computing likelihoods for model (0.006, 0.045, 0.6)...\n",
      "Computing likelihoods for model (0.006, 0.045, 0.7)...\n",
      "Computing likelihoods for model (0.006, 0.045, 0.7999999999999999)...\n",
      "Computing likelihoods for model (0.006, 0.06, 0.6)...\n",
      "Computing likelihoods for model (0.006, 0.06, 0.7)...\n",
      "Computing likelihoods for model (0.006, 0.06, 0.7999999999999999)...\n",
      "Computing likelihoods for model (0.006, 0.075, 0.6)...\n",
      "Computing likelihoods for model (0.006, 0.075, 0.7)...\n",
      "Computing likelihoods for model (0.006, 0.075, 0.7999999999999999)...\n",
      "Computing likelihoods for model (0.0075, 0.045, 0.6)...\n",
      "Computing likelihoods for model (0.0075, 0.045, 0.7)...\n",
      "Computing likelihoods for model (0.0075, 0.045, 0.7999999999999999)...\n",
      "Computing likelihoods for model (0.0075, 0.06, 0.6)...\n",
      "Computing likelihoods for model (0.0075, 0.06, 0.7)...\n",
      "Computing likelihoods for model (0.0075, 0.06, 0.7999999999999999)...\n",
      "Computing likelihoods for model (0.0075, 0.075, 0.6)...\n",
      "Computing likelihoods for model (0.0075, 0.075, 0.7)...\n",
      "Computing likelihoods for model (0.0075, 0.075, 0.7999999999999999)...\n",
      "Finished grid search!\n",
      "Optimal d: 0.006\n",
      "Optimal sigma: 0.045\n",
      "Optimal theta: 0.7\n",
      "Min NLL: 13313.08219948444\n",
      "PS modification to avoid calculating simulations. To undo, please uncomment last section at /Users/bdmlab/anaconda3/lib/python3.6/site-packages/addm_toolbox/addm_pta_mle.py\n",
      "Loading experimental data...\n",
      "Starting grid search...\n",
      "Computing likelihoods for model (0.00525, 0.0375, 0.6499999999999999)...\n",
      "Computing likelihoods for model (0.00525, 0.0375, 0.7)...\n",
      "Computing likelihoods for model (0.00525, 0.0375, 0.75)...\n",
      "Computing likelihoods for model (0.00525, 0.045, 0.6499999999999999)...\n",
      "Computing likelihoods for model (0.00525, 0.045, 0.7)...\n",
      "Computing likelihoods for model (0.00525, 0.045, 0.75)...\n",
      "Computing likelihoods for model (0.00525, 0.0525, 0.6499999999999999)...\n",
      "Computing likelihoods for model (0.00525, 0.0525, 0.7)...\n",
      "Computing likelihoods for model (0.00525, 0.0525, 0.75)...\n",
      "Computing likelihoods for model (0.006, 0.0375, 0.6499999999999999)...\n",
      "Computing likelihoods for model (0.006, 0.0375, 0.7)...\n",
      "Computing likelihoods for model (0.006, 0.0375, 0.75)...\n",
      "Computing likelihoods for model (0.006, 0.045, 0.6499999999999999)...\n",
      "Computing likelihoods for model (0.006, 0.045, 0.7)...\n",
      "Computing likelihoods for model (0.006, 0.045, 0.75)...\n",
      "Computing likelihoods for model (0.006, 0.0525, 0.6499999999999999)...\n",
      "Computing likelihoods for model (0.006, 0.0525, 0.7)...\n",
      "Computing likelihoods for model (0.006, 0.0525, 0.75)...\n",
      "Computing likelihoods for model (0.00675, 0.0375, 0.6499999999999999)...\n",
      "Computing likelihoods for model (0.00675, 0.0375, 0.7)...\n",
      "Computing likelihoods for model (0.00675, 0.0375, 0.75)...\n",
      "Computing likelihoods for model (0.00675, 0.045, 0.6499999999999999)...\n",
      "Computing likelihoods for model (0.00675, 0.045, 0.7)...\n",
      "Computing likelihoods for model (0.00675, 0.045, 0.75)...\n",
      "Computing likelihoods for model (0.00675, 0.0525, 0.6499999999999999)...\n",
      "Computing likelihoods for model (0.00675, 0.0525, 0.7)...\n",
      "Computing likelihoods for model (0.00675, 0.0525, 0.75)...\n",
      "Finished grid search!\n",
      "Optimal d: 0.00675\n",
      "Optimal sigma: 0.045\n",
      "Optimal theta: 0.75\n",
      "Min NLL: 13308.758226017915\n",
      "PS modification to avoid calculating simulations. To undo, please uncomment last section at /Users/bdmlab/anaconda3/lib/python3.6/site-packages/addm_toolbox/addm_pta_mle.py\n",
      "Finished iterations!!\n"
     ]
    }
   ],
   "source": [
    "iteration_data = []\n",
    "current_min_nll = 0\n",
    "previous_min_nll = 0\n",
    "\n",
    "\n",
    "# Initial grid selection\n",
    "range_d = [0.003, 0.006, 0.009]\n",
    "range_sigma = [0.03, 0.06, 0.09]\n",
    "range_theta = [0.3, 0.5, 0.7]\n",
    "\n",
    "#data files definition\n",
    "trials_file_name = None\n",
    "expdata_file_name = '/Users/bdmlab/OneDrive - University College London/PhD Projects/GiTs/FF2018/InputData/expdata_FFA_Dislike_v2.csv'\n",
    "fixations_file_name = '/Users/bdmlab/OneDrive - University College London/PhD Projects/GiTs/FF2018/InputData/fixations_FFA_Dislike_v2.csv'\n",
    "trials_per_subject = 120\n",
    "simulations_per_condition = 300\n",
    "\n",
    "iter_num = 1\n",
    "\n",
    "while (abs(current_min_nll-previous_min_nll) > (previous_min_nll*1/100)) or iter_num == 1:\n",
    "    \n",
    "    if iter_num > 1:  \n",
    "        delta_d = range_d[1]-range_d[0]\n",
    "        delta_sigma = range_sigma[1] - range_sigma[0]\n",
    "        delta_theta = range_theta[1] - range_theta[0]\n",
    "        \n",
    "        range_d = [new_d - delta_d/2 , new_d ,new_d + delta_d/2]\n",
    "        range_sigma =[new_sigma - delta_sigma/2 , new_sigma ,new_sigma + delta_sigma/2]\n",
    "        range_theta =[new_theta - delta_theta/2 , new_theta ,new_theta + delta_theta/2]\n",
    "    \n",
    "    \n",
    "    #run the toolbox\n",
    "    a = addm_pta_mle_limited.main(range_d, range_sigma, range_theta,\n",
    "                      None, \n",
    "                      expdata_file_name,\n",
    "                      fixations_file_name, \n",
    "                      trials_per_subject,simulations_per_condition, [],\n",
    "                      9, True, True,\n",
    "                      True)\n",
    "    \n",
    "    # Update the NLL values for this iteration\n",
    "    previous_min_nll = current_min_nll\n",
    "    current_min_nll = a[1]\n",
    "    \n",
    "    #get the new values\n",
    "    new_d = a[0][0]\n",
    "    new_sigma = a[0][1]\n",
    "    new_theta = a[0][2]\n",
    "    \n",
    "    iteration_data.append([iter_num,new_d, new_sigma, new_theta,current_min_nll]) \n",
    "\n",
    "    iter_num = iter_num + 1\n",
    "\n",
    "\n",
    "\n",
    "    \n",
    "    \n",
    "iteration_dataf=pd.DataFrame(iteration_data,columns=['Iteration', 'd', 'sigma', 'theta', 'min_NLL'])\n",
    "print (\"Finished iterations!!\")\n"
   ]
  },
  {
   "cell_type": "code",
   "execution_count": 34,
   "metadata": {},
   "outputs": [
    {
     "data": {
      "text/html": [
       "<div>\n",
       "<style scoped>\n",
       "    .dataframe tbody tr th:only-of-type {\n",
       "        vertical-align: middle;\n",
       "    }\n",
       "\n",
       "    .dataframe tbody tr th {\n",
       "        vertical-align: top;\n",
       "    }\n",
       "\n",
       "    .dataframe thead th {\n",
       "        text-align: right;\n",
       "    }\n",
       "</style>\n",
       "<table border=\"1\" class=\"dataframe\">\n",
       "  <thead>\n",
       "    <tr style=\"text-align: right;\">\n",
       "      <th></th>\n",
       "      <th>Iteration</th>\n",
       "      <th>d</th>\n",
       "      <th>sigma</th>\n",
       "      <th>theta</th>\n",
       "      <th>min_NLL</th>\n",
       "    </tr>\n",
       "  </thead>\n",
       "  <tbody>\n",
       "    <tr>\n",
       "      <th>0</th>\n",
       "      <td>1</td>\n",
       "      <td>0.00600</td>\n",
       "      <td>0.060</td>\n",
       "      <td>0.70</td>\n",
       "      <td>13671.293207</td>\n",
       "    </tr>\n",
       "    <tr>\n",
       "      <th>1</th>\n",
       "      <td>2</td>\n",
       "      <td>0.00600</td>\n",
       "      <td>0.045</td>\n",
       "      <td>0.70</td>\n",
       "      <td>13313.082199</td>\n",
       "    </tr>\n",
       "    <tr>\n",
       "      <th>2</th>\n",
       "      <td>3</td>\n",
       "      <td>0.00675</td>\n",
       "      <td>0.045</td>\n",
       "      <td>0.75</td>\n",
       "      <td>13308.758226</td>\n",
       "    </tr>\n",
       "  </tbody>\n",
       "</table>\n",
       "</div>"
      ],
      "text/plain": [
       "   Iteration        d  sigma  theta       min_NLL\n",
       "0          1  0.00600  0.060   0.70  13671.293207\n",
       "1          2  0.00600  0.045   0.70  13313.082199\n",
       "2          3  0.00675  0.045   0.75  13308.758226"
      ]
     },
     "execution_count": 34,
     "metadata": {},
     "output_type": "execute_result"
    }
   ],
   "source": [
    "iterations_dislike = iteration_dataf\n",
    "iterations_dislike"
   ]
  },
  {
   "cell_type": "markdown",
   "metadata": {},
   "source": [
    "## Like condition grid iterations"
   ]
  },
  {
   "cell_type": "code",
   "execution_count": 37,
   "metadata": {},
   "outputs": [
    {
     "name": "stdout",
     "output_type": "stream",
     "text": [
      "Loading experimental data...\n",
      "Starting grid search...\n",
      "Computing likelihoods for model (0.003, 0.03, 0.3)...\n",
      "Computing likelihoods for model (0.003, 0.03, 0.5)...\n",
      "Computing likelihoods for model (0.003, 0.03, 0.7)...\n",
      "Computing likelihoods for model (0.003, 0.06, 0.3)...\n",
      "Computing likelihoods for model (0.003, 0.06, 0.5)...\n",
      "Computing likelihoods for model (0.003, 0.06, 0.7)...\n",
      "Computing likelihoods for model (0.003, 0.09, 0.3)...\n",
      "Computing likelihoods for model (0.003, 0.09, 0.5)...\n",
      "Computing likelihoods for model (0.003, 0.09, 0.7)...\n",
      "Computing likelihoods for model (0.006, 0.03, 0.3)...\n",
      "Computing likelihoods for model (0.006, 0.03, 0.5)...\n",
      "Computing likelihoods for model (0.006, 0.03, 0.7)...\n",
      "Computing likelihoods for model (0.006, 0.06, 0.3)...\n",
      "Computing likelihoods for model (0.006, 0.06, 0.5)...\n",
      "Computing likelihoods for model (0.006, 0.06, 0.7)...\n",
      "Computing likelihoods for model (0.006, 0.09, 0.3)...\n",
      "Computing likelihoods for model (0.006, 0.09, 0.5)...\n",
      "Computing likelihoods for model (0.006, 0.09, 0.7)...\n",
      "Computing likelihoods for model (0.009, 0.03, 0.3)...\n",
      "Computing likelihoods for model (0.009, 0.03, 0.5)...\n",
      "Computing likelihoods for model (0.009, 0.03, 0.7)...\n",
      "Computing likelihoods for model (0.009, 0.06, 0.3)...\n",
      "Computing likelihoods for model (0.009, 0.06, 0.5)...\n",
      "Computing likelihoods for model (0.009, 0.06, 0.7)...\n",
      "Computing likelihoods for model (0.009, 0.09, 0.3)...\n",
      "Computing likelihoods for model (0.009, 0.09, 0.5)...\n",
      "Computing likelihoods for model (0.009, 0.09, 0.7)...\n",
      "Finished grid search!\n",
      "Optimal d: 0.003\n",
      "Optimal sigma: 0.06\n",
      "Optimal theta: 0.3\n",
      "Min NLL: 13373.339696653391\n",
      "PS modification to avoid calculating simulations. To undo, please uncomment last section at /Users/bdmlab/anaconda3/lib/python3.6/site-packages/addm_toolbox/addm_pta_mle.py\n",
      "Loading experimental data...\n",
      "Starting grid search...\n",
      "Computing likelihoods for model (0.0015, 0.045, 0.19999999999999998)...\n",
      "Computing likelihoods for model (0.0015, 0.045, 0.3)...\n",
      "Computing likelihoods for model (0.0015, 0.045, 0.4)...\n",
      "Computing likelihoods for model (0.0015, 0.06, 0.19999999999999998)...\n",
      "Computing likelihoods for model (0.0015, 0.06, 0.3)...\n",
      "Computing likelihoods for model (0.0015, 0.06, 0.4)...\n",
      "Computing likelihoods for model (0.0015, 0.075, 0.19999999999999998)...\n",
      "Computing likelihoods for model (0.0015, 0.075, 0.3)...\n",
      "Computing likelihoods for model (0.0015, 0.075, 0.4)...\n",
      "Computing likelihoods for model (0.003, 0.045, 0.19999999999999998)...\n",
      "Computing likelihoods for model (0.003, 0.045, 0.3)...\n",
      "Computing likelihoods for model (0.003, 0.045, 0.4)...\n",
      "Computing likelihoods for model (0.003, 0.06, 0.19999999999999998)...\n",
      "Computing likelihoods for model (0.003, 0.06, 0.3)...\n",
      "Computing likelihoods for model (0.003, 0.06, 0.4)...\n",
      "Computing likelihoods for model (0.003, 0.075, 0.19999999999999998)...\n",
      "Computing likelihoods for model (0.003, 0.075, 0.3)...\n",
      "Computing likelihoods for model (0.003, 0.075, 0.4)...\n",
      "Computing likelihoods for model (0.0045000000000000005, 0.045, 0.19999999999999998)...\n",
      "Computing likelihoods for model (0.0045000000000000005, 0.045, 0.3)...\n",
      "Computing likelihoods for model (0.0045000000000000005, 0.045, 0.4)...\n",
      "Computing likelihoods for model (0.0045000000000000005, 0.06, 0.19999999999999998)...\n",
      "Computing likelihoods for model (0.0045000000000000005, 0.06, 0.3)...\n",
      "Computing likelihoods for model (0.0045000000000000005, 0.06, 0.4)...\n",
      "Computing likelihoods for model (0.0045000000000000005, 0.075, 0.19999999999999998)...\n",
      "Computing likelihoods for model (0.0045000000000000005, 0.075, 0.3)...\n",
      "Computing likelihoods for model (0.0045000000000000005, 0.075, 0.4)...\n",
      "Finished grid search!\n",
      "Optimal d: 0.003\n",
      "Optimal sigma: 0.045\n",
      "Optimal theta: 0.19999999999999998\n",
      "Min NLL: 13288.233308066585\n",
      "PS modification to avoid calculating simulations. To undo, please uncomment last section at /Users/bdmlab/anaconda3/lib/python3.6/site-packages/addm_toolbox/addm_pta_mle.py\n",
      "Finished iterations!!\n"
     ]
    }
   ],
   "source": [
    "iteration_data = []\n",
    "current_min_nll = 0\n",
    "previous_min_nll = 0\n",
    "\n",
    "\n",
    "# Initial grid selection\n",
    "range_d = [0.003, 0.006, 0.009]\n",
    "range_sigma = [0.03, 0.06, 0.09]\n",
    "range_theta = [0.3, 0.5, 0.7]\n",
    "\n",
    "#data files definition\n",
    "trials_file_name = None\n",
    "expdata_file_name = '/Users/bdmlab/OneDrive - University College London/PhD Projects/GiTs/FF2018/InputData/expdata_FFA_Like_v2.csv'\n",
    "fixations_file_name = '/Users/bdmlab/OneDrive - University College London/PhD Projects/GiTs/FF2018/InputData/fixations_FFA_Like_v2.csv'\n",
    "trials_per_subject = 120\n",
    "simulations_per_condition = 300\n",
    "\n",
    "iter_num = 1\n",
    "\n",
    "while (abs(current_min_nll-previous_min_nll) > (previous_min_nll*1/100)) or iter_num == 1:\n",
    "    \n",
    "    if iter_num > 1:\n",
    "        delta_d = range_d[1]-range_d[0]\n",
    "        delta_sigma = range_sigma[1] - range_sigma[0]\n",
    "        delta_theta = range_theta[1] - range_theta[0]\n",
    "        \n",
    "        range_d = [new_d - delta_d/2 , new_d ,new_d + delta_d/2]\n",
    "        range_sigma =[new_sigma - delta_sigma/2 , new_sigma ,new_sigma + delta_sigma/2]\n",
    "        range_theta =[new_theta - delta_theta/2 , new_theta ,new_theta + delta_theta/2]\n",
    "    \n",
    "    \n",
    "    #run the toolbox\n",
    "    a = addm_pta_mle_limited.main(range_d, range_sigma, range_theta,\n",
    "                      None, \n",
    "                      expdata_file_name,\n",
    "                      fixations_file_name, \n",
    "                      trials_per_subject,simulations_per_condition, [],\n",
    "                      9, True, True,\n",
    "                      True)\n",
    "    \n",
    "    # Update the NLL values for this iteration\n",
    "    previous_min_nll = current_min_nll\n",
    "    current_min_nll = a[1]\n",
    "    \n",
    "    #get the new values\n",
    "    new_d = a[0][0]\n",
    "    new_sigma = a[0][1]\n",
    "    new_theta = a[0][2]\n",
    "    \n",
    "    iteration_data.append([iter_num,new_d, new_sigma, new_theta,current_min_nll]) \n",
    "\n",
    "    iter_num = iter_num + 1\n",
    "\n",
    "\n",
    "\n",
    "    \n",
    "    \n",
    "iteration_dataf=pd.DataFrame(iteration_data,columns=['Iteration', 'd', 'sigma', 'theta', 'min_NLL'])\n",
    "print (\"Finished iterations!!\")\n",
    "\n"
   ]
  },
  {
   "cell_type": "code",
   "execution_count": 38,
   "metadata": {},
   "outputs": [
    {
     "data": {
      "text/html": [
       "<div>\n",
       "<style scoped>\n",
       "    .dataframe tbody tr th:only-of-type {\n",
       "        vertical-align: middle;\n",
       "    }\n",
       "\n",
       "    .dataframe tbody tr th {\n",
       "        vertical-align: top;\n",
       "    }\n",
       "\n",
       "    .dataframe thead th {\n",
       "        text-align: right;\n",
       "    }\n",
       "</style>\n",
       "<table border=\"1\" class=\"dataframe\">\n",
       "  <thead>\n",
       "    <tr style=\"text-align: right;\">\n",
       "      <th></th>\n",
       "      <th>Iteration</th>\n",
       "      <th>d</th>\n",
       "      <th>sigma</th>\n",
       "      <th>theta</th>\n",
       "      <th>min_NLL</th>\n",
       "    </tr>\n",
       "  </thead>\n",
       "  <tbody>\n",
       "    <tr>\n",
       "      <th>0</th>\n",
       "      <td>1</td>\n",
       "      <td>0.003</td>\n",
       "      <td>0.060</td>\n",
       "      <td>0.3</td>\n",
       "      <td>13373.339697</td>\n",
       "    </tr>\n",
       "    <tr>\n",
       "      <th>1</th>\n",
       "      <td>2</td>\n",
       "      <td>0.003</td>\n",
       "      <td>0.045</td>\n",
       "      <td>0.2</td>\n",
       "      <td>13288.233308</td>\n",
       "    </tr>\n",
       "  </tbody>\n",
       "</table>\n",
       "</div>"
      ],
      "text/plain": [
       "   Iteration      d  sigma  theta       min_NLL\n",
       "0          1  0.003  0.060    0.3  13373.339697\n",
       "1          2  0.003  0.045    0.2  13288.233308"
      ]
     },
     "execution_count": 38,
     "metadata": {},
     "output_type": "execute_result"
    }
   ],
   "source": [
    "iterations_like = iteration_dataf\n",
    "iterations_like"
   ]
  },
  {
   "cell_type": "markdown",
   "metadata": {},
   "source": [
    "# traditional DDM run"
   ]
  },
  {
   "cell_type": "code",
   "execution_count": 1,
   "metadata": {},
   "outputs": [],
   "source": [
    "from addm_toolbox import ddm_pta_test"
   ]
  },
  {
   "cell_type": "markdown",
   "metadata": {},
   "source": [
    "## Using the same model but with theta fixed to 1 (no attentional influence)"
   ]
  },
  {
   "cell_type": "markdown",
   "metadata": {},
   "source": [
    "## like"
   ]
  },
  {
   "cell_type": "code",
   "execution_count": 32,
   "metadata": {},
   "outputs": [
    {
     "name": "stdout",
     "output_type": "stream",
     "text": [
      "Loading experimental data...\n",
      "Starting grid search...\n",
      "Computing likelihoods for model (0.003, 0.03, 1)...\n",
      "Computing likelihoods for model (0.003, 0.06, 1)...\n",
      "Computing likelihoods for model (0.003, 0.09, 1)...\n",
      "Computing likelihoods for model (0.006, 0.03, 1)...\n",
      "Computing likelihoods for model (0.006, 0.06, 1)...\n",
      "Computing likelihoods for model (0.006, 0.09, 1)...\n",
      "Computing likelihoods for model (0.009, 0.03, 1)...\n",
      "Computing likelihoods for model (0.009, 0.06, 1)...\n",
      "Computing likelihoods for model (0.009, 0.09, 1)...\n",
      "Finished grid search!\n",
      "Optimal d: 0.003\n",
      "Optimal sigma: 0.06\n",
      "Optimal theta: 1\n",
      "Min NLL: 14162.6951689\n",
      "PS modification to avoid calculating simulations. To undo, please uncomment last section at /Users/bdmlab/anaconda3/lib/python3.6/site-packages/addm_toolbox/addm_pta_mle.py\n",
      "Loading experimental data...\n",
      "Starting grid search...\n",
      "Computing likelihoods for model (0.0015, 0.045, 1)...\n",
      "Computing likelihoods for model (0.0015, 0.06, 1)...\n",
      "Computing likelihoods for model (0.0015, 0.075, 1)...\n",
      "Computing likelihoods for model (0.003, 0.045, 1)...\n",
      "Computing likelihoods for model (0.003, 0.06, 1)...\n",
      "Computing likelihoods for model (0.003, 0.075, 1)...\n",
      "Computing likelihoods for model (0.0045000000000000005, 0.045, 1)...\n",
      "Computing likelihoods for model (0.0045000000000000005, 0.06, 1)...\n",
      "Computing likelihoods for model (0.0045000000000000005, 0.075, 1)...\n",
      "Finished grid search!\n",
      "Optimal d: 0.0015\n",
      "Optimal sigma: 0.06\n",
      "Optimal theta: 1\n",
      "Min NLL: 14096.6073914\n",
      "PS modification to avoid calculating simulations. To undo, please uncomment last section at /Users/bdmlab/anaconda3/lib/python3.6/site-packages/addm_toolbox/addm_pta_mle.py\n",
      "Finished iterations!!\n"
     ]
    }
   ],
   "source": [
    "iteration_data = []\n",
    "current_min_nll = 0\n",
    "previous_min_nll = 0\n",
    "\n",
    "\n",
    "# Initial grid selection\n",
    "range_d = [0.003, 0.006, 0.009]\n",
    "range_sigma = [0.03, 0.06, 0.09]\n",
    "range_theta = [1]\n",
    "\n",
    "#data files definition\n",
    "trials_file_name = None\n",
    "expdata_file_name = '/Users/bdmlab/OneDrive - University College London/PhD Projects/GiTs/FF2018/InputData/expdata_FFA_Like_v2.csv'\n",
    "fixations_file_name = '/Users/bdmlab/OneDrive - University College London/PhD Projects/GiTs/FF2018/InputData/fixations_FFA_Like_v2.csv'\n",
    "trials_per_subject = 120\n",
    "simulations_per_condition = 300\n",
    "\n",
    "iter_num = 1\n",
    "\n",
    "while (abs(current_min_nll-previous_min_nll) > (previous_min_nll*1/100)) or iter_num == 1:\n",
    "    \n",
    "    if iter_num > 1:\n",
    "        delta_d = range_d[1]-range_d[0]\n",
    "        delta_sigma = range_sigma[1] - range_sigma[0]\n",
    "       # delta_theta = range_theta[1] - range_theta[0]\n",
    "        \n",
    "        range_d = [new_d - delta_d/2 , new_d ,new_d + delta_d/2]\n",
    "        range_sigma =[new_sigma - delta_sigma/2 , new_sigma ,new_sigma + delta_sigma/2]\n",
    "       # range_theta =[new_theta - delta_theta/2 , new_theta ,new_theta + delta_theta/2]\n",
    "    \n",
    "    \n",
    "    #run the toolbox\n",
    "    a = addm_pta_mle_limited.main(range_d, range_sigma, range_theta,\n",
    "                      None, \n",
    "                      expdata_file_name,\n",
    "                      fixations_file_name, \n",
    "                      trials_per_subject,simulations_per_condition, [],\n",
    "                      9, True, True,\n",
    "                      True)\n",
    "    \n",
    "    # Update the NLL values for this iteration\n",
    "    previous_min_nll = current_min_nll\n",
    "    current_min_nll = a[1]\n",
    "    \n",
    "    #get the new values\n",
    "    new_d = a[0][0]\n",
    "    new_sigma = a[0][1]\n",
    "    new_theta = a[0][2]\n",
    "    \n",
    "    iteration_data.append([iter_num,new_d, new_sigma, new_theta,current_min_nll]) \n",
    "\n",
    "    iter_num = iter_num + 1\n",
    "\n",
    "\n",
    "\n",
    "    \n",
    "    \n",
    "iteration_dataf=pd.DataFrame(iteration_data,columns=['Iteration', 'd', 'sigma', 'theta', 'min_NLL'])\n",
    "print (\"Finished iterations!!\")"
   ]
  },
  {
   "cell_type": "markdown",
   "metadata": {},
   "source": [
    "## dislike"
   ]
  },
  {
   "cell_type": "code",
   "execution_count": 34,
   "metadata": {},
   "outputs": [
    {
     "name": "stdout",
     "output_type": "stream",
     "text": [
      "Loading experimental data...\n",
      "Starting grid search...\n",
      "Computing likelihoods for model (0.003, 0.03, 1)...\n",
      "Computing likelihoods for model (0.003, 0.06, 1)...\n",
      "Computing likelihoods for model (0.003, 0.09, 1)...\n",
      "Computing likelihoods for model (0.006, 0.03, 1)...\n",
      "Computing likelihoods for model (0.006, 0.06, 1)...\n",
      "Computing likelihoods for model (0.006, 0.09, 1)...\n",
      "Computing likelihoods for model (0.009, 0.03, 1)...\n",
      "Computing likelihoods for model (0.009, 0.06, 1)...\n",
      "Computing likelihoods for model (0.009, 0.09, 1)...\n",
      "Finished grid search!\n",
      "Optimal d: 0.009\n",
      "Optimal sigma: 0.06\n",
      "Optimal theta: 1\n",
      "Min NLL: 14208.4296811\n",
      "PS modification to avoid calculating simulations. To undo, please uncomment last section at /Users/bdmlab/anaconda3/lib/python3.6/site-packages/addm_toolbox/addm_pta_mle.py\n",
      "Loading experimental data...\n",
      "Starting grid search...\n",
      "Computing likelihoods for model (0.0075, 0.045, 1)...\n",
      "Computing likelihoods for model (0.0075, 0.06, 1)...\n",
      "Computing likelihoods for model (0.0075, 0.075, 1)...\n",
      "Computing likelihoods for model (0.009, 0.045, 1)...\n",
      "Computing likelihoods for model (0.009, 0.06, 1)...\n",
      "Computing likelihoods for model (0.009, 0.075, 1)...\n",
      "Computing likelihoods for model (0.010499999999999999, 0.045, 1)...\n",
      "Computing likelihoods for model (0.010499999999999999, 0.06, 1)...\n",
      "Computing likelihoods for model (0.010499999999999999, 0.075, 1)...\n",
      "Finished grid search!\n",
      "Optimal d: 0.009\n",
      "Optimal sigma: 0.045\n",
      "Optimal theta: 1\n",
      "Min NLL: 14093.0899522\n",
      "PS modification to avoid calculating simulations. To undo, please uncomment last section at /Users/bdmlab/anaconda3/lib/python3.6/site-packages/addm_toolbox/addm_pta_mle.py\n",
      "Finished iterations!!\n"
     ]
    }
   ],
   "source": [
    "iteration_data = []\n",
    "current_min_nll = 0\n",
    "previous_min_nll = 0\n",
    "\n",
    "\n",
    "# Initial grid selection\n",
    "range_d = [0.003, 0.006, 0.009]\n",
    "range_sigma = [0.03, 0.06, 0.09]\n",
    "range_theta = [1]\n",
    "\n",
    "#data files definition\n",
    "trials_file_name = None\n",
    "expdata_file_name = '/Users/bdmlab/OneDrive - University College London/PhD Projects/GiTs/FF2018/InputData/expdata_FFA_Dislike_v2.csv'\n",
    "fixations_file_name = '/Users/bdmlab/OneDrive - University College London/PhD Projects/GiTs/FF2018/InputData/fixations_FFA_Dislike_v2.csv'\n",
    "trials_per_subject = 120\n",
    "simulations_per_condition = 300\n",
    "\n",
    "iter_num = 1\n",
    "\n",
    "while (abs(current_min_nll-previous_min_nll) > (previous_min_nll*1/100)) or iter_num == 1:\n",
    "    \n",
    "    if iter_num > 1:\n",
    "        delta_d = range_d[1]-range_d[0]\n",
    "        delta_sigma = range_sigma[1] - range_sigma[0]\n",
    "       # delta_theta = range_theta[1] - range_theta[0]\n",
    "        \n",
    "        range_d = [new_d - delta_d/2 , new_d ,new_d + delta_d/2]\n",
    "        range_sigma =[new_sigma - delta_sigma/2 , new_sigma ,new_sigma + delta_sigma/2]\n",
    "       # range_theta =[new_theta - delta_theta/2 , new_theta ,new_theta + delta_theta/2]\n",
    "    \n",
    "    \n",
    "    #run the toolbox\n",
    "    a = addm_pta_mle_limited.main(range_d, range_sigma, range_theta,\n",
    "                      None, \n",
    "                      expdata_file_name,\n",
    "                      fixations_file_name, \n",
    "                      trials_per_subject,simulations_per_condition, [],\n",
    "                      9, True, True,\n",
    "                      True)\n",
    "    \n",
    "    # Update the NLL values for this iteration\n",
    "    previous_min_nll = current_min_nll\n",
    "    current_min_nll = a[1]\n",
    "    \n",
    "    #get the new values\n",
    "    new_d = a[0][0]\n",
    "    new_sigma = a[0][1]\n",
    "    new_theta = a[0][2]\n",
    "    \n",
    "    iteration_data.append([iter_num,new_d, new_sigma, new_theta,current_min_nll]) \n",
    "\n",
    "    iter_num = iter_num + 1\n",
    "   \n",
    "iteration_dataf=pd.DataFrame(iteration_data,columns=['Iteration', 'd', 'sigma', 'theta', 'min_NLL'])\n",
    "print (\"Finished iterations!!\")"
   ]
  },
  {
   "cell_type": "markdown",
   "metadata": {},
   "source": [
    "# Parameters\n",
    "\n",
    "### (d, sigma, rangeD, rangeSigma, trialsFileName=None, trialsPerCondition=800, numThreads=9, verbose=False):"
   ]
  },
  {
   "cell_type": "code",
   "execution_count": null,
   "metadata": {},
   "outputs": [],
   "source": [
    "# Initial grid selection\n",
    "range_d = [x * 0.0001 for x in range(0, 101)] \n",
    "range_sigma = [x * 0.001 for x in range(0, 101)]\n",
    "\n",
    "# DDM parameters for generating artificial data\n",
    "d_init = 0.0024\n",
    "sigma_init = 0.062 \n",
    "\n",
    "\n",
    "#data files definition\n",
    "trials_file_name = None\n",
    "expdata_file_name = '/Users/bdmlab/OneDrive - University College London/PhD Projects/GiTs/FF2018/InputData/expdata_FFA_Like_v2.csv'\n",
    "fixations_file_name = '/Users/bdmlab/OneDrive - University College London/PhD Projects/GiTs/FF2018/InputData/fixations_FFA_Like_v2.csv'\n",
    "trials_per_subject = 120\n",
    "simulations_per_condition = 300\n",
    "\n",
    "\n",
    "\n",
    "a = ddm_pta_test.main(d_init, sigma_init, range_d, range_sigma,\n",
    "\n"
   ]
  },
  {
   "cell_type": "markdown",
   "metadata": {},
   "source": [
    "# DDM model using HDDM"
   ]
  },
  {
   "cell_type": "code",
   "execution_count": 2,
   "metadata": {},
   "outputs": [
    {
     "name": "stderr",
     "output_type": "stream",
     "text": [
      "/anaconda3/lib/python3.5/site-packages/IPython/parallel.py:13: ShimWarning: The `IPython.parallel` package has been deprecated since IPython 4.0. You should import from ipyparallel instead.\n",
      "  \"You should import from ipyparallel instead.\", ShimWarning)\n"
     ]
    }
   ],
   "source": [
    "import pandas as pd\n",
    "import matplotlib.pyplot as plt\n",
    "%matplotlib inline\n",
    "import hddm\n"
   ]
  },
  {
   "cell_type": "code",
   "execution_count": null,
   "metadata": {},
   "outputs": [],
   "source": []
  },
  {
   "cell_type": "markdown",
   "metadata": {},
   "source": [
    "## Like condition"
   ]
  },
  {
   "cell_type": "code",
   "execution_count": 5,
   "metadata": {},
   "outputs": [],
   "source": [
    "data = hddm.load_csv('/Users/bdmlab/OneDrive - University College London/PhD Projects/GiTs/FF2018/InputData/DDM_HDDM_input/expdata_FFA_Like_DDM_v1.csv')"
   ]
  },
  {
   "cell_type": "code",
   "execution_count": 7,
   "metadata": {},
   "outputs": [],
   "source": [
    "# Instantiate model object passing it our data (no need to call flip_errors() before passing it).\n",
    "# This will tailor an individual hierarchical DDM around your dataset.\n",
    "m = hddm.HDDM(data)"
   ]
  },
  {
   "cell_type": "code",
   "execution_count": 9,
   "metadata": {},
   "outputs": [
    {
     "name": "stderr",
     "output_type": "stream",
     "text": [
      "/anaconda3/lib/python3.5/site-packages/scipy/optimize/optimize.py:1932: RuntimeWarning: invalid value encountered in absolute\n",
      "  tmp2 = numpy.abs(tmp2)\n"
     ]
    },
    {
     "name": "stdout",
     "output_type": "stream",
     "text": [
      "-9346.985415262623\n",
      "-9346.771602086537\n"
     ]
    }
   ],
   "source": [
    "# find a good starting point which helps with the convergence.\n",
    "m.find_starting_values()"
   ]
  },
  {
   "cell_type": "code",
   "execution_count": 10,
   "metadata": {},
   "outputs": [
    {
     "name": "stderr",
     "output_type": "stream",
     "text": [
      "/anaconda3/lib/python3.5/site-packages/pymc/Node.py:403: VisibleDeprecationWarning: using a non-integer number instead of an integer will result in an error in the future\n",
      "  self.__name__ = input['__name__']\n"
     ]
    },
    {
     "name": "stdout",
     "output_type": "stream",
     "text": [
      " [-----------------100%-----------------] 2000 of 2000 complete in 46.6 sec"
     ]
    },
    {
     "name": "stderr",
     "output_type": "stream",
     "text": [
      "/anaconda3/lib/python3.5/site-packages/numpy/core/fromnumeric.py:224: VisibleDeprecationWarning: using a non-integer number instead of an integer will result in an error in the future\n",
      "  return reshape(newshape, order=order)\n",
      "/anaconda3/lib/python3.5/site-packages/numpy/core/fromnumeric.py:224: VisibleDeprecationWarning: using a non-integer number instead of an integer will result in an error in the future\n",
      "  return reshape(newshape, order=order)\n",
      "/anaconda3/lib/python3.5/site-packages/numpy/core/fromnumeric.py:224: VisibleDeprecationWarning: using a non-integer number instead of an integer will result in an error in the future\n",
      "  return reshape(newshape, order=order)\n",
      "/anaconda3/lib/python3.5/site-packages/numpy/core/fromnumeric.py:224: VisibleDeprecationWarning: using a non-integer number instead of an integer will result in an error in the future\n",
      "  return reshape(newshape, order=order)\n",
      "/anaconda3/lib/python3.5/site-packages/numpy/core/fromnumeric.py:224: VisibleDeprecationWarning: using a non-integer number instead of an integer will result in an error in the future\n",
      "  return reshape(newshape, order=order)\n",
      "/anaconda3/lib/python3.5/site-packages/numpy/core/fromnumeric.py:224: VisibleDeprecationWarning: using a non-integer number instead of an integer will result in an error in the future\n",
      "  return reshape(newshape, order=order)\n"
     ]
    },
    {
     "data": {
      "text/plain": [
       "<pymc.MCMC.MCMC at 0x1a15aab898>"
      ]
     },
     "execution_count": 10,
     "metadata": {},
     "output_type": "execute_result"
    }
   ],
   "source": [
    "# start drawing 7000 samples and discarding 5000 as burn-in\n",
    "m.sample(2000, burn=20)"
   ]
  },
  {
   "cell_type": "code",
   "execution_count": 12,
   "metadata": {},
   "outputs": [
    {
     "name": "stderr",
     "output_type": "stream",
     "text": [
      "/anaconda3/lib/python3.5/site-packages/numpy/core/fromnumeric.py:224: VisibleDeprecationWarning: using a non-integer number instead of an integer will result in an error in the future\n",
      "  return reshape(newshape, order=order)\n",
      "/anaconda3/lib/python3.5/site-packages/numpy/core/fromnumeric.py:224: VisibleDeprecationWarning: using a non-integer number instead of an integer will result in an error in the future\n",
      "  return reshape(newshape, order=order)\n",
      "/anaconda3/lib/python3.5/site-packages/numpy/core/fromnumeric.py:224: VisibleDeprecationWarning: using a non-integer number instead of an integer will result in an error in the future\n",
      "  return reshape(newshape, order=order)\n",
      "/anaconda3/lib/python3.5/site-packages/numpy/core/fromnumeric.py:224: VisibleDeprecationWarning: using a non-integer number instead of an integer will result in an error in the future\n",
      "  return reshape(newshape, order=order)\n",
      "/anaconda3/lib/python3.5/site-packages/numpy/core/fromnumeric.py:224: VisibleDeprecationWarning: using a non-integer number instead of an integer will result in an error in the future\n",
      "  return reshape(newshape, order=order)\n",
      "/anaconda3/lib/python3.5/site-packages/numpy/core/fromnumeric.py:224: VisibleDeprecationWarning: using a non-integer number instead of an integer will result in an error in the future\n",
      "  return reshape(newshape, order=order)\n"
     ]
    },
    {
     "name": "stdout",
     "output_type": "stream",
     "text": [
      "        mean         std       2.5q        25q        50q        75q      97.5q       mc err\n",
      "a    3.78733   0.0280561    3.73362    3.76878    3.78709     3.8058    3.84398  0.000605895\n",
      "v   0.340238  0.00997357   0.320576   0.333357   0.340176   0.347095   0.360256  0.000265262\n",
      "t  0.0288032  0.00354359  0.0214793  0.0264561  0.0290573  0.0312952  0.0349407  7.52029e-05\n",
      "DIC: 18680.049223\n",
      "deviance: 18677.141253\n",
      "pD: 2.907970\n",
      "Plotting a\n",
      "Plotting v\n",
      "Plotting t\n"
     ]
    },
    {
     "name": "stderr",
     "output_type": "stream",
     "text": [
      "/anaconda3/lib/python3.5/site-packages/matplotlib/axes/_axes.py:6462: UserWarning: The 'normed' kwarg is deprecated, and has been replaced by the 'density' kwarg.\n",
      "  warnings.warn(\"The 'normed' kwarg is deprecated, and has been \"\n"
     ]
    },
    {
     "data": {
      "image/png": "[encoded data removed]",
      "text/plain": [
       "<Figure size 720x432 with 3 Axes>"
      ]
     },
     "metadata": {},
     "output_type": "display_data"
    },
    {
     "data": {
      "image/png": "[encoded data removed]",
      "text/plain": [
       "<Figure size 720x432 with 3 Axes>"
      ]
     },
     "metadata": {},
     "output_type": "display_data"
    },
    {
     "data": {
      "image/png": "[encoded data removed]",
      "text/plain": [
       "<Figure size 720x432 with 3 Axes>"
      ]
     },
     "metadata": {},
     "output_type": "display_data"
    },
    {
     "data": {
      "image/png": "[encoded data removed]",
      "text/plain": [
       "<Figure size 576x432 with 1 Axes>"
      ]
     },
     "metadata": {},
     "output_type": "display_data"
    }
   ],
   "source": [
    "# Print fitted parameters and other model statistics\n",
    "m.print_stats()\n",
    "\n",
    "# Plot posterior distributions and theoretical RT distributions\n",
    "m.plot_posteriors()\n",
    "m.plot_posterior_predictive()"
   ]
  },
  {
   "cell_type": "code",
   "execution_count": null,
   "metadata": {},
   "outputs": [],
   "source": []
  },
  {
   "cell_type": "markdown",
   "metadata": {},
   "source": [
    "## Dislike condition"
   ]
  },
  {
   "cell_type": "code",
   "execution_count": 17,
   "metadata": {},
   "outputs": [],
   "source": [
    "data = hddm.load_csv('/Users/bdmlab/OneDrive - University College London/PhD Projects/GiTs/FF2018/InputData/DDM_HDDM_input/expdata_FFA_Dislike_DDM_v1.csv')"
   ]
  },
  {
   "cell_type": "code",
   "execution_count": 19,
   "metadata": {},
   "outputs": [
    {
     "name": "stderr",
     "output_type": "stream",
     "text": [
      "/anaconda3/lib/python3.5/site-packages/scipy/optimize/optimize.py:1932: RuntimeWarning: invalid value encountered in absolute\n",
      "  tmp2 = numpy.abs(tmp2)\n"
     ]
    },
    {
     "name": "stdout",
     "output_type": "stream",
     "text": [
      "-9839.93050048542\n",
      "-9839.930443876568\n"
     ]
    },
    {
     "name": "stderr",
     "output_type": "stream",
     "text": [
      "/anaconda3/lib/python3.5/site-packages/pymc/Node.py:403: VisibleDeprecationWarning: using a non-integer number instead of an integer will result in an error in the future\n",
      "  self.__name__ = input['__name__']\n"
     ]
    },
    {
     "name": "stdout",
     "output_type": "stream",
     "text": [
      " [-----------------100%-----------------] 2000 of 2000 complete in 46.0 sec"
     ]
    },
    {
     "name": "stderr",
     "output_type": "stream",
     "text": [
      "/anaconda3/lib/python3.5/site-packages/numpy/core/fromnumeric.py:224: VisibleDeprecationWarning: using a non-integer number instead of an integer will result in an error in the future\n",
      "  return reshape(newshape, order=order)\n",
      "/anaconda3/lib/python3.5/site-packages/numpy/core/fromnumeric.py:224: VisibleDeprecationWarning: using a non-integer number instead of an integer will result in an error in the future\n",
      "  return reshape(newshape, order=order)\n",
      "/anaconda3/lib/python3.5/site-packages/numpy/core/fromnumeric.py:224: VisibleDeprecationWarning: using a non-integer number instead of an integer will result in an error in the future\n",
      "  return reshape(newshape, order=order)\n",
      "/anaconda3/lib/python3.5/site-packages/numpy/core/fromnumeric.py:224: VisibleDeprecationWarning: using a non-integer number instead of an integer will result in an error in the future\n",
      "  return reshape(newshape, order=order)\n",
      "/anaconda3/lib/python3.5/site-packages/numpy/core/fromnumeric.py:224: VisibleDeprecationWarning: using a non-integer number instead of an integer will result in an error in the future\n",
      "  return reshape(newshape, order=order)\n",
      "/anaconda3/lib/python3.5/site-packages/numpy/core/fromnumeric.py:224: VisibleDeprecationWarning: using a non-integer number instead of an integer will result in an error in the future\n",
      "  return reshape(newshape, order=order)\n"
     ]
    },
    {
     "data": {
      "text/plain": [
       "<pymc.MCMC.MCMC at 0x1a18d2ce10>"
      ]
     },
     "execution_count": 19,
     "metadata": {},
     "output_type": "execute_result"
    }
   ],
   "source": [
    "# Instantiate model object passing it our data (no need to call flip_errors() before passing it).\n",
    "# This will tailor an individual hierarchical DDM around your dataset.\n",
    "m = hddm.HDDM(data)\n",
    "\n",
    "# find a good starting point which helps with the convergence.\n",
    "m.find_starting_values()\n",
    "\n",
    "# start drawing 7000 samples and discarding 5000 as burn-in\n",
    "m.sample(2000, burn=20)"
   ]
  },
  {
   "cell_type": "code",
   "execution_count": 20,
   "metadata": {},
   "outputs": [
    {
     "name": "stdout",
     "output_type": "stream",
     "text": [
      "        mean         std       2.5q        25q        50q        75q      97.5q       mc err\n",
      "a    3.90153    0.028573    3.84638    3.88194    3.90105    3.92149    3.95844  0.000699364\n",
      "v   0.293225  0.00914226   0.276035   0.286788   0.293003   0.299508    0.31148  0.000249716\n",
      "t  0.0827715  0.00427285  0.0739105  0.0800994  0.0829688  0.0856394  0.0909062   0.00010363\n",
      "DIC: 19671.292954\n",
      "deviance: 19668.336801\n",
      "pD: 2.956154\n",
      "Plotting a\n",
      "Plotting v\n"
     ]
    },
    {
     "name": "stderr",
     "output_type": "stream",
     "text": [
      "/anaconda3/lib/python3.5/site-packages/numpy/core/fromnumeric.py:224: VisibleDeprecationWarning: using a non-integer number instead of an integer will result in an error in the future\n",
      "  return reshape(newshape, order=order)\n",
      "/anaconda3/lib/python3.5/site-packages/numpy/core/fromnumeric.py:224: VisibleDeprecationWarning: using a non-integer number instead of an integer will result in an error in the future\n",
      "  return reshape(newshape, order=order)\n",
      "/anaconda3/lib/python3.5/site-packages/numpy/core/fromnumeric.py:224: VisibleDeprecationWarning: using a non-integer number instead of an integer will result in an error in the future\n",
      "  return reshape(newshape, order=order)\n",
      "/anaconda3/lib/python3.5/site-packages/numpy/core/fromnumeric.py:224: VisibleDeprecationWarning: using a non-integer number instead of an integer will result in an error in the future\n",
      "  return reshape(newshape, order=order)\n",
      "/anaconda3/lib/python3.5/site-packages/numpy/core/fromnumeric.py:224: VisibleDeprecationWarning: using a non-integer number instead of an integer will result in an error in the future\n",
      "  return reshape(newshape, order=order)\n",
      "/anaconda3/lib/python3.5/site-packages/numpy/core/fromnumeric.py:224: VisibleDeprecationWarning: using a non-integer number instead of an integer will result in an error in the future\n",
      "  return reshape(newshape, order=order)\n"
     ]
    },
    {
     "name": "stdout",
     "output_type": "stream",
     "text": [
      "Plotting t\n"
     ]
    },
    {
     "name": "stderr",
     "output_type": "stream",
     "text": [
      "/anaconda3/lib/python3.5/site-packages/matplotlib/axes/_axes.py:6462: UserWarning: The 'normed' kwarg is deprecated, and has been replaced by the 'density' kwarg.\n",
      "  warnings.warn(\"The 'normed' kwarg is deprecated, and has been \"\n"
     ]
    },
    {
     "data": {
      "image/png": "[encoded data removed]",
      "text/plain": [
       "<Figure size 720x432 with 3 Axes>"
      ]
     },
     "metadata": {},
     "output_type": "display_data"
    },
    {
     "data": {
      "image/png": "[encoded data removed]",
      "text/plain": [
       "<Figure size 720x432 with 3 Axes>"
      ]
     },
     "metadata": {},
     "output_type": "display_data"
    },
    {
     "data": {
      "image/png": "[encoded data removed]",
      "text/plain": [
       "<Figure size 720x432 with 3 Axes>"
      ]
     },
     "metadata": {},
     "output_type": "display_data"
    },
    {
     "data": {
      "image/png": "[encoded data removed]",
      "text/plain": [
       "<Figure size 576x432 with 1 Axes>"
      ]
     },
     "metadata": {},
     "output_type": "display_data"
    }
   ],
   "source": [
    "# Print fitted parameters and other model statistics\n",
    "m.print_stats()\n",
    "\n",
    "# Plot posterior distributions and theoretical RT distributions\n",
    "m.plot_posteriors()\n",
    "m.plot_posterior_predictive()"
   ]
  },
  {
   "cell_type": "markdown",
   "metadata": {},
   "source": [
    "## ----------------------------- TO CHECK ---------- -----"
   ]
  },
  {
   "cell_type": "markdown",
   "metadata": {},
   "source": [
    "# Using PTA algorithm to solve aDDM"
   ]
  },
  {
   "cell_type": "code",
   "execution_count": 30,
   "metadata": {},
   "outputs": [],
   "source": [
    "from __future__ import absolute_import\n",
    "import argparse\n",
    "from addm_toolbox import addm_pta_mle_limited\n",
    "import numpy as np\n",
    "import pandas as pd\n"
   ]
  },
  {
   "cell_type": "markdown",
   "metadata": {},
   "source": [
    "# Parameters \n",
    "### addm_pta_map.main\n",
    "#### def main(rangeD, rangeSigma, rangeTheta, trialsFileName=None,expdataFileName=None, fixationsFileName=None, trialsPerSubject=100, numSamples=100, numSimulations=800, subjectIds=[], numThreads=9,saveSimulations=False, saveFigures=False, verbose=False):"
   ]
  },
  {
   "cell_type": "markdown",
   "metadata": {},
   "source": [
    "## Dislike condition grid iterations"
   ]
  },
  {
   "cell_type": "code",
   "execution_count": 31,
   "metadata": {},
   "outputs": [
    {
     "name": "stdout",
     "output_type": "stream",
     "text": [
      "Loading experimental data...\n",
      "Starting grid search...\n",
      "Computing likelihoods for model (0.003, 0.03, 0.3)...\n",
      "Computing likelihoods for model (0.003, 0.03, 0.5)...\n",
      "Computing likelihoods for model (0.003, 0.03, 0.7)...\n",
      "Computing likelihoods for model (0.003, 0.06, 0.3)...\n",
      "Computing likelihoods for model (0.003, 0.06, 0.5)...\n",
      "Computing likelihoods for model (0.003, 0.06, 0.7)...\n",
      "Computing likelihoods for model (0.003, 0.09, 0.3)...\n",
      "Computing likelihoods for model (0.003, 0.09, 0.5)...\n",
      "Computing likelihoods for model (0.003, 0.09, 0.7)...\n",
      "Computing likelihoods for model (0.006, 0.03, 0.3)...\n",
      "Computing likelihoods for model (0.006, 0.03, 0.5)...\n",
      "Computing likelihoods for model (0.006, 0.03, 0.7)...\n",
      "Computing likelihoods for model (0.006, 0.06, 0.3)...\n",
      "Computing likelihoods for model (0.006, 0.06, 0.5)...\n",
      "Computing likelihoods for model (0.006, 0.06, 0.7)...\n",
      "Computing likelihoods for model (0.006, 0.09, 0.3)...\n",
      "Computing likelihoods for model (0.006, 0.09, 0.5)...\n",
      "Computing likelihoods for model (0.006, 0.09, 0.7)...\n",
      "Computing likelihoods for model (0.009, 0.03, 0.3)...\n",
      "Computing likelihoods for model (0.009, 0.03, 0.5)...\n",
      "Computing likelihoods for model (0.009, 0.03, 0.7)...\n",
      "Computing likelihoods for model (0.009, 0.06, 0.3)...\n",
      "Computing likelihoods for model (0.009, 0.06, 0.5)...\n",
      "Computing likelihoods for model (0.009, 0.06, 0.7)...\n",
      "Computing likelihoods for model (0.009, 0.09, 0.3)...\n",
      "Computing likelihoods for model (0.009, 0.09, 0.5)...\n",
      "Computing likelihoods for model (0.009, 0.09, 0.7)...\n",
      "Finished grid search!\n",
      "Optimal d: 0.006\n",
      "Optimal sigma: 0.06\n",
      "Optimal theta: 0.7\n",
      "Min NLL: 13671.2932071381\n",
      "PS modification to avoid calculating simulations. To undo, please uncomment last section at /Users/bdmlab/anaconda3/lib/python3.6/site-packages/addm_toolbox/addm_pta_mle.py\n",
      "Loading experimental data...\n",
      "Starting grid search...\n",
      "Computing likelihoods for model (0.0045000000000000005, 0.045, 0.6)...\n",
      "Computing likelihoods for model (0.0045000000000000005, 0.045, 0.7)...\n",
      "Computing likelihoods for model (0.0045000000000000005, 0.045, 0.7999999999999999)...\n",
      "Computing likelihoods for model (0.0045000000000000005, 0.06, 0.6)...\n",
      "Computing likelihoods for model (0.0045000000000000005, 0.06, 0.7)...\n",
      "Computing likelihoods for model (0.0045000000000000005, 0.06, 0.7999999999999999)...\n",
      "Computing likelihoods for model (0.0045000000000000005, 0.075, 0.6)...\n",
      "Computing likelihoods for model (0.0045000000000000005, 0.075, 0.7)...\n",
      "Computing likelihoods for model (0.0045000000000000005, 0.075, 0.7999999999999999)...\n",
      "Computing likelihoods for model (0.006, 0.045, 0.6)...\n",
      "Computing likelihoods for model (0.006, 0.045, 0.7)...\n",
      "Computing likelihoods for model (0.006, 0.045, 0.7999999999999999)...\n",
      "Computing likelihoods for model (0.006, 0.06, 0.6)...\n",
      "Computing likelihoods for model (0.006, 0.06, 0.7)...\n",
      "Computing likelihoods for model (0.006, 0.06, 0.7999999999999999)...\n",
      "Computing likelihoods for model (0.006, 0.075, 0.6)...\n",
      "Computing likelihoods for model (0.006, 0.075, 0.7)...\n",
      "Computing likelihoods for model (0.006, 0.075, 0.7999999999999999)...\n",
      "Computing likelihoods for model (0.0075, 0.045, 0.6)...\n",
      "Computing likelihoods for model (0.0075, 0.045, 0.7)...\n",
      "Computing likelihoods for model (0.0075, 0.045, 0.7999999999999999)...\n",
      "Computing likelihoods for model (0.0075, 0.06, 0.6)...\n",
      "Computing likelihoods for model (0.0075, 0.06, 0.7)...\n",
      "Computing likelihoods for model (0.0075, 0.06, 0.7999999999999999)...\n",
      "Computing likelihoods for model (0.0075, 0.075, 0.6)...\n",
      "Computing likelihoods for model (0.0075, 0.075, 0.7)...\n",
      "Computing likelihoods for model (0.0075, 0.075, 0.7999999999999999)...\n",
      "Finished grid search!\n",
      "Optimal d: 0.006\n",
      "Optimal sigma: 0.045\n",
      "Optimal theta: 0.7\n",
      "Min NLL: 13313.08219948444\n",
      "PS modification to avoid calculating simulations. To undo, please uncomment last section at /Users/bdmlab/anaconda3/lib/python3.6/site-packages/addm_toolbox/addm_pta_mle.py\n",
      "Loading experimental data...\n",
      "Starting grid search...\n",
      "Computing likelihoods for model (0.00525, 0.0375, 0.6499999999999999)...\n",
      "Computing likelihoods for model (0.00525, 0.0375, 0.7)...\n",
      "Computing likelihoods for model (0.00525, 0.0375, 0.75)...\n",
      "Computing likelihoods for model (0.00525, 0.045, 0.6499999999999999)...\n",
      "Computing likelihoods for model (0.00525, 0.045, 0.7)...\n",
      "Computing likelihoods for model (0.00525, 0.045, 0.75)...\n",
      "Computing likelihoods for model (0.00525, 0.0525, 0.6499999999999999)...\n",
      "Computing likelihoods for model (0.00525, 0.0525, 0.7)...\n",
      "Computing likelihoods for model (0.00525, 0.0525, 0.75)...\n",
      "Computing likelihoods for model (0.006, 0.0375, 0.6499999999999999)...\n",
      "Computing likelihoods for model (0.006, 0.0375, 0.7)...\n",
      "Computing likelihoods for model (0.006, 0.0375, 0.75)...\n",
      "Computing likelihoods for model (0.006, 0.045, 0.6499999999999999)...\n",
      "Computing likelihoods for model (0.006, 0.045, 0.7)...\n",
      "Computing likelihoods for model (0.006, 0.045, 0.75)...\n",
      "Computing likelihoods for model (0.006, 0.0525, 0.6499999999999999)...\n",
      "Computing likelihoods for model (0.006, 0.0525, 0.7)...\n",
      "Computing likelihoods for model (0.006, 0.0525, 0.75)...\n",
      "Computing likelihoods for model (0.00675, 0.0375, 0.6499999999999999)...\n",
      "Computing likelihoods for model (0.00675, 0.0375, 0.7)...\n",
      "Computing likelihoods for model (0.00675, 0.0375, 0.75)...\n",
      "Computing likelihoods for model (0.00675, 0.045, 0.6499999999999999)...\n",
      "Computing likelihoods for model (0.00675, 0.045, 0.7)...\n",
      "Computing likelihoods for model (0.00675, 0.045, 0.75)...\n",
      "Computing likelihoods for model (0.00675, 0.0525, 0.6499999999999999)...\n",
      "Computing likelihoods for model (0.00675, 0.0525, 0.7)...\n",
      "Computing likelihoods for model (0.00675, 0.0525, 0.75)...\n",
      "Finished grid search!\n",
      "Optimal d: 0.00675\n",
      "Optimal sigma: 0.045\n",
      "Optimal theta: 0.75\n",
      "Min NLL: 13308.758226017915\n",
      "PS modification to avoid calculating simulations. To undo, please uncomment last section at /Users/bdmlab/anaconda3/lib/python3.6/site-packages/addm_toolbox/addm_pta_mle.py\n",
      "Finished iterations!!\n"
     ]
    }
   ],
   "source": [
    "iteration_data = []\n",
    "current_min_nll = 0\n",
    "previous_min_nll = 0\n",
    "\n",
    "\n",
    "# Initial grid selection\n",
    "range_d = [0.003, 0.006, 0.009]\n",
    "range_sigma = [0.03, 0.06, 0.09]\n",
    "range_theta = [0.3, 0.5, 0.7]\n",
    "\n",
    "#data files definition\n",
    "trials_file_name = None\n",
    "expdata_file_name = '/Users/bdmlab/OneDrive - University College London/PhD Projects/GiTs/FF2018/InputData/expdata_FFA_Dislike_v2.csv'\n",
    "fixations_file_name = '/Users/bdmlab/OneDrive - University College London/PhD Projects/GiTs/FF2018/InputData/fixations_FFA_Dislike_v2.csv'\n",
    "trials_per_subject = 120\n",
    "simulations_per_condition = 300\n",
    "\n",
    "iter_num = 1\n",
    "\n",
    "while (abs(current_min_nll-previous_min_nll) > (previous_min_nll*1/100)) or iter_num == 1:\n",
    "    \n",
    "    if iter_num > 1:  \n",
    "        delta_d = range_d[1]-range_d[0]\n",
    "        delta_sigma = range_sigma[1] - range_sigma[0]\n",
    "        delta_theta = range_theta[1] - range_theta[0]\n",
    "        \n",
    "        range_d = [new_d - delta_d/2 , new_d ,new_d + delta_d/2]\n",
    "        range_sigma =[new_sigma - delta_sigma/2 , new_sigma ,new_sigma + delta_sigma/2]\n",
    "        range_theta =[new_theta - delta_theta/2 , new_theta ,new_theta + delta_theta/2]\n",
    "    \n",
    "    \n",
    "    #run the toolbox\n",
    "    a = addm_pta_mle_limited.main(range_d, range_sigma, range_theta,\n",
    "                      None, \n",
    "                      expdata_file_name,\n",
    "                      fixations_file_name, \n",
    "                      trials_per_subject,simulations_per_condition, [],\n",
    "                      9, True, True,\n",
    "                      True)\n",
    "    \n",
    "    # Update the NLL values for this iteration\n",
    "    previous_min_nll = current_min_nll\n",
    "    current_min_nll = a[1]\n",
    "    \n",
    "    #get the new values\n",
    "    new_d = a[0][0]\n",
    "    new_sigma = a[0][1]\n",
    "    new_theta = a[0][2]\n",
    "    \n",
    "    iteration_data.append([iter_num,new_d, new_sigma, new_theta,current_min_nll]) \n",
    "\n",
    "    iter_num = iter_num + 1\n",
    "\n",
    "\n",
    "\n",
    "    \n",
    "    \n",
    "iteration_dataf=pd.DataFrame(iteration_data,columns=['Iteration', 'd', 'sigma', 'theta', 'min_NLL'])\n",
    "print (\"Finished iterations!!\")\n"
   ]
  }
 ],
 "metadata": {
  "kernelspec": {
   "display_name": "Python 3",
   "language": "python",
   "name": "python3"
  },
  "language_info": {
   "codemirror_mode": {
    "name": "ipython",
    "version": 3
   },
   "file_extension": ".py",
   "mimetype": "text/x-python",
   "name": "python",
   "nbconvert_exporter": "python",
   "pygments_lexer": "ipython3",
   "version": "3.5.4"
  }
 },
 "nbformat": 4,
 "nbformat_minor": 2
}
