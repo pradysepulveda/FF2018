{
 "cells": [
  {
   "cell_type": "code",
   "execution_count": null,
   "metadata": {},
   "outputs": [],
   "source": []
  },
  {
   "cell_type": "raw",
   "metadata": {},
   "source": [
    "<script>\n",
    "  function code_toggle() {\n",
    "    if (code_shown){\n",
    "      $('div.input').hide('500');\n",
    "      $('#toggleButton').val('Show Code')\n",
    "    } else {\n",
    "      $('div.input').show('500');\n",
    "      $('#toggleButton').val('Hide Code')\n",
    "    }\n",
    "    code_shown = !code_shown\n",
    "  }\n",
    "\n",
    "  $( document ).ready(function(){\n",
    "    code_shown=false;\n",
    "    $('div.input').hide()\n",
    "  });\n",
    "</script>\n",
    "<form action=\"javascript:code_toggle()\"><input type=\"submit\" id=\"toggleButton\" value=\"Show Code\"></form>"
   ]
  },
  {
   "cell_type": "markdown",
   "metadata": {},
   "source": [
    "# aDDM_gridSearch Script"
   ]
  },
  {
   "cell_type": "markdown",
   "metadata": {},
   "source": [
    "Implement the iterative step for the search of optimal parameter sets. Use of aDDM_pta_mla script from addm_toolbox (https://github.com/goptavares/aDDM-Toolbox)"
   ]
  },
  {
   "cell_type": "code",
   "execution_count": null,
   "metadata": {},
   "outputs": [],
   "source": [
    "from __future__ import absolute_import\n",
    "import argparse\n",
    "from addm_toolbox import addm_pta_mle_limited\n",
    "import numpy as np\n",
    "import pandas as pd\n"
   ]
  },
  {
   "cell_type": "code",
   "execution_count": null,
   "metadata": {},
   "outputs": [],
   "source": [
    "import addm_toolbox"
   ]
  },
  {
   "cell_type": "code",
   "execution_count": null,
   "metadata": {},
   "outputs": [],
   "source": [
    "addm_toolbox"
   ]
  },
  {
   "cell_type": "markdown",
   "metadata": {},
   "source": [
    "### + Free parameters in the model\n",
    "\n",
    "#####    d : controls speed of signal integration (Free DDM parameter)\n",
    "#####   sigma: standard deviation of normal distribution (Free DDM parameter)\n",
    "#####   theta: controls attentional bias (Free aDDM parameter)\n",
    "\n",
    "### + Inputs for toolobox addm_pta_mle script \n",
    "##### range_d,range_sigma,range_theta : range to define the grid for parameter search\n",
    "##### trials_file_name : filepath with trial conditions (to be used for simulations)\n",
    "##### expdata_file_name :  filepath with trial info [participant, trial number, RT, response, values]\n",
    "##### fixations_file_name : filepath with fixations info [participant, trial num, fixation_id, fixation_time]\n",
    "##### Extra parameters: trials_per_subject, simulations_per_condition, subject_ids (number of the subjects to be included for adjusting the parameters, num_threads (parallel processing),save_simulations, save_figures, verbose (deliver reports)\n",
    "\n",
    "###  + Initial grid selection:\n",
    "##### range_d = [0.003, 0.006, 0.009] ; range_sigma = [0.03, 0.06, 0.09] ; range_theta = [0.3, 0.5, 0.7]\n",
    "\n",
    "### + Iteration (adjustment to a new grid) until the change in min NNL is <1%"
   ]
  },
  {
   "cell_type": "markdown",
   "metadata": {},
   "source": [
    "## Dislike condition grid iterations\n",
    "\n"
   ]
  },
  {
   "cell_type": "code",
   "execution_count": null,
   "metadata": {},
   "outputs": [],
   "source": [
    "iteration_data = []\n",
    "current_min_nll = 0\n",
    "previous_min_nll = 0\n",
    "\n",
    "\n",
    "# Initial grid selection\n",
    "range_d = [0.003, 0.006, 0.009]\n",
    "range_sigma = [0.03, 0.06, 0.09]\n",
    "range_theta = [0.3, 0.5, 0.7]\n",
    "\n",
    "#data files definition\n",
    "trials_file_name = None\n",
    "expdata_file_name = '/Users/bdmlab/OneDrive - University College London/PhD Projects/GiTs/FF2018/InputData/expdata_FFA_Dislike_v2.csv'\n",
    "fixations_file_name = '/Users/bdmlab/OneDrive - University College London/PhD Projects/GiTs/FF2018/InputData/fixations_FFA_Dislike_v2.csv'\n",
    "trials_per_subject = 120\n",
    "simulations_per_condition = 300\n",
    "\n",
    "iter_num = 1\n",
    "\n",
    "while (abs(current_min_nll-previous_min_nll) > (previous_min_nll*1/100)) or iter_num == 1:\n",
    "    \n",
    "    if iter_num > 1:  \n",
    "        delta_d = range_d[1]-range_d[0]\n",
    "        delta_sigma = range_sigma[1] - range_sigma[0]\n",
    "        delta_theta = range_theta[1] - range_theta[0]\n",
    "        \n",
    "        range_d = [new_d - delta_d/2 , new_d ,new_d + delta_d/2]\n",
    "        range_sigma =[new_sigma - delta_sigma/2 , new_sigma ,new_sigma + delta_sigma/2]\n",
    "        range_theta =[new_theta - delta_theta/2 , new_theta ,new_theta + delta_theta/2]\n",
    "    \n",
    "    \n",
    "    #run the toolbox\n",
    "    a = addm_pta_mle_limited.main(range_d, range_sigma, range_theta,\n",
    "                      None, \n",
    "                      expdata_file_name,\n",
    "                      fixations_file_name, \n",
    "                      trials_per_subject,simulations_per_condition, [],\n",
    "                      9, True, True,\n",
    "                      True)\n",
    "    \n",
    "    # Update the NLL values for this iteration\n",
    "    previous_min_nll = current_min_nll\n",
    "    current_min_nll = a[1]\n",
    "    \n",
    "    #get the new values\n",
    "    new_d = a[0][0]\n",
    "    new_sigma = a[0][1]\n",
    "    new_theta = a[0][2]\n",
    "    \n",
    "    iteration_data.append([iter_num,new_d, new_sigma, new_theta,current_min_nll]) \n",
    "\n",
    "    iter_num = iter_num + 1\n",
    "\n",
    "\n",
    "\n",
    "    \n",
    "    \n",
    "iteration_dataf=pd.DataFrame(iteration_data,columns=['Iteration', 'd', 'sigma', 'theta', 'min_NLL'])\n",
    "print (\"Finished iterations!!\")\n"
   ]
  },
  {
   "cell_type": "code",
   "execution_count": null,
   "metadata": {},
   "outputs": [],
   "source": [
    "iterations_dislike = iteration_dataf\n",
    "iterations_dislike"
   ]
  },
  {
   "cell_type": "markdown",
   "metadata": {},
   "source": [
    "## Like condition grid iterations"
   ]
  },
  {
   "cell_type": "code",
   "execution_count": null,
   "metadata": {},
   "outputs": [],
   "source": [
    "iteration_data = []\n",
    "current_min_nll = 0\n",
    "previous_min_nll = 0\n",
    "\n",
    "\n",
    "# Initial grid selection\n",
    "range_d = [0.003, 0.006, 0.009]\n",
    "range_sigma = [0.03, 0.06, 0.09]\n",
    "range_theta = [0.3, 0.5, 0.7]\n",
    "\n",
    "#data files definition\n",
    "trials_file_name = None\n",
    "expdata_file_name = '/Users/bdmlab/OneDrive - University College London/PhD Projects/GiTs/FF2018/InputData/expdata_FFA_Like_v2.csv'\n",
    "fixations_file_name = '/Users/bdmlab/OneDrive - University College London/PhD Projects/GiTs/FF2018/InputData/fixations_FFA_Like_v2.csv'\n",
    "trials_per_subject = 120\n",
    "simulations_per_condition = 300\n",
    "\n",
    "iter_num = 1\n",
    "\n",
    "while (abs(current_min_nll-previous_min_nll) > (previous_min_nll*1/100)) or iter_num == 1:\n",
    "    \n",
    "    if iter_num > 1:\n",
    "        delta_d = range_d[1]-range_d[0]\n",
    "        delta_sigma = range_sigma[1] - range_sigma[0]\n",
    "        delta_theta = range_theta[1] - range_theta[0]\n",
    "        \n",
    "        range_d = [new_d - delta_d/2 , new_d ,new_d + delta_d/2]\n",
    "        range_sigma =[new_sigma - delta_sigma/2 , new_sigma ,new_sigma + delta_sigma/2]\n",
    "        range_theta =[new_theta - delta_theta/2 , new_theta ,new_theta + delta_theta/2]\n",
    "    \n",
    "    \n",
    "    #run the toolbox\n",
    "    a = addm_pta_mle_limited.main(range_d, range_sigma, range_theta,\n",
    "                      None, \n",
    "                      expdata_file_name,\n",
    "                      fixations_file_name, \n",
    "                      trials_per_subject,simulations_per_condition, [],\n",
    "                      9, True, True,\n",
    "                      True)\n",
    "    \n",
    "    # Update the NLL values for this iteration\n",
    "    previous_min_nll = current_min_nll\n",
    "    current_min_nll = a[1]\n",
    "    \n",
    "    #get the new values\n",
    "    new_d = a[0][0]\n",
    "    new_sigma = a[0][1]\n",
    "    new_theta = a[0][2]\n",
    "    \n",
    "    iteration_data.append([iter_num,new_d, new_sigma, new_theta,current_min_nll]) \n",
    "\n",
    "    iter_num = iter_num + 1\n",
    "\n",
    "\n",
    "\n",
    "    \n",
    "    \n",
    "iteration_dataf=pd.DataFrame(iteration_data,columns=['Iteration', 'd', 'sigma', 'theta', 'min_NLL'])\n",
    "print (\"Finished iterations!!\")\n",
    "\n"
   ]
  },
  {
   "cell_type": "code",
   "execution_count": null,
   "metadata": {},
   "outputs": [],
   "source": [
    "iterations_like = iteration_dataf\n",
    "iterations_like"
   ]
  },
  {
   "cell_type": "markdown",
   "metadata": {},
   "source": [
    "# traditional DDM run\n",
    "\n",
    "### According to Tavares et al (2017) traditional DDM model is obtained when the attentional parameter (theta) is fixed to 1 "
   ]
  },
  {
   "cell_type": "code",
   "execution_count": null,
   "metadata": {},
   "outputs": [],
   "source": [
    "from addm_toolbox import ddm_pta_test"
   ]
  },
  {
   "cell_type": "markdown",
   "metadata": {},
   "source": [
    "## Like condition"
   ]
  },
  {
   "cell_type": "code",
   "execution_count": null,
   "metadata": {},
   "outputs": [],
   "source": [
    "iteration_data = []\n",
    "current_min_nll = 0\n",
    "previous_min_nll = 0\n",
    "\n",
    "\n",
    "# Initial grid selection\n",
    "range_d = [0.003, 0.006, 0.009]\n",
    "range_sigma = [0.03, 0.06, 0.09]\n",
    "range_theta = [1]\n",
    "\n",
    "#data files definition\n",
    "trials_file_name = None\n",
    "expdata_file_name = '/Users/bdmlab/OneDrive - University College London/PhD Projects/GiTs/FF2018/InputData/expdata_FFA_Like_v2.csv'\n",
    "fixations_file_name = '/Users/bdmlab/OneDrive - University College London/PhD Projects/GiTs/FF2018/InputData/fixations_FFA_Like_v2.csv'\n",
    "trials_per_subject = 120\n",
    "simulations_per_condition = 300\n",
    "\n",
    "iter_num = 1\n",
    "\n",
    "while (abs(current_min_nll-previous_min_nll) > (previous_min_nll*1/100)) or iter_num == 1:\n",
    "    \n",
    "    if iter_num > 1:\n",
    "        delta_d = range_d[1]-range_d[0]\n",
    "        delta_sigma = range_sigma[1] - range_sigma[0]\n",
    "       # delta_theta = range_theta[1] - range_theta[0]\n",
    "        \n",
    "        range_d = [new_d - delta_d/2 , new_d ,new_d + delta_d/2]\n",
    "        range_sigma =[new_sigma - delta_sigma/2 , new_sigma ,new_sigma + delta_sigma/2]\n",
    "       # range_theta =[new_theta - delta_theta/2 , new_theta ,new_theta + delta_theta/2]\n",
    "    \n",
    "    \n",
    "    #run the toolbox\n",
    "    a = addm_pta_mle_limited.main(range_d, range_sigma, range_theta,\n",
    "                      None, \n",
    "                      expdata_file_name,\n",
    "                      fixations_file_name, \n",
    "                      trials_per_subject,simulations_per_condition, [],\n",
    "                      9, True, True,\n",
    "                      True)\n",
    "    \n",
    "    # Update the NLL values for this iteration\n",
    "    previous_min_nll = current_min_nll\n",
    "    current_min_nll = a[1]\n",
    "    \n",
    "    #get the new values\n",
    "    new_d = a[0][0]\n",
    "    new_sigma = a[0][1]\n",
    "    new_theta = a[0][2]\n",
    "    \n",
    "    iteration_data.append([iter_num,new_d, new_sigma, new_theta,current_min_nll]) \n",
    "\n",
    "    iter_num = iter_num + 1\n",
    "\n",
    "\n",
    "\n",
    "    \n",
    "    \n",
    "iteration_dataf=pd.DataFrame(iteration_data,columns=['Iteration', 'd', 'sigma', 'theta', 'min_NLL'])\n",
    "print (\"Finished iterations!!\")"
   ]
  },
  {
   "cell_type": "markdown",
   "metadata": {},
   "source": [
    "## Dislike condition"
   ]
  },
  {
   "cell_type": "code",
   "execution_count": null,
   "metadata": {},
   "outputs": [],
   "source": [
    "iteration_data = []\n",
    "current_min_nll = 0\n",
    "previous_min_nll = 0\n",
    "\n",
    "\n",
    "# Initial grid selection\n",
    "range_d = [0.003, 0.006, 0.009]\n",
    "range_sigma = [0.03, 0.06, 0.09]\n",
    "range_theta = [1]\n",
    "\n",
    "#data files definition\n",
    "trials_file_name = None\n",
    "expdata_file_name = '/Users/bdmlab/OneDrive - University College London/PhD Projects/GiTs/FF2018/InputData/expdata_FFA_Dislike_v2.csv'\n",
    "fixations_file_name = '/Users/bdmlab/OneDrive - University College London/PhD Projects/GiTs/FF2018/InputData/fixations_FFA_Dislike_v2.csv'\n",
    "trials_per_subject = 120\n",
    "simulations_per_condition = 300\n",
    "\n",
    "iter_num = 1\n",
    "\n",
    "while (abs(current_min_nll-previous_min_nll) > (previous_min_nll*1/100)) or iter_num == 1:\n",
    "    \n",
    "    if iter_num > 1:\n",
    "        delta_d = range_d[1]-range_d[0]\n",
    "        delta_sigma = range_sigma[1] - range_sigma[0]\n",
    "       # delta_theta = range_theta[1] - range_theta[0]\n",
    "        \n",
    "        range_d = [new_d - delta_d/2 , new_d ,new_d + delta_d/2]\n",
    "        range_sigma =[new_sigma - delta_sigma/2 , new_sigma ,new_sigma + delta_sigma/2]\n",
    "       # range_theta =[new_theta - delta_theta/2 , new_theta ,new_theta + delta_theta/2]\n",
    "    \n",
    "    \n",
    "    #run the toolbox\n",
    "    a = addm_pta_mle_limited.main(range_d, range_sigma, range_theta,\n",
    "                      None, \n",
    "                      expdata_file_name,\n",
    "                      fixations_file_name, \n",
    "                      trials_per_subject,simulations_per_condition, [],\n",
    "                      9, True, True,\n",
    "                      True)\n",
    "    \n",
    "    # Update the NLL values for this iteration\n",
    "    previous_min_nll = current_min_nll\n",
    "    current_min_nll = a[1]\n",
    "    \n",
    "    #get the new values\n",
    "    new_d = a[0][0]\n",
    "    new_sigma = a[0][1]\n",
    "    new_theta = a[0][2]\n",
    "    \n",
    "    iteration_data.append([iter_num,new_d, new_sigma, new_theta,current_min_nll]) \n",
    "\n",
    "    iter_num = iter_num + 1\n",
    "   \n",
    "iteration_dataf=pd.DataFrame(iteration_data,columns=['Iteration', 'd', 'sigma', 'theta', 'min_NLL'])\n",
    "print (\"Finished iterations!!\")"
   ]
  },
  {
   "cell_type": "markdown",
   "metadata": {},
   "source": [
    "*** \n",
    "\n",
    "# DDM model using HDDM\n",
    "\n",
    "### Additionally, HDDM (http://ski.clps.brown.edu/hddm_docs/) was used to calculate the parameters. In this case the parameters are defined in a different way than in Tavares's toolbox. \n",
    "\n",
    "The speed with which the accumulation process approaches one of the two boundaries is called drift-rate __v__ and represents the relative evidence for or against a particular response. \n",
    "\n",
    "The distance between the two boundaries (i.e. threshold **a** ) influences how much evidence must be accumulated until a response is executed. \n",
    "\n",
    "Response time, however, is not solely comprised of the decision making process – perception, movement initiation and execution all take time and are lumped in the DDM by a single non-decision time parameter __t__."
   ]
  },
  {
   "cell_type": "code",
   "execution_count": null,
   "metadata": {},
   "outputs": [],
   "source": [
    "import pandas as pd\n",
    "import matplotlib.pyplot as plt\n",
    "%matplotlib inline\n",
    "import hddm\n"
   ]
  },
  {
   "cell_type": "code",
   "execution_count": null,
   "metadata": {},
   "outputs": [],
   "source": []
  },
  {
   "cell_type": "markdown",
   "metadata": {},
   "source": [
    "## Like condition"
   ]
  },
  {
   "cell_type": "code",
   "execution_count": null,
   "metadata": {},
   "outputs": [],
   "source": [
    "data = hddm.load_csv('/Users/bdmlab/OneDrive - University College London/PhD Projects/GiTs/FF2018/InputData/DDM_HDDM_input/expdata_FFA_Like_DDM_v1.csv')"
   ]
  },
  {
   "cell_type": "code",
   "execution_count": null,
   "metadata": {},
   "outputs": [],
   "source": [
    "# Instantiate model object passing it our data (no need to call flip_errors() before passing it).\n",
    "# This will tailor an individual hierarchical DDM around your dataset.\n",
    "m = hddm.HDDM(data)"
   ]
  },
  {
   "cell_type": "code",
   "execution_count": null,
   "metadata": {},
   "outputs": [],
   "source": [
    "# find a good starting point which helps with the convergence.\n",
    "m.find_starting_values()"
   ]
  },
  {
   "cell_type": "code",
   "execution_count": null,
   "metadata": {},
   "outputs": [],
   "source": [
    "# start drawing 7000 samples and discarding 5000 as burn-in\n",
    "m.sample(2000, burn=20)"
   ]
  },
  {
   "cell_type": "code",
   "execution_count": null,
   "metadata": {},
   "outputs": [],
   "source": [
    "# Print fitted parameters and other model statistics\n",
    "m.print_stats()\n",
    "\n",
    "# Plot posterior distributions and theoretical RT distributions\n",
    "m.plot_posteriors()\n",
    "m.plot_posterior_predictive()"
   ]
  },
  {
   "cell_type": "markdown",
   "metadata": {},
   "source": [
    "## Dislike condition"
   ]
  },
  {
   "cell_type": "code",
   "execution_count": null,
   "metadata": {},
   "outputs": [],
   "source": [
    "data = hddm.load_csv('/Users/bdmlab/OneDrive - University College London/PhD Projects/GiTs/FF2018/InputData/DDM_HDDM_input/expdata_FFA_Dislike_DDM_v1.csv')"
   ]
  },
  {
   "cell_type": "code",
   "execution_count": null,
   "metadata": {},
   "outputs": [],
   "source": [
    "# Instantiate model object passing it our data (no need to call flip_errors() before passing it).\n",
    "# This will tailor an individual hierarchical DDM around your dataset.\n",
    "m = hddm.HDDM(data)\n",
    "\n",
    "# find a good starting point which helps with the convergence.\n",
    "m.find_starting_values()\n",
    "\n",
    "# start drawing 7000 samples and discarding 5000 as burn-in\n",
    "m.sample(2000, burn=20)"
   ]
  },
  {
   "cell_type": "code",
   "execution_count": null,
   "metadata": {},
   "outputs": [],
   "source": [
    "# Print fitted parameters and other model statistics\n",
    "m.print_stats()\n",
    "\n",
    "# Plot posterior distributions and theoretical RT distributions\n",
    "m.plot_posteriors()\n",
    "m.plot_posterior_predictive()"
   ]
  },
  {
   "cell_type": "markdown",
   "metadata": {},
   "source": [
    "*** "
   ]
  },
  {
   "cell_type": "code",
   "execution_count": null,
   "metadata": {},
   "outputs": [],
   "source": [
    "### "
   ]
  },
  {
   "cell_type": "code",
   "execution_count": null,
   "metadata": {},
   "outputs": [],
   "source": [
    "iteration_data = []\n",
    "current_min_nll = 0\n",
    "previous_min_nll = 0\n",
    "\n",
    "\n",
    "# Initial grid selection\n",
    "range_d = [0.003, 0.006, 0.009]\n",
    "range_sigma = [0.03, 0.06, 0.09]\n",
    "range_theta = [0.3, 0.5, 0.7]\n",
    "\n",
    "#data files definition\n",
    "trials_file_name = None\n",
    "expdata_file_name = '/Users/bdmlab/OneDrive - University College London/PhD Projects/GiTs/FF2018/InputData/expdata_FFA_Dislike_v2.csv'\n",
    "fixations_file_name = '/Users/bdmlab/OneDrive - University College London/PhD Projects/GiTs/FF2018/InputData/fixations_FFA_Dislike_v2.csv'\n",
    "trials_per_subject = 120\n",
    "simulations_per_condition = 300\n",
    "\n",
    "iter_num = 1\n",
    "\n",
    "while (abs(current_min_nll-previous_min_nll) > (previous_min_nll*1/100)) or iter_num == 1:\n",
    "    \n",
    "    if iter_num > 1:  \n",
    "        delta_d = range_d[1]-range_d[0]\n",
    "        delta_sigma = range_sigma[1] - range_sigma[0]\n",
    "        delta_theta = range_theta[1] - range_theta[0]\n",
    "        \n",
    "        range_d = [new_d - delta_d/2 , new_d ,new_d + delta_d/2]\n",
    "        range_sigma =[new_sigma - delta_sigma/2 , new_sigma ,new_sigma + delta_sigma/2]\n",
    "        range_theta =[new_theta - delta_theta/2 , new_theta ,new_theta + delta_theta/2]\n",
    "    \n",
    "    \n",
    "    #run the toolbox\n",
    "    a = addm_pta_mle_limited.main(range_d, range_sigma, range_theta,\n",
    "                      None, \n",
    "                      expdata_file_name,\n",
    "                      fixations_file_name, \n",
    "                      trials_per_subject,simulations_per_condition, [],\n",
    "                      9, True, True,\n",
    "                      True)\n",
    "    \n",
    "    # Update the NLL values for this iteration\n",
    "    previous_min_nll = current_min_nll\n",
    "    current_min_nll = a[1]\n",
    "    \n",
    "    #get the new values\n",
    "    new_d = a[0][0]\n",
    "    new_sigma = a[0][1]\n",
    "    new_theta = a[0][2]\n",
    "    \n",
    "    iteration_data.append([iter_num,new_d, new_sigma, new_theta,current_min_nll]) \n",
    "\n",
    "    iter_num = iter_num + 1\n",
    "\n",
    "\n",
    "\n",
    "    \n",
    "    \n",
    "iteration_dataf=pd.DataFrame(iteration_data,columns=['Iteration', 'd', 'sigma', 'theta', 'min_NLL'])\n",
    "print (\"Finished iterations!!\")\n"
   ]
  },
  {
   "cell_type": "code",
   "execution_count": null,
   "metadata": {},
   "outputs": [],
   "source": [
    "iterations_dislike = iteration_dataf\n",
    "iterations_dislike"
   ]
  },
  {
   "cell_type": "markdown",
   "metadata": {},
   "source": [
    "## Like condition grid iterations"
   ]
  },
  {
   "cell_type": "code",
   "execution_count": null,
   "metadata": {},
   "outputs": [],
   "source": [
    "iteration_data = []\n",
    "current_min_nll = 0\n",
    "previous_min_nll = 0\n",
    "\n",
    "\n",
    "# Initial grid selection\n",
    "range_d = [0.003, 0.006, 0.009]\n",
    "range_sigma = [0.03, 0.06, 0.09]\n",
    "range_theta = [0.3, 0.5, 0.7]\n",
    "\n",
    "#data files definition\n",
    "trials_file_name = None\n",
    "expdata_file_name = '/Users/bdmlab/OneDrive - University College London/PhD Projects/GiTs/FF2018/InputData/expdata_FFA_Like_v2.csv'\n",
    "fixations_file_name = '/Users/bdmlab/OneDrive - University College London/PhD Projects/GiTs/FF2018/InputData/fixations_FFA_Like_v2.csv'\n",
    "trials_per_subject = 120\n",
    "simulations_per_condition = 300\n",
    "\n",
    "iter_num = 1\n",
    "\n",
    "while (abs(current_min_nll-previous_min_nll) > (previous_min_nll*1/100)) or iter_num == 1:\n",
    "    \n",
    "    if iter_num > 1:\n",
    "        delta_d = range_d[1]-range_d[0]\n",
    "        delta_sigma = range_sigma[1] - range_sigma[0]\n",
    "        delta_theta = range_theta[1] - range_theta[0]\n",
    "        \n",
    "        range_d = [new_d - delta_d/2 , new_d ,new_d + delta_d/2]\n",
    "        range_sigma =[new_sigma - delta_sigma/2 , new_sigma ,new_sigma + delta_sigma/2]\n",
    "        range_theta =[new_theta - delta_theta/2 , new_theta ,new_theta + delta_theta/2]\n",
    "    \n",
    "    \n",
    "    #run the toolbox\n",
    "    a = addm_pta_mle_limited.main(range_d, range_sigma, range_theta,\n",
    "                      None, \n",
    "                      expdata_file_name,\n",
    "                      fixations_file_name, \n",
    "                      trials_per_subject,simulations_per_condition, [],\n",
    "                      9, True, True,\n",
    "                      True)\n",
    "    \n",
    "    # Update the NLL values for this iteration\n",
    "    previous_min_nll = current_min_nll\n",
    "    current_min_nll = a[1]\n",
    "    \n",
    "    #get the new values\n",
    "    new_d = a[0][0]\n",
    "    new_sigma = a[0][1]\n",
    "    new_theta = a[0][2]\n",
    "    \n",
    "    iteration_data.append([iter_num,new_d, new_sigma, new_theta,current_min_nll]) \n",
    "\n",
    "    iter_num = iter_num + 1\n",
    "\n",
    "\n",
    "\n",
    "    \n",
    "    \n",
    "iteration_dataf=pd.DataFrame(iteration_data,columns=['Iteration', 'd', 'sigma', 'theta', 'min_NLL'])\n",
    "print (\"Finished iterations!!\")\n",
    "\n"
   ]
  },
  {
   "cell_type": "code",
   "execution_count": null,
   "metadata": {},
   "outputs": [],
   "source": [
    "iterations_like = iteration_dataf\n",
    "iterations_like"
   ]
  },
  {
   "cell_type": "raw",
   "metadata": {},
   "source": [
    "<script>\n",
    "  $(document).ready(function(){\n",
    "    $('div.prompt').hide();\n",
    "    $('div.back-to-top').hide();\n",
    "    $('nav#menubar').hide();\n",
    "    $('.breadcrumb').hide();\n",
    "    $('.hidden-print').hide();\n",
    "  });\n",
    "</script>\n",
    "\n",
    "<footer id=\"attribution\" style=\"float:right; color:#999; background:#fff;\">\n",
    "Created with Jupyter, delivered by Fastly, rendered by Rackspace.\n",
    "</footer>"
   ]
  }
 ],
 "metadata": {
  "kernelspec": {
   "display_name": "Python 3",
   "language": "python",
   "name": "python3"
  },
  "language_info": {
   "codemirror_mode": {
    "name": "ipython",
    "version": 3
   },
   "file_extension": ".py",
   "mimetype": "text/x-python",
   "name": "python",
   "nbconvert_exporter": "python",
   "pygments_lexer": "ipython3",
   "version": "3.5.4"
  }
 },
 "nbformat": 4,
 "nbformat_minor": 2
}
