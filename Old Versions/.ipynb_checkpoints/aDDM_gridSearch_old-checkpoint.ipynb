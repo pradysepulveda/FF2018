{
 "cells": [
  {
   "cell_type": "markdown",
   "metadata": {},
   "source": [
    "Implement the iterative step for the search of optimal parameter sets. Use of aDDM_pta_mla script from addm_toolbox (https://github.com/goptavares/aDDM-Toolbox)"
   ]
  },
  {
   "cell_type": "code",
   "execution_count": 1,
   "metadata": {},
   "outputs": [],
   "source": [
    "import subprocess \n",
    "import os\n"
   ]
  },
  {
   "cell_type": "code",
   "execution_count": 3,
   "metadata": {},
   "outputs": [
    {
     "name": "stdout",
     "output_type": "stream",
     "text": [
      "It is b'Sun Aug 19 11:00:04 BST 2018\\n'\n"
     ]
    }
   ],
   "source": [
    "time = subprocess.check_output('date')\n",
    "print ('It is', time)"
   ]
  },
  {
   "cell_type": "code",
   "execution_count": 5,
   "metadata": {},
   "outputs": [],
   "source": [
    "a =os.system('addm_pta_mle  --h')"
   ]
  },
  {
   "cell_type": "code",
   "execution_count": null,
   "metadata": {},
   "outputs": [],
   "source": []
  },
  {
   "cell_type": "code",
   "execution_count": 12,
   "metadata": {},
   "outputs": [
    {
     "data": {
      "text/plain": [
       "0"
      ]
     },
     "execution_count": 12,
     "metadata": {},
     "output_type": "execute_result"
    }
   ],
   "source": [
    "time = subprocess.Popen('addm_pta_mle', stdout=subprocess.PIPE, stderr=subprocess.PIPE)"
   ]
  },
  {
   "cell_type": "code",
   "execution_count": 8,
   "metadata": {},
   "outputs": [
    {
     "ename": "KeyboardInterrupt",
     "evalue": "",
     "output_type": "error",
     "traceback": [
      "\u001b[0;31m---------------------------------------------------------------------------\u001b[0m",
      "\u001b[0;31mKeyboardInterrupt\u001b[0m                         Traceback (most recent call last)",
      "\u001b[0;32m<ipython-input-8-e432170626f0>\u001b[0m in \u001b[0;36m<module>\u001b[0;34m()\u001b[0m\n\u001b[1;32m      1\u001b[0m \u001b[0mtime\u001b[0m \u001b[0;34m=\u001b[0m \u001b[0msubprocess\u001b[0m\u001b[0;34m.\u001b[0m\u001b[0mPopen\u001b[0m\u001b[0;34m(\u001b[0m\u001b[0;34m'addm_pta_mle'\u001b[0m\u001b[0;34m,\u001b[0m \u001b[0mstdout\u001b[0m\u001b[0;34m=\u001b[0m\u001b[0msubprocess\u001b[0m\u001b[0;34m.\u001b[0m\u001b[0mPIPE\u001b[0m\u001b[0;34m,\u001b[0m \u001b[0mstderr\u001b[0m\u001b[0;34m=\u001b[0m\u001b[0msubprocess\u001b[0m\u001b[0;34m.\u001b[0m\u001b[0mPIPE\u001b[0m\u001b[0;34m)\u001b[0m\u001b[0;34m\u001b[0m\u001b[0m\n\u001b[0;32m----> 2\u001b[0;31m \u001b[0moutput\u001b[0m\u001b[0;34m,\u001b[0m \u001b[0merr\u001b[0m \u001b[0;34m=\u001b[0m \u001b[0mtime\u001b[0m\u001b[0;34m.\u001b[0m\u001b[0mcommunicate\u001b[0m\u001b[0;34m(\u001b[0m\u001b[0;34m)\u001b[0m\u001b[0;34m\u001b[0m\u001b[0m\n\u001b[0m",
      "\u001b[0;32m~/anaconda/lib/python3.5/subprocess.py\u001b[0m in \u001b[0;36mcommunicate\u001b[0;34m(self, input, timeout)\u001b[0m\n\u001b[1;32m    801\u001b[0m \u001b[0;34m\u001b[0m\u001b[0m\n\u001b[1;32m    802\u001b[0m             \u001b[0;32mtry\u001b[0m\u001b[0;34m:\u001b[0m\u001b[0;34m\u001b[0m\u001b[0m\n\u001b[0;32m--> 803\u001b[0;31m                 \u001b[0mstdout\u001b[0m\u001b[0;34m,\u001b[0m \u001b[0mstderr\u001b[0m \u001b[0;34m=\u001b[0m \u001b[0mself\u001b[0m\u001b[0;34m.\u001b[0m\u001b[0m_communicate\u001b[0m\u001b[0;34m(\u001b[0m\u001b[0minput\u001b[0m\u001b[0;34m,\u001b[0m \u001b[0mendtime\u001b[0m\u001b[0;34m,\u001b[0m \u001b[0mtimeout\u001b[0m\u001b[0;34m)\u001b[0m\u001b[0;34m\u001b[0m\u001b[0m\n\u001b[0m\u001b[1;32m    804\u001b[0m             \u001b[0;32mfinally\u001b[0m\u001b[0;34m:\u001b[0m\u001b[0;34m\u001b[0m\u001b[0m\n\u001b[1;32m    805\u001b[0m                 \u001b[0mself\u001b[0m\u001b[0;34m.\u001b[0m\u001b[0m_communication_started\u001b[0m \u001b[0;34m=\u001b[0m \u001b[0;32mTrue\u001b[0m\u001b[0;34m\u001b[0m\u001b[0m\n",
      "\u001b[0;32m~/anaconda/lib/python3.5/subprocess.py\u001b[0m in \u001b[0;36m_communicate\u001b[0;34m(self, input, endtime, orig_timeout)\u001b[0m\n\u001b[1;32m   1454\u001b[0m                         \u001b[0;32mraise\u001b[0m \u001b[0mTimeoutExpired\u001b[0m\u001b[0;34m(\u001b[0m\u001b[0mself\u001b[0m\u001b[0;34m.\u001b[0m\u001b[0margs\u001b[0m\u001b[0;34m,\u001b[0m \u001b[0morig_timeout\u001b[0m\u001b[0;34m)\u001b[0m\u001b[0;34m\u001b[0m\u001b[0m\n\u001b[1;32m   1455\u001b[0m \u001b[0;34m\u001b[0m\u001b[0m\n\u001b[0;32m-> 1456\u001b[0;31m                     \u001b[0mready\u001b[0m \u001b[0;34m=\u001b[0m \u001b[0mselector\u001b[0m\u001b[0;34m.\u001b[0m\u001b[0mselect\u001b[0m\u001b[0;34m(\u001b[0m\u001b[0mtimeout\u001b[0m\u001b[0;34m)\u001b[0m\u001b[0;34m\u001b[0m\u001b[0m\n\u001b[0m\u001b[1;32m   1457\u001b[0m                     \u001b[0mself\u001b[0m\u001b[0;34m.\u001b[0m\u001b[0m_check_timeout\u001b[0m\u001b[0;34m(\u001b[0m\u001b[0mendtime\u001b[0m\u001b[0;34m,\u001b[0m \u001b[0morig_timeout\u001b[0m\u001b[0;34m)\u001b[0m\u001b[0;34m\u001b[0m\u001b[0m\n\u001b[1;32m   1458\u001b[0m \u001b[0;34m\u001b[0m\u001b[0m\n",
      "\u001b[0;32m~/anaconda/lib/python3.5/selectors.py\u001b[0m in \u001b[0;36mselect\u001b[0;34m(self, timeout)\u001b[0m\n\u001b[1;32m    374\u001b[0m             \u001b[0mready\u001b[0m \u001b[0;34m=\u001b[0m \u001b[0;34m[\u001b[0m\u001b[0;34m]\u001b[0m\u001b[0;34m\u001b[0m\u001b[0m\n\u001b[1;32m    375\u001b[0m             \u001b[0;32mtry\u001b[0m\u001b[0;34m:\u001b[0m\u001b[0;34m\u001b[0m\u001b[0m\n\u001b[0;32m--> 376\u001b[0;31m                 \u001b[0mfd_event_list\u001b[0m \u001b[0;34m=\u001b[0m \u001b[0mself\u001b[0m\u001b[0;34m.\u001b[0m\u001b[0m_poll\u001b[0m\u001b[0;34m.\u001b[0m\u001b[0mpoll\u001b[0m\u001b[0;34m(\u001b[0m\u001b[0mtimeout\u001b[0m\u001b[0;34m)\u001b[0m\u001b[0;34m\u001b[0m\u001b[0m\n\u001b[0m\u001b[1;32m    377\u001b[0m             \u001b[0;32mexcept\u001b[0m \u001b[0mInterruptedError\u001b[0m\u001b[0;34m:\u001b[0m\u001b[0;34m\u001b[0m\u001b[0m\n\u001b[1;32m    378\u001b[0m                 \u001b[0;32mreturn\u001b[0m \u001b[0mready\u001b[0m\u001b[0;34m\u001b[0m\u001b[0m\n",
      "\u001b[0;31mKeyboardInterrupt\u001b[0m: "
     ]
    }
   ],
   "source": [
    "time = subprocess.Popen('addm_pta_mle', stdout=subprocess.PIPE, stderr=subprocess.PIPE)\n",
    "output, err = time.communicate()"
   ]
  },
  {
   "cell_type": "code",
   "execution_count": 6,
   "metadata": {},
   "outputs": [
    {
     "data": {
      "text/plain": [
       "b'Fri Aug 17 17:57:47 BST 2018\\n'"
      ]
     },
     "execution_count": 6,
     "metadata": {},
     "output_type": "execute_result"
    }
   ],
   "source": [
    "output"
   ]
  },
  {
   "cell_type": "code",
   "execution_count": null,
   "metadata": {},
   "outputs": [],
   "source": []
  },
  {
   "cell_type": "code",
   "execution_count": null,
   "metadata": {},
   "outputs": [],
   "source": []
  },
  {
   "cell_type": "code",
   "execution_count": 3,
   "metadata": {},
   "outputs": [],
   "source": [
    "from __future__ import absolute_import\n",
    "import argparse\n",
    "from addm_toolbox import addm_pta_mle"
   ]
  },
  {
   "cell_type": "code",
   "execution_count": 12,
   "metadata": {},
   "outputs": [
    {
     "data": {
      "text/plain": [
       "_StoreTrueAction(option_strings=['--verbose'], dest='verbose', nargs=0, const=True, default=False, type=None, choices=None, help='Increase output verbosity.', metavar=None)"
      ]
     },
     "execution_count": 12,
     "metadata": {},
     "output_type": "execute_result"
    }
   ],
   "source": [
    "parser = argparse.ArgumentParser()\n",
    "parser.add_argument(u\"--range-d\", nargs=u\"+\", type=float,\n",
    "                    default=[0.003, 0.006, 0.009],\n",
    "                    help=u\"Search range for parameter d.\")\n",
    "parser.add_argument(u\"--range-sigma\", nargs=u\"+\", type=float,\n",
    "                    default=[0.03, 0.06, 0.09],\n",
    "                    help=u\"Search range for parameter sigma.\")\n",
    "parser.add_argument(u\"--range-theta\", nargs=u\"+\", type=float,\n",
    "                    default=[0.3, 0.5, 0.7],\n",
    "                    help=u\"Search range for parameter theta.\")\n",
    "parser.add_argument(u\"--trials-file-name\", type=str, default=None,\n",
    "                    help=u\"Path of trial conditions file.\")\n",
    "parser.add_argument(u\"--expdata-file-name\", type=str, default=None,\n",
    "                    help=u\"Path of experimental data file.\")\n",
    "parser.add_argument(u\"--fixations-file-name\", type=str, default=None,\n",
    "                    help=u\"Path of fixations file.\")\n",
    "parser.add_argument(u\"--trials-per-subject\", type=int, default=100,\n",
    "                    help=u\"Number of trials from each subject to be used \"\n",
    "                    \"in the analysis; if smaller than 1, all trials are \"\n",
    "                    \"used.\")\n",
    "parser.add_argument(u\"--simulations-per-condition\", type=int,\n",
    "                    default=800, help=u\"Number of simulations to be generated \"\n",
    "                    \"per trial condition.\")\n",
    "parser.add_argument(u\"--subject-ids\", nargs=u\"+\", type=str, default=[],\n",
    "                    help=u\"List of subject ids. If not provided, all \"\n",
    "                    \"existing subjects will be used.\")\n",
    "parser.add_argument(u\"--num-threads\", type=int, default=9,\n",
    "                    help=u\"Size of the thread pool.\")\n",
    "parser.add_argument(u\"--save-simulations\", default=False,\n",
    "                    action=u\"store_true\", help=u\"Save simulations to CSV.\")\n",
    "parser.add_argument(u\"--save-figures\", default=False,\n",
    "                    action=u\"store_true\", help=u\"Save figures comparing \"\n",
    "                    \"choice and RT curves for data and simulations.\")\n",
    "parser.add_argument(u\"--verbose\", default=False, action=u\"store_true\",\n",
    "                    help=u\"Increase output verbosity.\")"
   ]
  },
  {
   "cell_type": "code",
   "execution_count": 15,
   "metadata": {},
   "outputs": [
    {
     "name": "stdout",
     "output_type": "stream",
     "text": [
      "ArgumentParser(prog='ipykernel_launcher.py', usage=None, description=None, formatter_class=<class 'argparse.HelpFormatter'>, conflict_handler='error', add_help=True)\n"
     ]
    }
   ],
   "source": [
    "print(args.accumulate(args.integers))"
   ]
  },
  {
   "cell_type": "code",
   "execution_count": 13,
   "metadata": {},
   "outputs": [
    {
     "name": "stderr",
     "output_type": "stream",
     "text": [
      "usage: ipykernel_launcher.py [-h] [--range-d RANGE_D [RANGE_D ...]]\n",
      "                             [--range-sigma RANGE_SIGMA [RANGE_SIGMA ...]]\n",
      "                             [--range-theta RANGE_THETA [RANGE_THETA ...]]\n",
      "                             [--trials-file-name TRIALS_FILE_NAME]\n",
      "                             [--expdata-file-name EXPDATA_FILE_NAME]\n",
      "                             [--fixations-file-name FIXATIONS_FILE_NAME]\n",
      "                             [--trials-per-subject TRIALS_PER_SUBJECT]\n",
      "                             [--simulations-per-condition SIMULATIONS_PER_CONDITION]\n",
      "                             [--subject-ids SUBJECT_IDS [SUBJECT_IDS ...]]\n",
      "                             [--num-threads NUM_THREADS] [--save-simulations]\n",
      "                             [--save-figures] [--verbose]\n",
      "ipykernel_launcher.py: error: unrecognized arguments: -f /Users/pradyumna/Library/Jupyter/runtime/kernel-9f2bcee1-544f-4947-9d8e-55eec8199021.json\n"
     ]
    },
    {
     "ename": "SystemExit",
     "evalue": "2",
     "output_type": "error",
     "traceback": [
      "An exception has occurred, use %tb to see the full traceback.\n",
      "\u001b[0;31mSystemExit\u001b[0m\u001b[0;31m:\u001b[0m 2\n"
     ]
    },
    {
     "name": "stderr",
     "output_type": "stream",
     "text": [
      "/Users/pradyumna/anaconda/lib/python3.5/site-packages/IPython/core/interactiveshell.py:2870: UserWarning: To exit: use 'exit', 'quit', or Ctrl-D.\n",
      "  warn(\"To exit: use 'exit', 'quit', or Ctrl-D.\", stacklevel=1)\n"
     ]
    }
   ],
   "source": [
    "args = parser.parse_args()"
   ]
  },
  {
   "cell_type": "code",
   "execution_count": 10,
   "metadata": {},
   "outputs": [
    {
     "ename": "NameError",
     "evalue": "name 'args' is not defined",
     "output_type": "error",
     "traceback": [
      "\u001b[0;31m---------------------------------------------------------------------------\u001b[0m",
      "\u001b[0;31mNameError\u001b[0m                                 Traceback (most recent call last)",
      "\u001b[0;32m<ipython-input-10-3c651674187a>\u001b[0m in \u001b[0;36m<module>\u001b[0;34m()\u001b[0m\n\u001b[0;32m----> 1\u001b[0;31m addm_pta_mle.main(args.range_d, args.range_sigma, args.range_theta,\n\u001b[0m\u001b[1;32m      2\u001b[0m                   \u001b[0margs\u001b[0m\u001b[0;34m.\u001b[0m\u001b[0mtrials_file_name\u001b[0m\u001b[0;34m,\u001b[0m \u001b[0margs\u001b[0m\u001b[0;34m.\u001b[0m\u001b[0mexpdata_file_name\u001b[0m\u001b[0;34m,\u001b[0m\u001b[0;34m\u001b[0m\u001b[0m\n\u001b[1;32m      3\u001b[0m                   \u001b[0margs\u001b[0m\u001b[0;34m.\u001b[0m\u001b[0mfixations_file_name\u001b[0m\u001b[0;34m,\u001b[0m \u001b[0margs\u001b[0m\u001b[0;34m.\u001b[0m\u001b[0mtrials_per_subject\u001b[0m\u001b[0;34m,\u001b[0m\u001b[0;34m\u001b[0m\u001b[0m\n\u001b[1;32m      4\u001b[0m                   \u001b[0margs\u001b[0m\u001b[0;34m.\u001b[0m\u001b[0msimulations_per_condition\u001b[0m\u001b[0;34m,\u001b[0m \u001b[0margs\u001b[0m\u001b[0;34m.\u001b[0m\u001b[0msubject_ids\u001b[0m\u001b[0;34m,\u001b[0m\u001b[0;34m\u001b[0m\u001b[0m\n\u001b[1;32m      5\u001b[0m                   \u001b[0margs\u001b[0m\u001b[0;34m.\u001b[0m\u001b[0mnum_threads\u001b[0m\u001b[0;34m,\u001b[0m \u001b[0margs\u001b[0m\u001b[0;34m.\u001b[0m\u001b[0msave_simulations\u001b[0m\u001b[0;34m,\u001b[0m \u001b[0margs\u001b[0m\u001b[0;34m.\u001b[0m\u001b[0msave_figures\u001b[0m\u001b[0;34m,\u001b[0m\u001b[0;34m\u001b[0m\u001b[0m\n",
      "\u001b[0;31mNameError\u001b[0m: name 'args' is not defined"
     ]
    }
   ],
   "source": [
    "addm_pta_mle.main(args.range_d, args.range_sigma, args.range_theta,\n",
    "                  args.trials_file_name, args.expdata_file_name,\n",
    "                  args.fixations_file_name, args.trials_per_subject,\n",
    "                  args.simulations_per_condition, args.subject_ids,\n",
    "                  args.num_threads, args.save_simulations, args.save_figures,\n",
    "                  args.verbose)"
   ]
  },
  {
   "cell_type": "code",
   "execution_count": null,
   "metadata": {},
   "outputs": [],
   "source": [
    "addm_pta_mle.main(args.range_d, args.range_sigma, args.range_theta,\n",
    "                  args.trials_file_name, args.expdata_file_name,\n",
    "                  args.fixations_file_name, args.trials_per_subject,\n",
    "                  args.simulations_per_condition, args.subject_ids,\n",
    "                  args.num_threads, args.save_simulations, args.save_figures,\n",
    "                  args.verbose)"
   ]
  },
  {
   "cell_type": "code",
   "execution_count": 9,
   "metadata": {},
   "outputs": [
    {
     "ename": "IndentationError",
     "evalue": "unexpected indent (<ipython-input-9-d232f83fd72b>, line 2)",
     "output_type": "error",
     "traceback": [
      "\u001b[0;36m  File \u001b[0;32m\"<ipython-input-9-d232f83fd72b>\"\u001b[0;36m, line \u001b[0;32m2\u001b[0m\n\u001b[0;31m    None,\u001b[0m\n\u001b[0m    ^\u001b[0m\n\u001b[0;31mIndentationError\u001b[0m\u001b[0;31m:\u001b[0m unexpected indent\n"
     ]
    }
   ],
   "source": [
    "addm_pta_mle.main([0.003, 0.006, 0.009], [0.03, 0.06, 0.09], [0.3, 0.5, 0.7],\n",
    "                  None, \n",
    "                  '/Users/pradyumna/Google Drive/BdM Projects/FoodFraming_Amy/Analysis Scripts/aDDM_tools/expdata_FFA_Dislike_v1.csv',\n",
    "                  '/Users/pradyumna/Google Drive/BdM Projects/FoodFraming_Amy/Analysis Scripts/aDDM_tools/fixations_FFA_Dislike_v1.csv', \n",
    "                  100,300, [],\n",
    "                  9, True, True,\n",
    "                  True)\n",
    "\n",
    "\n"
   ]
  },
  {
   "cell_type": "code",
   "execution_count": 10,
   "metadata": {},
   "outputs": [
    {
     "name": "stdout",
     "output_type": "stream",
     "text": [
      "Loading experimental data...\n",
      "Starting grid search...\n",
      "Computing likelihoods for model (0.003, 0.03, 0.3)...\n",
      "Computing likelihoods for model (0.003, 0.03, 0.5)...\n",
      "Computing likelihoods for model (0.003, 0.03, 0.7)...\n",
      "Computing likelihoods for model (0.003, 0.06, 0.3)...\n",
      "Computing likelihoods for model (0.003, 0.06, 0.5)...\n",
      "Computing likelihoods for model (0.003, 0.06, 0.7)...\n",
      "Computing likelihoods for model (0.003, 0.09, 0.3)...\n",
      "Computing likelihoods for model (0.003, 0.09, 0.5)...\n",
      "Computing likelihoods for model (0.003, 0.09, 0.7)...\n",
      "Computing likelihoods for model (0.006, 0.03, 0.3)...\n",
      "Computing likelihoods for model (0.006, 0.03, 0.5)...\n",
      "Computing likelihoods for model (0.006, 0.03, 0.7)...\n",
      "Computing likelihoods for model (0.006, 0.06, 0.3)...\n",
      "Computing likelihoods for model (0.006, 0.06, 0.5)...\n",
      "Computing likelihoods for model (0.006, 0.06, 0.7)...\n",
      "Computing likelihoods for model (0.006, 0.09, 0.3)...\n",
      "Computing likelihoods for model (0.006, 0.09, 0.5)...\n",
      "Computing likelihoods for model (0.006, 0.09, 0.7)...\n",
      "Computing likelihoods for model (0.009, 0.03, 0.3)...\n",
      "Computing likelihoods for model (0.009, 0.03, 0.5)...\n",
      "Computing likelihoods for model (0.009, 0.03, 0.7)...\n",
      "Computing likelihoods for model (0.009, 0.06, 0.3)...\n",
      "Computing likelihoods for model (0.009, 0.06, 0.5)...\n",
      "Computing likelihoods for model (0.009, 0.06, 0.7)...\n",
      "Computing likelihoods for model (0.009, 0.09, 0.3)...\n",
      "Computing likelihoods for model (0.009, 0.09, 0.5)...\n",
      "Computing likelihoods for model (0.009, 0.09, 0.7)...\n",
      "Finished grid search!\n",
      "Optimal d: 0.003\n",
      "Optimal sigma: 0.06\n",
      "Optimal theta: 0.5\n",
      "Min NLL: 15908.896959756385\n",
      "Getting fixation distributions from even trials...\n",
      "Generating model simulations...\n"
     ]
    }
   ],
   "source": [
    "#addm_pta_mle.main([0.003, 0.006, 0.009], [0.03, 0.06, 0.09], [0.3, 0.5, 0.7],\n",
    "#                  None, \n",
    "#                  '/Users/bdmlab/OneDrive - University College London/PhD Projects/GiTs/FF2018/InputData/expdata_FFA_Dislike_part1_v2.csv',\n",
    "#                  '/Users/bdmlab/OneDrive - University College London/PhD Projects/GiTs/FF2018/InputData/fixations_FFA_Dislike_part1_v2.csv', \n",
    "#                  100,300, [],\n",
    "#                  9, True, True,\n",
    "#                  True)\n",
    "\n",
    "\n",
    "\n",
    "addm_pta_mle.main([0.003, 0.006, 0.009], [0.03, 0.06, 0.09], [0.3, 0.5, 0.7],\n",
    "                  None, \n",
    "                  None,\n",
    "                  None, \n",
    "                  100,300, [],\n",
    "                  9, True, True,\n",
    "                  True)"
   ]
  },
  {
   "cell_type": "code",
   "execution_count": null,
   "metadata": {},
   "outputs": [],
   "source": []
  },
  {
   "cell_type": "markdown",
   "metadata": {},
   "source": [
    "## ########### TEST ##################  ##"
   ]
  },
  {
   "cell_type": "code",
   "execution_count": 99,
   "metadata": {},
   "outputs": [],
   "source": [
    "from __future__ import absolute_import\n",
    "import argparse\n",
    "from addm_toolbox import addm_pta_mle\n",
    "from addm_toolbox import addm_pta_map\n",
    "\n",
    "\n",
    "import numpy as np\n",
    "import pandas as pd\n"
   ]
  },
  {
   "cell_type": "code",
   "execution_count": 2,
   "metadata": {},
   "outputs": [],
   "source": [
    "import addm_toolbox"
   ]
  },
  {
   "cell_type": "code",
   "execution_count": 3,
   "metadata": {},
   "outputs": [
    {
     "data": {
      "text/plain": [
       "<module 'addm_toolbox' from '/Users/pradyumna/anaconda/lib/python3.5/site-packages/addm_toolbox/__init__.py'>"
      ]
     },
     "execution_count": 3,
     "metadata": {},
     "output_type": "execute_result"
    }
   ],
   "source": [
    "addm_toolbox"
   ]
  },
  {
   "cell_type": "markdown",
   "metadata": {},
   "source": [
    "# Parameters \n",
    "##### addm_pta_mle.main(args.range_d, args.range_sigma, args.range_theta,\n",
    "#####                  args.trials_file_name, args.expdata_file_name,\n",
    "#####                  args.fixations_file_name, args.trials_per_subject,\n",
    "#####                  args.simulations_per_condition, args.subject_ids,\n",
    "#####                  args.num_threads, args.save_simulations, args.save_figures,\n",
    "#####                  args.verbose)"
   ]
  },
  {
   "cell_type": "markdown",
   "metadata": {},
   "source": [
    "## TEST  condition grid iterations\n",
    "## USING default data"
   ]
  },
  {
   "cell_type": "code",
   "execution_count": 103,
   "metadata": {},
   "outputs": [
    {
     "name": "stdout",
     "output_type": "stream",
     "text": [
      "Loading experimental data...\n",
      "Starting grid search...\n",
      "Computing likelihoods for model (0.003, 0.03, 0.3)...\n",
      "Computing likelihoods for model (0.003, 0.03, 0.5)...\n",
      "Computing likelihoods for model (0.003, 0.03, 0.7)...\n",
      "Computing likelihoods for model (0.003, 0.06, 0.3)...\n",
      "Computing likelihoods for model (0.003, 0.06, 0.5)...\n",
      "Computing likelihoods for model (0.003, 0.06, 0.7)...\n",
      "Computing likelihoods for model (0.003, 0.09, 0.3)...\n",
      "Computing likelihoods for model (0.003, 0.09, 0.5)...\n",
      "Computing likelihoods for model (0.003, 0.09, 0.7)...\n",
      "Computing likelihoods for model (0.006, 0.03, 0.3)...\n",
      "Computing likelihoods for model (0.006, 0.03, 0.5)...\n",
      "Computing likelihoods for model (0.006, 0.03, 0.7)...\n",
      "Computing likelihoods for model (0.006, 0.06, 0.3)...\n",
      "Computing likelihoods for model (0.006, 0.06, 0.5)...\n",
      "Computing likelihoods for model (0.006, 0.06, 0.7)...\n",
      "Computing likelihoods for model (0.006, 0.09, 0.3)...\n",
      "Computing likelihoods for model (0.006, 0.09, 0.5)...\n",
      "Computing likelihoods for model (0.006, 0.09, 0.7)...\n",
      "Computing likelihoods for model (0.009, 0.03, 0.3)...\n",
      "Computing likelihoods for model (0.009, 0.03, 0.5)...\n",
      "Computing likelihoods for model (0.009, 0.03, 0.7)...\n",
      "Computing likelihoods for model (0.009, 0.06, 0.3)...\n",
      "Computing likelihoods for model (0.009, 0.06, 0.5)...\n",
      "Computing likelihoods for model (0.009, 0.06, 0.7)...\n",
      "Computing likelihoods for model (0.009, 0.09, 0.3)...\n",
      "Computing likelihoods for model (0.009, 0.09, 0.5)...\n",
      "Computing likelihoods for model (0.009, 0.09, 0.7)...\n",
      "Finished grid search!\n",
      "Optimal d: 0.003\n",
      "Optimal sigma: 0.06\n"
     ]
    },
    {
     "name": "stderr",
     "output_type": "stream",
     "text": [
      "/Users/pradyumna/anaconda/lib/python3.5/site-packages/addm_toolbox/util.py:379: RuntimeWarning: invalid value encountered in double_scalars\n",
      "  probLeftChosen[i] = countLeftChosen[i] / countTotal[i]\n",
      "/Users/pradyumna/anaconda/lib/python3.5/site-packages/addm_toolbox/util.py:401: RuntimeWarning: invalid value encountered in double_scalars\n",
      "  probLeftChosen[i] = countLeftChosen[i] / countTotal[i]\n",
      "/Users/pradyumna/anaconda/lib/python3.5/site-packages/numpy/core/_methods.py:59: RuntimeWarning: Mean of empty slice.\n",
      "  warnings.warn(\"Mean of empty slice.\", RuntimeWarning)\n",
      "/Users/pradyumna/anaconda/lib/python3.5/site-packages/numpy/core/_methods.py:71: RuntimeWarning: invalid value encountered in double_scalars\n",
      "  ret = ret.dtype.type(ret / rcount)\n",
      "/Users/pradyumna/anaconda/lib/python3.5/site-packages/numpy/core/_methods.py:83: RuntimeWarning: Degrees of freedom <= 0 for slice\n",
      "  warnings.warn(\"Degrees of freedom <= 0 for slice\", RuntimeWarning)\n",
      "/Users/pradyumna/anaconda/lib/python3.5/site-packages/numpy/core/_methods.py:95: RuntimeWarning: invalid value encountered in true_divide\n",
      "  arrmean, rcount, out=arrmean, casting='unsafe', subok=False)\n",
      "/Users/pradyumna/anaconda/lib/python3.5/site-packages/numpy/core/_methods.py:117: RuntimeWarning: invalid value encountered in double_scalars\n",
      "  ret = ret.dtype.type(ret / rcount)\n"
     ]
    },
    {
     "name": "stdout",
     "output_type": "stream",
     "text": [
      "Optimal theta: 0.3\n",
      "Min NLL: 162.516831956\n",
      "Getting fixation distributions from even trials...\n",
      "Generating model simulations...\n",
      "finishedddd\n"
     ]
    }
   ],
   "source": [
    "iteration_data = []\n",
    "current_min_nll = 0\n",
    "previous_min_nll = 0\n",
    "\n",
    "\n",
    "# Initial grid selection\n",
    "range_d = [0.003, 0.006, 0.009]\n",
    "range_sigma = [0.03, 0.06, 0.09]\n",
    "range_theta = [0.3, 0.5, 0.7]\n",
    "\n",
    "#data files definition\n",
    "trials_file_name = None\n",
    "expdata_file_name = '/Users/pradyumna/Documents/gitDocs/FF2018/InputData/tests/expdata.csv'\n",
    "fixations_file_name = '/Users/pradyumna/Documents/gitDocs/FF2018/InputData/tests/fixations.csv'\n",
    "conditions_file_name = '/Users/pradyumna/Documents/gitDocs/FF2018/InputData/tests/trial_conditions.csv'\n",
    "\n",
    "trials_per_subject = 39\n",
    "simulations_per_condition = 100\n",
    "\n",
    "\n",
    "iter_num = 1\n",
    "\n",
    "    \n",
    "#run the toolbox\n",
    "addm_pta_mle.main(range_d, range_sigma, range_theta,\n",
    "                  conditions_file_name, \n",
    "                  expdata_file_name,\n",
    "                  fixations_file_name, \n",
    "                  trials_per_subject,simulations_per_condition, [],\n",
    "                  9, True, True,\n",
    "                  True)\n",
    "\n",
    "\n",
    "print (\"finishedddd\")"
   ]
  },
  {
   "cell_type": "code",
   "execution_count": 21,
   "metadata": {},
   "outputs": [],
   "source": [
    "## TEST  condition grid iterations\n",
    "## USING default data"
   ]
  },
  {
   "cell_type": "code",
   "execution_count": 54,
   "metadata": {},
   "outputs": [
    {
     "name": "stdout",
     "output_type": "stream",
     "text": [
      "Loading experimental data...\n",
      "Starting grid search...\n",
      "Computing likelihoods for model (0.003, 0.03, 0.3)...\n",
      "Computing likelihoods for model (0.003, 0.03, 0.5)...\n",
      "Computing likelihoods for model (0.003, 0.03, 0.7)...\n",
      "Computing likelihoods for model (0.003, 0.06, 0.3)...\n",
      "Computing likelihoods for model (0.003, 0.06, 0.5)...\n",
      "Computing likelihoods for model (0.003, 0.06, 0.7)...\n",
      "Computing likelihoods for model (0.003, 0.09, 0.3)...\n",
      "Computing likelihoods for model (0.003, 0.09, 0.5)...\n",
      "Computing likelihoods for model (0.003, 0.09, 0.7)...\n",
      "Computing likelihoods for model (0.006, 0.03, 0.3)...\n",
      "Computing likelihoods for model (0.006, 0.03, 0.5)...\n",
      "Computing likelihoods for model (0.006, 0.03, 0.7)...\n",
      "Computing likelihoods for model (0.006, 0.06, 0.3)...\n",
      "Computing likelihoods for model (0.006, 0.06, 0.5)...\n",
      "Computing likelihoods for model (0.006, 0.06, 0.7)...\n",
      "Computing likelihoods for model (0.006, 0.09, 0.3)...\n",
      "Computing likelihoods for model (0.006, 0.09, 0.5)...\n",
      "Computing likelihoods for model (0.006, 0.09, 0.7)...\n",
      "Computing likelihoods for model (0.009, 0.03, 0.3)...\n",
      "Computing likelihoods for model (0.009, 0.03, 0.5)...\n",
      "Computing likelihoods for model (0.009, 0.03, 0.7)...\n",
      "Computing likelihoods for model (0.009, 0.06, 0.3)...\n",
      "Computing likelihoods for model (0.009, 0.06, 0.5)...\n",
      "Computing likelihoods for model (0.009, 0.06, 0.7)...\n",
      "Computing likelihoods for model (0.009, 0.09, 0.3)...\n",
      "Computing likelihoods for model (0.009, 0.09, 0.5)...\n",
      "Computing likelihoods for model (0.009, 0.09, 0.7)...\n",
      "Finished grid search!\n",
      "Optimal d: 0.003\n",
      "Optimal sigma: 0.06\n",
      "Optimal theta: 0.3\n",
      "Min NLL: 156.638827173\n",
      "Getting fixation distributions from even trials...\n",
      "Generating model simulations...\n",
      "Failed to save experimental data to CSV file.\n"
     ]
    },
    {
     "ename": "KeyError",
     "evalue": "\"None of [['parcode', 'trial', 'rt', 'choice', 'item_left', 'item_right']] are in the [columns]\"",
     "output_type": "error",
     "traceback": [
      "\u001b[0;31m---------------------------------------------------------------------------\u001b[0m",
      "\u001b[0;31mKeyError\u001b[0m                                  Traceback (most recent call last)",
      "\u001b[0;32m<ipython-input-54-874cabf8c040>\u001b[0m in \u001b[0;36m<module>\u001b[0;34m()\u001b[0m\n\u001b[1;32m     28\u001b[0m                   \u001b[0mtrials_per_subject\u001b[0m\u001b[0;34m,\u001b[0m\u001b[0msimulations_per_condition\u001b[0m\u001b[0;34m,\u001b[0m \u001b[0;34m[\u001b[0m\u001b[0;34m]\u001b[0m\u001b[0;34m,\u001b[0m\u001b[0;34m\u001b[0m\u001b[0m\n\u001b[1;32m     29\u001b[0m                   \u001b[0;36m9\u001b[0m\u001b[0;34m,\u001b[0m \u001b[0;32mTrue\u001b[0m\u001b[0;34m,\u001b[0m \u001b[0;32mTrue\u001b[0m\u001b[0;34m,\u001b[0m\u001b[0;34m\u001b[0m\u001b[0m\n\u001b[0;32m---> 30\u001b[0;31m                   True)\n\u001b[0m\u001b[1;32m     31\u001b[0m \u001b[0;34m\u001b[0m\u001b[0m\n\u001b[1;32m     32\u001b[0m \u001b[0;34m\u001b[0m\u001b[0m\n",
      "\u001b[0;32m~/anaconda/lib/python3.5/site-packages/addm_toolbox/addm_pta_mle.py\u001b[0m in \u001b[0;36mmain\u001b[0;34m(rangeD, rangeSigma, rangeTheta, trialsFileName, expdataFileName, fixationsFileName, trialsPerSubject, simulationsPerCondition, subjectIds, numThreads, saveSimulations, saveFigures, verbose)\u001b[0m\n\u001b[1;32m    169\u001b[0m         save_simulations_to_csv(simulTrials,\n\u001b[1;32m    170\u001b[0m                                 \u001b[0;34mu\"simul_expdata_\"\u001b[0m \u001b[0;34m+\u001b[0m \u001b[0mcurrTime\u001b[0m \u001b[0;34m+\u001b[0m \u001b[0;34mu\".csv\"\u001b[0m\u001b[0;34m,\u001b[0m\u001b[0;34m\u001b[0m\u001b[0m\n\u001b[0;32m--> 171\u001b[0;31m                                 u\"simul_fixations_\" + currTime + u\".csv\")\n\u001b[0m\u001b[1;32m    172\u001b[0m \u001b[0;34m\u001b[0m\u001b[0m\n\u001b[1;32m    173\u001b[0m     \u001b[0;32mif\u001b[0m \u001b[0msaveFigures\u001b[0m\u001b[0;34m:\u001b[0m\u001b[0;34m\u001b[0m\u001b[0m\n",
      "\u001b[0;32m~/anaconda/lib/python3.5/site-packages/addm_toolbox/util.py\u001b[0m in \u001b[0;36msave_simulations_to_csv\u001b[0;34m(trials, expdataFileName, fixationsFileName)\u001b[0m\n\u001b[1;32m    336\u001b[0m             \u001b[0mexpdataFileName\u001b[0m\u001b[0;34m,\u001b[0m \u001b[0msep\u001b[0m\u001b[0;34m=\u001b[0m\u001b[0;34m\",\"\u001b[0m\u001b[0;34m,\u001b[0m \u001b[0mindex\u001b[0m\u001b[0;34m=\u001b[0m\u001b[0;32mFalse\u001b[0m\u001b[0;34m,\u001b[0m \u001b[0mfloat_format\u001b[0m\u001b[0;34m=\u001b[0m\u001b[0;34mu\"%d\"\u001b[0m\u001b[0;34m,\u001b[0m\u001b[0;34m\u001b[0m\u001b[0m\n\u001b[1;32m    337\u001b[0m             columns=[u\"parcode\", u\"trial\", u\"rt\", u\"choice\", u\"item_left\",\n\u001b[0;32m--> 338\u001b[0;31m                      u\"item_right\"])\n\u001b[0m\u001b[1;32m    339\u001b[0m     \u001b[0;32mexcept\u001b[0m\u001b[0;34m:\u001b[0m\u001b[0;34m\u001b[0m\u001b[0m\n\u001b[1;32m    340\u001b[0m         \u001b[0mprint\u001b[0m\u001b[0;34m(\u001b[0m\u001b[0;34mu\"Failed to save experimental data to CSV file.\"\u001b[0m\u001b[0;34m)\u001b[0m\u001b[0;34m\u001b[0m\u001b[0m\n",
      "\u001b[0;32m~/anaconda/lib/python3.5/site-packages/pandas/core/frame.py\u001b[0m in \u001b[0;36mto_csv\u001b[0;34m(self, path_or_buf, sep, na_rep, float_format, columns, header, index, index_label, mode, encoding, compression, quoting, quotechar, line_terminator, chunksize, tupleize_cols, date_format, doublequote, escapechar, decimal)\u001b[0m\n\u001b[1;32m   1400\u001b[0m                                      \u001b[0mdate_format\u001b[0m\u001b[0;34m=\u001b[0m\u001b[0mdate_format\u001b[0m\u001b[0;34m,\u001b[0m\u001b[0;34m\u001b[0m\u001b[0m\n\u001b[1;32m   1401\u001b[0m                                      \u001b[0mdoublequote\u001b[0m\u001b[0;34m=\u001b[0m\u001b[0mdoublequote\u001b[0m\u001b[0;34m,\u001b[0m\u001b[0;34m\u001b[0m\u001b[0m\n\u001b[0;32m-> 1402\u001b[0;31m                                      escapechar=escapechar, decimal=decimal)\n\u001b[0m\u001b[1;32m   1403\u001b[0m         \u001b[0mformatter\u001b[0m\u001b[0;34m.\u001b[0m\u001b[0msave\u001b[0m\u001b[0;34m(\u001b[0m\u001b[0;34m)\u001b[0m\u001b[0;34m\u001b[0m\u001b[0m\n\u001b[1;32m   1404\u001b[0m \u001b[0;34m\u001b[0m\u001b[0m\n",
      "\u001b[0;32m~/anaconda/lib/python3.5/site-packages/pandas/io/formats/format.py\u001b[0m in \u001b[0;36m__init__\u001b[0;34m(self, obj, path_or_buf, sep, na_rep, float_format, cols, header, index, index_label, mode, nanRep, encoding, compression, quoting, line_terminator, chunksize, tupleize_cols, quotechar, date_format, doublequote, escapechar, decimal)\u001b[0m\n\u001b[1;32m   1532\u001b[0m             \u001b[0;32melse\u001b[0m\u001b[0;34m:\u001b[0m\u001b[0;34m\u001b[0m\u001b[0m\n\u001b[1;32m   1533\u001b[0m                 \u001b[0mcols\u001b[0m \u001b[0;34m=\u001b[0m \u001b[0mlist\u001b[0m\u001b[0;34m(\u001b[0m\u001b[0mcols\u001b[0m\u001b[0;34m)\u001b[0m\u001b[0;34m\u001b[0m\u001b[0m\n\u001b[0;32m-> 1534\u001b[0;31m             \u001b[0mself\u001b[0m\u001b[0;34m.\u001b[0m\u001b[0mobj\u001b[0m \u001b[0;34m=\u001b[0m \u001b[0mself\u001b[0m\u001b[0;34m.\u001b[0m\u001b[0mobj\u001b[0m\u001b[0;34m.\u001b[0m\u001b[0mloc\u001b[0m\u001b[0;34m[\u001b[0m\u001b[0;34m:\u001b[0m\u001b[0;34m,\u001b[0m \u001b[0mcols\u001b[0m\u001b[0;34m]\u001b[0m\u001b[0;34m\u001b[0m\u001b[0m\n\u001b[0m\u001b[1;32m   1535\u001b[0m \u001b[0;34m\u001b[0m\u001b[0m\n\u001b[1;32m   1536\u001b[0m         \u001b[0;31m# update columns to include possible multiplicity of dupes\u001b[0m\u001b[0;34m\u001b[0m\u001b[0;34m\u001b[0m\u001b[0m\n",
      "\u001b[0;32m~/anaconda/lib/python3.5/site-packages/pandas/core/indexing.py\u001b[0m in \u001b[0;36m__getitem__\u001b[0;34m(self, key)\u001b[0m\n\u001b[1;32m   1323\u001b[0m             \u001b[0;32mexcept\u001b[0m \u001b[0;34m(\u001b[0m\u001b[0mKeyError\u001b[0m\u001b[0;34m,\u001b[0m \u001b[0mIndexError\u001b[0m\u001b[0;34m)\u001b[0m\u001b[0;34m:\u001b[0m\u001b[0;34m\u001b[0m\u001b[0m\n\u001b[1;32m   1324\u001b[0m                 \u001b[0;32mpass\u001b[0m\u001b[0;34m\u001b[0m\u001b[0m\n\u001b[0;32m-> 1325\u001b[0;31m             \u001b[0;32mreturn\u001b[0m \u001b[0mself\u001b[0m\u001b[0;34m.\u001b[0m\u001b[0m_getitem_tuple\u001b[0m\u001b[0;34m(\u001b[0m\u001b[0mkey\u001b[0m\u001b[0;34m)\u001b[0m\u001b[0;34m\u001b[0m\u001b[0m\n\u001b[0m\u001b[1;32m   1326\u001b[0m         \u001b[0;32melse\u001b[0m\u001b[0;34m:\u001b[0m\u001b[0;34m\u001b[0m\u001b[0m\n\u001b[1;32m   1327\u001b[0m             \u001b[0mkey\u001b[0m \u001b[0;34m=\u001b[0m \u001b[0mcom\u001b[0m\u001b[0;34m.\u001b[0m\u001b[0m_apply_if_callable\u001b[0m\u001b[0;34m(\u001b[0m\u001b[0mkey\u001b[0m\u001b[0;34m,\u001b[0m \u001b[0mself\u001b[0m\u001b[0;34m.\u001b[0m\u001b[0mobj\u001b[0m\u001b[0;34m)\u001b[0m\u001b[0;34m\u001b[0m\u001b[0m\n",
      "\u001b[0;32m~/anaconda/lib/python3.5/site-packages/pandas/core/indexing.py\u001b[0m in \u001b[0;36m_getitem_tuple\u001b[0;34m(self, tup)\u001b[0m\n\u001b[1;32m    839\u001b[0m \u001b[0;34m\u001b[0m\u001b[0m\n\u001b[1;32m    840\u001b[0m         \u001b[0;31m# no multi-index, so validate all of the indexers\u001b[0m\u001b[0;34m\u001b[0m\u001b[0;34m\u001b[0m\u001b[0m\n\u001b[0;32m--> 841\u001b[0;31m         \u001b[0mself\u001b[0m\u001b[0;34m.\u001b[0m\u001b[0m_has_valid_tuple\u001b[0m\u001b[0;34m(\u001b[0m\u001b[0mtup\u001b[0m\u001b[0;34m)\u001b[0m\u001b[0;34m\u001b[0m\u001b[0m\n\u001b[0m\u001b[1;32m    842\u001b[0m \u001b[0;34m\u001b[0m\u001b[0m\n\u001b[1;32m    843\u001b[0m         \u001b[0;31m# ugly hack for GH #836\u001b[0m\u001b[0;34m\u001b[0m\u001b[0;34m\u001b[0m\u001b[0m\n",
      "\u001b[0;32m~/anaconda/lib/python3.5/site-packages/pandas/core/indexing.py\u001b[0m in \u001b[0;36m_has_valid_tuple\u001b[0;34m(self, key)\u001b[0m\n\u001b[1;32m    187\u001b[0m             \u001b[0;32mif\u001b[0m \u001b[0mi\u001b[0m \u001b[0;34m>=\u001b[0m \u001b[0mself\u001b[0m\u001b[0;34m.\u001b[0m\u001b[0mobj\u001b[0m\u001b[0;34m.\u001b[0m\u001b[0mndim\u001b[0m\u001b[0;34m:\u001b[0m\u001b[0;34m\u001b[0m\u001b[0m\n\u001b[1;32m    188\u001b[0m                 \u001b[0;32mraise\u001b[0m \u001b[0mIndexingError\u001b[0m\u001b[0;34m(\u001b[0m\u001b[0;34m'Too many indexers'\u001b[0m\u001b[0;34m)\u001b[0m\u001b[0;34m\u001b[0m\u001b[0m\n\u001b[0;32m--> 189\u001b[0;31m             \u001b[0;32mif\u001b[0m \u001b[0;32mnot\u001b[0m \u001b[0mself\u001b[0m\u001b[0;34m.\u001b[0m\u001b[0m_has_valid_type\u001b[0m\u001b[0;34m(\u001b[0m\u001b[0mk\u001b[0m\u001b[0;34m,\u001b[0m \u001b[0mi\u001b[0m\u001b[0;34m)\u001b[0m\u001b[0;34m:\u001b[0m\u001b[0;34m\u001b[0m\u001b[0m\n\u001b[0m\u001b[1;32m    190\u001b[0m                 raise ValueError(\"Location based indexing can only have [%s] \"\n\u001b[1;32m    191\u001b[0m                                  \"types\" % self._valid_types)\n",
      "\u001b[0;32m~/anaconda/lib/python3.5/site-packages/pandas/core/indexing.py\u001b[0m in \u001b[0;36m_has_valid_type\u001b[0;34m(self, key, axis)\u001b[0m\n\u001b[1;32m   1416\u001b[0m \u001b[0;34m\u001b[0m\u001b[0m\n\u001b[1;32m   1417\u001b[0m                 raise KeyError(\"None of [%s] are in the [%s]\" %\n\u001b[0;32m-> 1418\u001b[0;31m                                (key, self.obj._get_axis_name(axis)))\n\u001b[0m\u001b[1;32m   1419\u001b[0m \u001b[0;34m\u001b[0m\u001b[0m\n\u001b[1;32m   1420\u001b[0m             \u001b[0;32mreturn\u001b[0m \u001b[0;32mTrue\u001b[0m\u001b[0;34m\u001b[0m\u001b[0m\n",
      "\u001b[0;31mKeyError\u001b[0m: \"None of [['parcode', 'trial', 'rt', 'choice', 'item_left', 'item_right']] are in the [columns]\""
     ]
    }
   ],
   "source": [
    "iteration_data = []\n",
    "current_min_nll = 0\n",
    "previous_min_nll = 0\n",
    "\n",
    "\n",
    "# Initial grid selection\n",
    "range_d = [0.003, 0.006, 0.009]\n",
    "range_sigma = [0.03, 0.06, 0.09]\n",
    "range_theta = [0.3, 0.5, 0.7]\n",
    "\n",
    "#data files definition\n",
    "trials_file_name = None\n",
    "expdata_file_name = '/Users/pradyumna/Documents/gitDocs/FF2018/InputData/expdata_FFA_Dislike_part1_v2.csv'\n",
    "fixations_file_name = '/Users/pradyumna/Documents/gitDocs/FF2018/InputData/fixations_FFA_Dislike_part1_v2.csv'\n",
    "conditions_file_name = '/Users/pradyumna/Documents/gitDocs/FF2018/InputData/trial_conditions.csv'\n",
    "\n",
    "trials_per_subject = 120\n",
    "simulations_per_condition = 300\n",
    "\n",
    "iter_num = 1\n",
    "\n",
    "    \n",
    "#run the toolbox\n",
    "addm_pta_mle.main(range_d, range_sigma, range_theta,\n",
    "                  conditions_file_name, \n",
    "                  expdata_file_name,\n",
    "                  fixations_file_name, \n",
    "                  trials_per_subject,simulations_per_condition, [],\n",
    "                  9, True, True,\n",
    "                  True)\n",
    "\n",
    "\n",
    "print (\"finishedddd\")"
   ]
  },
  {
   "cell_type": "code",
   "execution_count": 11,
   "metadata": {},
   "outputs": [
    {
     "name": "stdout",
     "output_type": "stream",
     "text": [
      "Loading experimental data...\n",
      "Starting grid search...\n",
      "Computing likelihoods for model (0.003, 0.03, 0.3)...\n",
      "Computing likelihoods for model (0.003, 0.03, 0.5)...\n",
      "Computing likelihoods for model (0.003, 0.03, 0.7)...\n",
      "Computing likelihoods for model (0.003, 0.06, 0.3)...\n",
      "Computing likelihoods for model (0.003, 0.06, 0.5)...\n",
      "Computing likelihoods for model (0.003, 0.06, 0.7)...\n",
      "Computing likelihoods for model (0.003, 0.09, 0.3)...\n",
      "Computing likelihoods for model (0.003, 0.09, 0.5)...\n",
      "Computing likelihoods for model (0.003, 0.09, 0.7)...\n",
      "Computing likelihoods for model (0.006, 0.03, 0.3)...\n",
      "Computing likelihoods for model (0.006, 0.03, 0.5)...\n",
      "Computing likelihoods for model (0.006, 0.03, 0.7)...\n",
      "Computing likelihoods for model (0.006, 0.06, 0.3)...\n",
      "Computing likelihoods for model (0.006, 0.06, 0.5)...\n",
      "Computing likelihoods for model (0.006, 0.06, 0.7)...\n",
      "Computing likelihoods for model (0.006, 0.09, 0.3)...\n",
      "Computing likelihoods for model (0.006, 0.09, 0.5)...\n",
      "Computing likelihoods for model (0.006, 0.09, 0.7)...\n",
      "Computing likelihoods for model (0.009, 0.03, 0.3)...\n",
      "Computing likelihoods for model (0.009, 0.03, 0.5)...\n",
      "Computing likelihoods for model (0.009, 0.03, 0.7)...\n",
      "Computing likelihoods for model (0.009, 0.06, 0.3)...\n",
      "Computing likelihoods for model (0.009, 0.06, 0.5)...\n",
      "Computing likelihoods for model (0.009, 0.06, 0.7)...\n",
      "Computing likelihoods for model (0.009, 0.09, 0.3)...\n",
      "Computing likelihoods for model (0.009, 0.09, 0.5)...\n",
      "Computing likelihoods for model (0.009, 0.09, 0.7)...\n",
      "Finished grid search!\n",
      "Optimal d: 0.003\n",
      "Optimal sigma: 0.06\n",
      "Optimal theta: 0.3\n",
      "Min NLL: 156.638827173\n",
      "Getting fixation distributions from even trials...\n",
      "Generating model simulations...\n",
      "Failed to save experimental data to CSV file.\n"
     ]
    },
    {
     "ename": "KeyError",
     "evalue": "\"None of [['parcode', 'trial', 'rt', 'choice', 'item_left', 'item_right']] are in the [columns]\"",
     "output_type": "error",
     "traceback": [
      "\u001b[0;31m---------------------------------------------------------------------------\u001b[0m",
      "\u001b[0;31mKeyError\u001b[0m                                  Traceback (most recent call last)",
      "\u001b[0;32m<ipython-input-11-874cabf8c040>\u001b[0m in \u001b[0;36m<module>\u001b[0;34m()\u001b[0m\n\u001b[1;32m     28\u001b[0m                   \u001b[0mtrials_per_subject\u001b[0m\u001b[0;34m,\u001b[0m\u001b[0msimulations_per_condition\u001b[0m\u001b[0;34m,\u001b[0m \u001b[0;34m[\u001b[0m\u001b[0;34m]\u001b[0m\u001b[0;34m,\u001b[0m\u001b[0;34m\u001b[0m\u001b[0m\n\u001b[1;32m     29\u001b[0m                   \u001b[0;36m9\u001b[0m\u001b[0;34m,\u001b[0m \u001b[0;32mTrue\u001b[0m\u001b[0;34m,\u001b[0m \u001b[0;32mTrue\u001b[0m\u001b[0;34m,\u001b[0m\u001b[0;34m\u001b[0m\u001b[0m\n\u001b[0;32m---> 30\u001b[0;31m                   True)\n\u001b[0m\u001b[1;32m     31\u001b[0m \u001b[0;34m\u001b[0m\u001b[0m\n\u001b[1;32m     32\u001b[0m \u001b[0;34m\u001b[0m\u001b[0m\n",
      "\u001b[0;32m~/anaconda/lib/python3.5/site-packages/addm_toolbox/addm_pta_mle.py\u001b[0m in \u001b[0;36mmain\u001b[0;34m(rangeD, rangeSigma, rangeTheta, trialsFileName, expdataFileName, fixationsFileName, trialsPerSubject, simulationsPerCondition, subjectIds, numThreads, saveSimulations, saveFigures, verbose)\u001b[0m\n\u001b[1;32m    169\u001b[0m         save_simulations_to_csv(simulTrials,\n\u001b[1;32m    170\u001b[0m                                 \u001b[0;34mu\"simul_expdata_\"\u001b[0m \u001b[0;34m+\u001b[0m \u001b[0mcurrTime\u001b[0m \u001b[0;34m+\u001b[0m \u001b[0;34mu\".csv\"\u001b[0m\u001b[0;34m,\u001b[0m\u001b[0;34m\u001b[0m\u001b[0m\n\u001b[0;32m--> 171\u001b[0;31m                                 u\"simul_fixations_\" + currTime + u\".csv\")\n\u001b[0m\u001b[1;32m    172\u001b[0m \u001b[0;34m\u001b[0m\u001b[0m\n\u001b[1;32m    173\u001b[0m     \u001b[0;32mif\u001b[0m \u001b[0msaveFigures\u001b[0m\u001b[0;34m:\u001b[0m\u001b[0;34m\u001b[0m\u001b[0m\n",
      "\u001b[0;32m~/anaconda/lib/python3.5/site-packages/addm_toolbox/util.py\u001b[0m in \u001b[0;36msave_simulations_to_csv\u001b[0;34m(trials, expdataFileName, fixationsFileName)\u001b[0m\n\u001b[1;32m    336\u001b[0m             \u001b[0mexpdataFileName\u001b[0m\u001b[0;34m,\u001b[0m \u001b[0msep\u001b[0m\u001b[0;34m=\u001b[0m\u001b[0;34m\",\"\u001b[0m\u001b[0;34m,\u001b[0m \u001b[0mindex\u001b[0m\u001b[0;34m=\u001b[0m\u001b[0;32mFalse\u001b[0m\u001b[0;34m,\u001b[0m \u001b[0mfloat_format\u001b[0m\u001b[0;34m=\u001b[0m\u001b[0;34mu\"%d\"\u001b[0m\u001b[0;34m,\u001b[0m\u001b[0;34m\u001b[0m\u001b[0m\n\u001b[1;32m    337\u001b[0m             columns=[u\"parcode\", u\"trial\", u\"rt\", u\"choice\", u\"item_left\",\n\u001b[0;32m--> 338\u001b[0;31m                      u\"item_right\"])\n\u001b[0m\u001b[1;32m    339\u001b[0m     \u001b[0;32mexcept\u001b[0m\u001b[0;34m:\u001b[0m\u001b[0;34m\u001b[0m\u001b[0m\n\u001b[1;32m    340\u001b[0m         \u001b[0mprint\u001b[0m\u001b[0;34m(\u001b[0m\u001b[0;34mu\"Failed to save experimental data to CSV file.\"\u001b[0m\u001b[0;34m)\u001b[0m\u001b[0;34m\u001b[0m\u001b[0m\n",
      "\u001b[0;32m~/anaconda/lib/python3.5/site-packages/pandas/core/frame.py\u001b[0m in \u001b[0;36mto_csv\u001b[0;34m(self, path_or_buf, sep, na_rep, float_format, columns, header, index, index_label, mode, encoding, compression, quoting, quotechar, line_terminator, chunksize, tupleize_cols, date_format, doublequote, escapechar, decimal)\u001b[0m\n\u001b[1;32m   1400\u001b[0m                                      \u001b[0mdate_format\u001b[0m\u001b[0;34m=\u001b[0m\u001b[0mdate_format\u001b[0m\u001b[0;34m,\u001b[0m\u001b[0;34m\u001b[0m\u001b[0m\n\u001b[1;32m   1401\u001b[0m                                      \u001b[0mdoublequote\u001b[0m\u001b[0;34m=\u001b[0m\u001b[0mdoublequote\u001b[0m\u001b[0;34m,\u001b[0m\u001b[0;34m\u001b[0m\u001b[0m\n\u001b[0;32m-> 1402\u001b[0;31m                                      escapechar=escapechar, decimal=decimal)\n\u001b[0m\u001b[1;32m   1403\u001b[0m         \u001b[0mformatter\u001b[0m\u001b[0;34m.\u001b[0m\u001b[0msave\u001b[0m\u001b[0;34m(\u001b[0m\u001b[0;34m)\u001b[0m\u001b[0;34m\u001b[0m\u001b[0m\n\u001b[1;32m   1404\u001b[0m \u001b[0;34m\u001b[0m\u001b[0m\n",
      "\u001b[0;32m~/anaconda/lib/python3.5/site-packages/pandas/io/formats/format.py\u001b[0m in \u001b[0;36m__init__\u001b[0;34m(self, obj, path_or_buf, sep, na_rep, float_format, cols, header, index, index_label, mode, nanRep, encoding, compression, quoting, line_terminator, chunksize, tupleize_cols, quotechar, date_format, doublequote, escapechar, decimal)\u001b[0m\n\u001b[1;32m   1532\u001b[0m             \u001b[0;32melse\u001b[0m\u001b[0;34m:\u001b[0m\u001b[0;34m\u001b[0m\u001b[0m\n\u001b[1;32m   1533\u001b[0m                 \u001b[0mcols\u001b[0m \u001b[0;34m=\u001b[0m \u001b[0mlist\u001b[0m\u001b[0;34m(\u001b[0m\u001b[0mcols\u001b[0m\u001b[0;34m)\u001b[0m\u001b[0;34m\u001b[0m\u001b[0m\n\u001b[0;32m-> 1534\u001b[0;31m             \u001b[0mself\u001b[0m\u001b[0;34m.\u001b[0m\u001b[0mobj\u001b[0m \u001b[0;34m=\u001b[0m \u001b[0mself\u001b[0m\u001b[0;34m.\u001b[0m\u001b[0mobj\u001b[0m\u001b[0;34m.\u001b[0m\u001b[0mloc\u001b[0m\u001b[0;34m[\u001b[0m\u001b[0;34m:\u001b[0m\u001b[0;34m,\u001b[0m \u001b[0mcols\u001b[0m\u001b[0;34m]\u001b[0m\u001b[0;34m\u001b[0m\u001b[0m\n\u001b[0m\u001b[1;32m   1535\u001b[0m \u001b[0;34m\u001b[0m\u001b[0m\n\u001b[1;32m   1536\u001b[0m         \u001b[0;31m# update columns to include possible multiplicity of dupes\u001b[0m\u001b[0;34m\u001b[0m\u001b[0;34m\u001b[0m\u001b[0m\n",
      "\u001b[0;32m~/anaconda/lib/python3.5/site-packages/pandas/core/indexing.py\u001b[0m in \u001b[0;36m__getitem__\u001b[0;34m(self, key)\u001b[0m\n\u001b[1;32m   1323\u001b[0m             \u001b[0;32mexcept\u001b[0m \u001b[0;34m(\u001b[0m\u001b[0mKeyError\u001b[0m\u001b[0;34m,\u001b[0m \u001b[0mIndexError\u001b[0m\u001b[0;34m)\u001b[0m\u001b[0;34m:\u001b[0m\u001b[0;34m\u001b[0m\u001b[0m\n\u001b[1;32m   1324\u001b[0m                 \u001b[0;32mpass\u001b[0m\u001b[0;34m\u001b[0m\u001b[0m\n\u001b[0;32m-> 1325\u001b[0;31m             \u001b[0;32mreturn\u001b[0m \u001b[0mself\u001b[0m\u001b[0;34m.\u001b[0m\u001b[0m_getitem_tuple\u001b[0m\u001b[0;34m(\u001b[0m\u001b[0mkey\u001b[0m\u001b[0;34m)\u001b[0m\u001b[0;34m\u001b[0m\u001b[0m\n\u001b[0m\u001b[1;32m   1326\u001b[0m         \u001b[0;32melse\u001b[0m\u001b[0;34m:\u001b[0m\u001b[0;34m\u001b[0m\u001b[0m\n\u001b[1;32m   1327\u001b[0m             \u001b[0mkey\u001b[0m \u001b[0;34m=\u001b[0m \u001b[0mcom\u001b[0m\u001b[0;34m.\u001b[0m\u001b[0m_apply_if_callable\u001b[0m\u001b[0;34m(\u001b[0m\u001b[0mkey\u001b[0m\u001b[0;34m,\u001b[0m \u001b[0mself\u001b[0m\u001b[0;34m.\u001b[0m\u001b[0mobj\u001b[0m\u001b[0;34m)\u001b[0m\u001b[0;34m\u001b[0m\u001b[0m\n",
      "\u001b[0;32m~/anaconda/lib/python3.5/site-packages/pandas/core/indexing.py\u001b[0m in \u001b[0;36m_getitem_tuple\u001b[0;34m(self, tup)\u001b[0m\n\u001b[1;32m    839\u001b[0m \u001b[0;34m\u001b[0m\u001b[0m\n\u001b[1;32m    840\u001b[0m         \u001b[0;31m# no multi-index, so validate all of the indexers\u001b[0m\u001b[0;34m\u001b[0m\u001b[0;34m\u001b[0m\u001b[0m\n\u001b[0;32m--> 841\u001b[0;31m         \u001b[0mself\u001b[0m\u001b[0;34m.\u001b[0m\u001b[0m_has_valid_tuple\u001b[0m\u001b[0;34m(\u001b[0m\u001b[0mtup\u001b[0m\u001b[0;34m)\u001b[0m\u001b[0;34m\u001b[0m\u001b[0m\n\u001b[0m\u001b[1;32m    842\u001b[0m \u001b[0;34m\u001b[0m\u001b[0m\n\u001b[1;32m    843\u001b[0m         \u001b[0;31m# ugly hack for GH #836\u001b[0m\u001b[0;34m\u001b[0m\u001b[0;34m\u001b[0m\u001b[0m\n",
      "\u001b[0;32m~/anaconda/lib/python3.5/site-packages/pandas/core/indexing.py\u001b[0m in \u001b[0;36m_has_valid_tuple\u001b[0;34m(self, key)\u001b[0m\n\u001b[1;32m    187\u001b[0m             \u001b[0;32mif\u001b[0m \u001b[0mi\u001b[0m \u001b[0;34m>=\u001b[0m \u001b[0mself\u001b[0m\u001b[0;34m.\u001b[0m\u001b[0mobj\u001b[0m\u001b[0;34m.\u001b[0m\u001b[0mndim\u001b[0m\u001b[0;34m:\u001b[0m\u001b[0;34m\u001b[0m\u001b[0m\n\u001b[1;32m    188\u001b[0m                 \u001b[0;32mraise\u001b[0m \u001b[0mIndexingError\u001b[0m\u001b[0;34m(\u001b[0m\u001b[0;34m'Too many indexers'\u001b[0m\u001b[0;34m)\u001b[0m\u001b[0;34m\u001b[0m\u001b[0m\n\u001b[0;32m--> 189\u001b[0;31m             \u001b[0;32mif\u001b[0m \u001b[0;32mnot\u001b[0m \u001b[0mself\u001b[0m\u001b[0;34m.\u001b[0m\u001b[0m_has_valid_type\u001b[0m\u001b[0;34m(\u001b[0m\u001b[0mk\u001b[0m\u001b[0;34m,\u001b[0m \u001b[0mi\u001b[0m\u001b[0;34m)\u001b[0m\u001b[0;34m:\u001b[0m\u001b[0;34m\u001b[0m\u001b[0m\n\u001b[0m\u001b[1;32m    190\u001b[0m                 raise ValueError(\"Location based indexing can only have [%s] \"\n\u001b[1;32m    191\u001b[0m                                  \"types\" % self._valid_types)\n",
      "\u001b[0;32m~/anaconda/lib/python3.5/site-packages/pandas/core/indexing.py\u001b[0m in \u001b[0;36m_has_valid_type\u001b[0;34m(self, key, axis)\u001b[0m\n\u001b[1;32m   1416\u001b[0m \u001b[0;34m\u001b[0m\u001b[0m\n\u001b[1;32m   1417\u001b[0m                 raise KeyError(\"None of [%s] are in the [%s]\" %\n\u001b[0;32m-> 1418\u001b[0;31m                                (key, self.obj._get_axis_name(axis)))\n\u001b[0m\u001b[1;32m   1419\u001b[0m \u001b[0;34m\u001b[0m\u001b[0m\n\u001b[1;32m   1420\u001b[0m             \u001b[0;32mreturn\u001b[0m \u001b[0;32mTrue\u001b[0m\u001b[0;34m\u001b[0m\u001b[0m\n",
      "\u001b[0;31mKeyError\u001b[0m: \"None of [['parcode', 'trial', 'rt', 'choice', 'item_left', 'item_right']] are in the [columns]\""
     ]
    }
   ],
   "source": [
    "iteration_data = []\n",
    "current_min_nll = 0\n",
    "previous_min_nll = 0\n",
    "\n",
    "\n",
    "# Initial grid selection\n",
    "range_d = [0.003, 0.006, 0.009]\n",
    "range_sigma = [0.03, 0.06, 0.09]\n",
    "range_theta = [0.3, 0.5, 0.7]\n",
    "\n",
    "#data files definition\n",
    "trials_file_name = None\n",
    "expdata_file_name = '/Users/pradyumna/Documents/gitDocs/FF2018/InputData/expdata_FFA_Dislike_part1_v2.csv'\n",
    "fixations_file_name = '/Users/pradyumna/Documents/gitDocs/FF2018/InputData/fixations_FFA_Dislike_part1_v2.csv'\n",
    "conditions_file_name = '/Users/pradyumna/Documents/gitDocs/FF2018/InputData/trial_conditions.csv'\n",
    "\n",
    "trials_per_subject = 120\n",
    "simulations_per_condition = 300\n",
    "\n",
    "iter_num = 1\n",
    "\n",
    "    \n",
    "#run the toolbox\n",
    "addm_pta_mle.main(range_d, range_sigma, range_theta,\n",
    "                  conditions_file_name, \n",
    "                  expdata_file_name,\n",
    "                  fixations_file_name, \n",
    "                  trials_per_subject,simulations_per_condition, [],\n",
    "                  9, True, True,\n",
    "                  True)\n",
    "\n",
    "\n",
    "print (\"finishedddd\")"
   ]
  },
  {
   "cell_type": "code",
   "execution_count": null,
   "metadata": {},
   "outputs": [],
   "source": []
  },
  {
   "cell_type": "markdown",
   "metadata": {},
   "source": [
    "## TEST pta_map algorithm\n",
    "## USING default data"
   ]
  },
  {
   "cell_type": "code",
   "execution_count": 101,
   "metadata": {},
   "outputs": [
    {
     "name": "stdout",
     "output_type": "stream",
     "text": [
      "Loading experimental data...\n",
      "Starting grid search...\n",
      "Computing likelihoods for model (0.003, 0.03, 0.3)...\n",
      "Computing likelihoods for model (0.003, 0.03, 0.5)...\n",
      "Computing likelihoods for model (0.003, 0.03, 0.7)...\n",
      "Computing likelihoods for model (0.003, 0.06, 0.3)...\n",
      "Computing likelihoods for model (0.003, 0.06, 0.5)...\n",
      "Computing likelihoods for model (0.003, 0.06, 0.7)...\n",
      "Computing likelihoods for model (0.003, 0.09, 0.3)...\n",
      "Computing likelihoods for model (0.003, 0.09, 0.5)...\n",
      "Computing likelihoods for model (0.003, 0.09, 0.7)...\n",
      "Computing likelihoods for model (0.006, 0.03, 0.3)...\n",
      "Computing likelihoods for model (0.006, 0.03, 0.5)...\n",
      "Computing likelihoods for model (0.006, 0.03, 0.7)...\n",
      "Computing likelihoods for model (0.006, 0.06, 0.3)...\n",
      "Computing likelihoods for model (0.006, 0.06, 0.5)...\n",
      "Computing likelihoods for model (0.006, 0.06, 0.7)...\n",
      "Computing likelihoods for model (0.006, 0.09, 0.3)...\n",
      "Computing likelihoods for model (0.006, 0.09, 0.5)...\n",
      "Computing likelihoods for model (0.006, 0.09, 0.7)...\n",
      "Computing likelihoods for model (0.009, 0.03, 0.3)...\n",
      "Computing likelihoods for model (0.009, 0.03, 0.5)...\n",
      "Computing likelihoods for model (0.009, 0.03, 0.7)...\n",
      "Computing likelihoods for model (0.009, 0.06, 0.3)...\n",
      "Computing likelihoods for model (0.009, 0.06, 0.5)...\n",
      "Computing likelihoods for model (0.009, 0.06, 0.7)...\n",
      "Computing likelihoods for model (0.009, 0.09, 0.3)...\n",
      "Computing likelihoods for model (0.009, 0.09, 0.5)...\n",
      "Computing likelihoods for model (0.009, 0.09, 0.7)...\n",
      "Finished grid search!\n",
      "P(0.003, 0.03, 0.3) = 8.6141800597e-55\n",
      "P(0.003, 0.03, 0.5) = 6.41165758076e-57\n",
      "P(0.003, 0.03, 0.7) = 4.8536670707e-59\n",
      "P(0.003, 0.06, 0.3) = 0.954686117626\n",
      "P(0.003, 0.06, 0.5) = 0.0438595478099\n",
      "P(0.003, 0.06, 0.7) = 0.00145426201106\n",
      "P(0.003, 0.09, 0.3) = 1.39698124385e-11\n",
      "P(0.003, 0.09, 0.5) = 3.30282757503e-12\n",
      "P(0.003, 0.09, 0.7) = 6.64634458833e-13\n",
      "P(0.006, 0.03, 0.3) = 6.57920490703e-61\n",
      "P(0.006, 0.03, 0.5) = 3.92661944156e-66\n",
      "P(0.006, 0.03, 0.7) = 1.95936984702e-71\n",
      "P(0.006, 0.06, 0.3) = 7.25253850135e-08\n",
      "P(0.006, 0.06, 0.5) = 9.40753468917e-12\n",
      "P(0.006, 0.06, 0.7) = 3.33625982949e-16\n",
      "P(0.006, 0.09, 0.3) = 1.4238898432e-14\n",
      "P(0.006, 0.09, 0.5) = 2.67817243501e-16\n",
      "P(0.006, 0.09, 0.7) = 2.64468141257e-18\n",
      "P(0.009, 0.03, 0.3) = 6.78247360617e-72\n",
      "P(0.009, 0.03, 0.5) = 1.41665352567e-81\n",
      "P(0.009, 0.03, 0.7) = 6.72482625558e-92\n",
      "P(0.009, 0.06, 0.3) = 1.24995809815e-19\n",
      "P(0.009, 0.06, 0.5) = 3.07291401109e-27\n",
      "P(0.009, 0.06, 0.7) = 4.18607511045e-36\n",
      "P(0.009, 0.09, 0.3) = 1.14383118863e-19\n",
      "P(0.009, 0.09, 0.5) = 5.79513654633e-23\n",
      "P(0.009, 0.09, 0.7) = 6.89007275638e-27\n",
      "Getting fixation distributions from even trials...\n"
     ]
    },
    {
     "ename": "KeyboardInterrupt",
     "evalue": "",
     "output_type": "error",
     "traceback": [
      "\u001b[0;31m---------------------------------------------------------------------------\u001b[0m",
      "\u001b[0;31mKeyboardInterrupt\u001b[0m                         Traceback (most recent call last)",
      "\u001b[0;32m<ipython-input-101-24c9b4783162>\u001b[0m in \u001b[0;36m<module>\u001b[0;34m()\u001b[0m\n\u001b[1;32m     28\u001b[0m                   \u001b[0mtrials_per_subject\u001b[0m\u001b[0;34m,\u001b[0m\u001b[0mnum_samples_posterior\u001b[0m\u001b[0;34m,\u001b[0m\u001b[0msimulations_per_condition\u001b[0m\u001b[0;34m,\u001b[0m \u001b[0;34m[\u001b[0m\u001b[0;34m]\u001b[0m\u001b[0;34m,\u001b[0m\u001b[0;34m\u001b[0m\u001b[0m\n\u001b[1;32m     29\u001b[0m                   \u001b[0;36m9\u001b[0m\u001b[0;34m,\u001b[0m \u001b[0;32mTrue\u001b[0m\u001b[0;34m,\u001b[0m \u001b[0;32mTrue\u001b[0m\u001b[0;34m,\u001b[0m\u001b[0;34m\u001b[0m\u001b[0m\n\u001b[0;32m---> 30\u001b[0;31m                   True)\n\u001b[0m\u001b[1;32m     31\u001b[0m \u001b[0;34m\u001b[0m\u001b[0m\n\u001b[1;32m     32\u001b[0m \u001b[0;34m\u001b[0m\u001b[0m\n",
      "\u001b[0;32m~/anaconda/lib/python3.5/site-packages/addm_toolbox/addm_pta_map.py\u001b[0m in \u001b[0;36mmain\u001b[0;34m(rangeD, rangeSigma, rangeTheta, trialsFileName, expdataFileName, fixationsFileName, trialsPerSubject, numSamples, numSimulations, subjectIds, numThreads, saveSimulations, saveFigures, verbose)\u001b[0m\n\u001b[1;32m    200\u001b[0m         save_simulations_to_csv(simulTrials,\n\u001b[1;32m    201\u001b[0m                                 \u001b[0;34mu\"simul_expdata_\"\u001b[0m \u001b[0;34m+\u001b[0m \u001b[0mcurrTime\u001b[0m \u001b[0;34m+\u001b[0m \u001b[0;34mu\".csv\"\u001b[0m\u001b[0;34m,\u001b[0m\u001b[0;34m\u001b[0m\u001b[0m\n\u001b[0;32m--> 202\u001b[0;31m                                 u\"simul_fixations_\" + currTime + u\".csv\")\n\u001b[0m\u001b[1;32m    203\u001b[0m \u001b[0;34m\u001b[0m\u001b[0m\n\u001b[1;32m    204\u001b[0m     \u001b[0;32mif\u001b[0m \u001b[0msaveFigures\u001b[0m\u001b[0;34m:\u001b[0m\u001b[0;34m\u001b[0m\u001b[0m\n",
      "\u001b[0;32m~/anaconda/lib/python3.5/site-packages/addm_toolbox/util.py\u001b[0m in \u001b[0;36msave_simulations_to_csv\u001b[0;34m(trials, expdataFileName, fixationsFileName)\u001b[0m\n\u001b[1;32m    330\u001b[0m                 {u\"parcode\": 0, u\"trial\": t, u\"fix_item\": item,\n\u001b[1;32m    331\u001b[0m                  u\"fix_time\": time},\n\u001b[0;32m--> 332\u001b[0;31m                 ignore_index=True)\n\u001b[0m\u001b[1;32m    333\u001b[0m \u001b[0;34m\u001b[0m\u001b[0m\n\u001b[1;32m    334\u001b[0m     \u001b[0;32mtry\u001b[0m\u001b[0;34m:\u001b[0m\u001b[0;34m\u001b[0m\u001b[0m\n",
      "\u001b[0;32m~/anaconda/lib/python3.5/site-packages/pandas/core/frame.py\u001b[0m in \u001b[0;36mappend\u001b[0;34m(self, other, ignore_index, verify_integrity)\u001b[0m\n\u001b[1;32m   4533\u001b[0m             \u001b[0mother\u001b[0m \u001b[0;34m=\u001b[0m \u001b[0mother\u001b[0m\u001b[0;34m.\u001b[0m\u001b[0m_convert\u001b[0m\u001b[0;34m(\u001b[0m\u001b[0mdatetime\u001b[0m\u001b[0;34m=\u001b[0m\u001b[0;32mTrue\u001b[0m\u001b[0;34m,\u001b[0m \u001b[0mtimedelta\u001b[0m\u001b[0;34m=\u001b[0m\u001b[0;32mTrue\u001b[0m\u001b[0;34m)\u001b[0m\u001b[0;34m\u001b[0m\u001b[0m\n\u001b[1;32m   4534\u001b[0m             \u001b[0;32mif\u001b[0m \u001b[0;32mnot\u001b[0m \u001b[0mself\u001b[0m\u001b[0;34m.\u001b[0m\u001b[0mcolumns\u001b[0m\u001b[0;34m.\u001b[0m\u001b[0mequals\u001b[0m\u001b[0;34m(\u001b[0m\u001b[0mcombined_columns\u001b[0m\u001b[0;34m)\u001b[0m\u001b[0;34m:\u001b[0m\u001b[0;34m\u001b[0m\u001b[0m\n\u001b[0;32m-> 4535\u001b[0;31m                 \u001b[0mself\u001b[0m \u001b[0;34m=\u001b[0m \u001b[0mself\u001b[0m\u001b[0;34m.\u001b[0m\u001b[0mreindex\u001b[0m\u001b[0;34m(\u001b[0m\u001b[0mcolumns\u001b[0m\u001b[0;34m=\u001b[0m\u001b[0mcombined_columns\u001b[0m\u001b[0;34m)\u001b[0m\u001b[0;34m\u001b[0m\u001b[0m\n\u001b[0m\u001b[1;32m   4536\u001b[0m         \u001b[0;32melif\u001b[0m \u001b[0misinstance\u001b[0m\u001b[0;34m(\u001b[0m\u001b[0mother\u001b[0m\u001b[0;34m,\u001b[0m \u001b[0mlist\u001b[0m\u001b[0;34m)\u001b[0m \u001b[0;32mand\u001b[0m \u001b[0;32mnot\u001b[0m \u001b[0misinstance\u001b[0m\u001b[0;34m(\u001b[0m\u001b[0mother\u001b[0m\u001b[0;34m[\u001b[0m\u001b[0;36m0\u001b[0m\u001b[0;34m]\u001b[0m\u001b[0;34m,\u001b[0m \u001b[0mDataFrame\u001b[0m\u001b[0;34m)\u001b[0m\u001b[0;34m:\u001b[0m\u001b[0;34m\u001b[0m\u001b[0m\n\u001b[1;32m   4537\u001b[0m             \u001b[0mother\u001b[0m \u001b[0;34m=\u001b[0m \u001b[0mDataFrame\u001b[0m\u001b[0;34m(\u001b[0m\u001b[0mother\u001b[0m\u001b[0;34m)\u001b[0m\u001b[0;34m\u001b[0m\u001b[0m\n",
      "\u001b[0;32m~/anaconda/lib/python3.5/site-packages/pandas/core/frame.py\u001b[0m in \u001b[0;36mreindex\u001b[0;34m(self, index, columns, **kwargs)\u001b[0m\n\u001b[1;32m   2731\u001b[0m     \u001b[0;32mdef\u001b[0m \u001b[0mreindex\u001b[0m\u001b[0;34m(\u001b[0m\u001b[0mself\u001b[0m\u001b[0;34m,\u001b[0m \u001b[0mindex\u001b[0m\u001b[0;34m=\u001b[0m\u001b[0;32mNone\u001b[0m\u001b[0;34m,\u001b[0m \u001b[0mcolumns\u001b[0m\u001b[0;34m=\u001b[0m\u001b[0;32mNone\u001b[0m\u001b[0;34m,\u001b[0m \u001b[0;34m**\u001b[0m\u001b[0mkwargs\u001b[0m\u001b[0;34m)\u001b[0m\u001b[0;34m:\u001b[0m\u001b[0;34m\u001b[0m\u001b[0m\n\u001b[1;32m   2732\u001b[0m         return super(DataFrame, self).reindex(index=index, columns=columns,\n\u001b[0;32m-> 2733\u001b[0;31m                                               **kwargs)\n\u001b[0m\u001b[1;32m   2734\u001b[0m \u001b[0;34m\u001b[0m\u001b[0m\n\u001b[1;32m   2735\u001b[0m     \u001b[0;34m@\u001b[0m\u001b[0mAppender\u001b[0m\u001b[0;34m(\u001b[0m\u001b[0m_shared_docs\u001b[0m\u001b[0;34m[\u001b[0m\u001b[0;34m'reindex_axis'\u001b[0m\u001b[0;34m]\u001b[0m \u001b[0;34m%\u001b[0m \u001b[0m_shared_doc_kwargs\u001b[0m\u001b[0;34m)\u001b[0m\u001b[0;34m\u001b[0m\u001b[0m\n",
      "\u001b[0;32m~/anaconda/lib/python3.5/site-packages/pandas/core/generic.py\u001b[0m in \u001b[0;36mreindex\u001b[0;34m(self, *args, **kwargs)\u001b[0m\n\u001b[1;32m   2513\u001b[0m         \u001b[0;31m# perform the reindex on the axes\u001b[0m\u001b[0;34m\u001b[0m\u001b[0;34m\u001b[0m\u001b[0m\n\u001b[1;32m   2514\u001b[0m         return self._reindex_axes(axes, level, limit, tolerance, method,\n\u001b[0;32m-> 2515\u001b[0;31m                                   fill_value, copy).__finalize__(self)\n\u001b[0m\u001b[1;32m   2516\u001b[0m \u001b[0;34m\u001b[0m\u001b[0m\n\u001b[1;32m   2517\u001b[0m     def _reindex_axes(self, axes, level, limit, tolerance, method, fill_value,\n",
      "\u001b[0;32m~/anaconda/lib/python3.5/site-packages/pandas/core/frame.py\u001b[0m in \u001b[0;36m_reindex_axes\u001b[0;34m(self, axes, level, limit, tolerance, method, fill_value, copy)\u001b[0m\n\u001b[1;32m   2672\u001b[0m         \u001b[0;32mif\u001b[0m \u001b[0mcolumns\u001b[0m \u001b[0;32mis\u001b[0m \u001b[0;32mnot\u001b[0m \u001b[0;32mNone\u001b[0m\u001b[0;34m:\u001b[0m\u001b[0;34m\u001b[0m\u001b[0m\n\u001b[1;32m   2673\u001b[0m             frame = frame._reindex_columns(columns, method, copy, level,\n\u001b[0;32m-> 2674\u001b[0;31m                                            fill_value, limit, tolerance)\n\u001b[0m\u001b[1;32m   2675\u001b[0m \u001b[0;34m\u001b[0m\u001b[0m\n\u001b[1;32m   2676\u001b[0m         \u001b[0mindex\u001b[0m \u001b[0;34m=\u001b[0m \u001b[0maxes\u001b[0m\u001b[0;34m[\u001b[0m\u001b[0;34m'index'\u001b[0m\u001b[0;34m]\u001b[0m\u001b[0;34m\u001b[0m\u001b[0m\n",
      "\u001b[0;32m~/anaconda/lib/python3.5/site-packages/pandas/core/frame.py\u001b[0m in \u001b[0;36m_reindex_columns\u001b[0;34m(self, new_columns, method, copy, level, fill_value, limit, tolerance)\u001b[0m\n\u001b[1;32m   2697\u001b[0m         return self._reindex_with_indexers({1: [new_columns, indexer]},\n\u001b[1;32m   2698\u001b[0m                                            \u001b[0mcopy\u001b[0m\u001b[0;34m=\u001b[0m\u001b[0mcopy\u001b[0m\u001b[0;34m,\u001b[0m \u001b[0mfill_value\u001b[0m\u001b[0;34m=\u001b[0m\u001b[0mfill_value\u001b[0m\u001b[0;34m,\u001b[0m\u001b[0;34m\u001b[0m\u001b[0m\n\u001b[0;32m-> 2699\u001b[0;31m                                            allow_dups=False)\n\u001b[0m\u001b[1;32m   2700\u001b[0m \u001b[0;34m\u001b[0m\u001b[0m\n\u001b[1;32m   2701\u001b[0m     \u001b[0;32mdef\u001b[0m \u001b[0m_reindex_multi\u001b[0m\u001b[0;34m(\u001b[0m\u001b[0mself\u001b[0m\u001b[0;34m,\u001b[0m \u001b[0maxes\u001b[0m\u001b[0;34m,\u001b[0m \u001b[0mcopy\u001b[0m\u001b[0;34m,\u001b[0m \u001b[0mfill_value\u001b[0m\u001b[0;34m)\u001b[0m\u001b[0;34m:\u001b[0m\u001b[0;34m\u001b[0m\u001b[0m\n",
      "\u001b[0;32m~/anaconda/lib/python3.5/site-packages/pandas/core/generic.py\u001b[0m in \u001b[0;36m_reindex_with_indexers\u001b[0;34m(self, reindexers, fill_value, copy, allow_dups)\u001b[0m\n\u001b[1;32m   2625\u001b[0m                                                 \u001b[0mfill_value\u001b[0m\u001b[0;34m=\u001b[0m\u001b[0mfill_value\u001b[0m\u001b[0;34m,\u001b[0m\u001b[0;34m\u001b[0m\u001b[0m\n\u001b[1;32m   2626\u001b[0m                                                 \u001b[0mallow_dups\u001b[0m\u001b[0;34m=\u001b[0m\u001b[0mallow_dups\u001b[0m\u001b[0;34m,\u001b[0m\u001b[0;34m\u001b[0m\u001b[0m\n\u001b[0;32m-> 2627\u001b[0;31m                                                 copy=copy)\n\u001b[0m\u001b[1;32m   2628\u001b[0m \u001b[0;34m\u001b[0m\u001b[0m\n\u001b[1;32m   2629\u001b[0m         \u001b[0;32mif\u001b[0m \u001b[0mcopy\u001b[0m \u001b[0;32mand\u001b[0m \u001b[0mnew_data\u001b[0m \u001b[0;32mis\u001b[0m \u001b[0mself\u001b[0m\u001b[0;34m.\u001b[0m\u001b[0m_data\u001b[0m\u001b[0;34m:\u001b[0m\u001b[0;34m\u001b[0m\u001b[0m\n",
      "\u001b[0;32m~/anaconda/lib/python3.5/site-packages/pandas/core/internals.py\u001b[0m in \u001b[0;36mreindex_indexer\u001b[0;34m(self, new_axis, indexer, axis, fill_value, allow_dups, copy)\u001b[0m\n\u001b[1;32m   3875\u001b[0m                 \u001b[0;32mreturn\u001b[0m \u001b[0mself\u001b[0m\u001b[0;34m\u001b[0m\u001b[0m\n\u001b[1;32m   3876\u001b[0m \u001b[0;34m\u001b[0m\u001b[0m\n\u001b[0;32m-> 3877\u001b[0;31m             \u001b[0mresult\u001b[0m \u001b[0;34m=\u001b[0m \u001b[0mself\u001b[0m\u001b[0;34m.\u001b[0m\u001b[0mcopy\u001b[0m\u001b[0;34m(\u001b[0m\u001b[0mdeep\u001b[0m\u001b[0;34m=\u001b[0m\u001b[0mcopy\u001b[0m\u001b[0;34m)\u001b[0m\u001b[0;34m\u001b[0m\u001b[0m\n\u001b[0m\u001b[1;32m   3878\u001b[0m             \u001b[0mresult\u001b[0m\u001b[0;34m.\u001b[0m\u001b[0maxes\u001b[0m \u001b[0;34m=\u001b[0m \u001b[0mlist\u001b[0m\u001b[0;34m(\u001b[0m\u001b[0mself\u001b[0m\u001b[0;34m.\u001b[0m\u001b[0maxes\u001b[0m\u001b[0;34m)\u001b[0m\u001b[0;34m\u001b[0m\u001b[0m\n\u001b[1;32m   3879\u001b[0m             \u001b[0mresult\u001b[0m\u001b[0;34m.\u001b[0m\u001b[0maxes\u001b[0m\u001b[0;34m[\u001b[0m\u001b[0maxis\u001b[0m\u001b[0;34m]\u001b[0m \u001b[0;34m=\u001b[0m \u001b[0mnew_axis\u001b[0m\u001b[0;34m\u001b[0m\u001b[0m\n",
      "\u001b[0;32m~/anaconda/lib/python3.5/site-packages/pandas/core/internals.py\u001b[0m in \u001b[0;36mcopy\u001b[0;34m(self, deep, mgr)\u001b[0m\n\u001b[1;32m   3434\u001b[0m             \u001b[0mnew_axes\u001b[0m \u001b[0;34m=\u001b[0m \u001b[0mlist\u001b[0m\u001b[0;34m(\u001b[0m\u001b[0mself\u001b[0m\u001b[0;34m.\u001b[0m\u001b[0maxes\u001b[0m\u001b[0;34m)\u001b[0m\u001b[0;34m\u001b[0m\u001b[0m\n\u001b[1;32m   3435\u001b[0m         return self.apply('copy', axes=new_axes, deep=deep,\n\u001b[0;32m-> 3436\u001b[0;31m                           do_integrity_check=False)\n\u001b[0m\u001b[1;32m   3437\u001b[0m \u001b[0;34m\u001b[0m\u001b[0m\n\u001b[1;32m   3438\u001b[0m     \u001b[0;32mdef\u001b[0m \u001b[0mas_matrix\u001b[0m\u001b[0;34m(\u001b[0m\u001b[0mself\u001b[0m\u001b[0;34m,\u001b[0m \u001b[0mitems\u001b[0m\u001b[0;34m=\u001b[0m\u001b[0;32mNone\u001b[0m\u001b[0;34m)\u001b[0m\u001b[0;34m:\u001b[0m\u001b[0;34m\u001b[0m\u001b[0m\n",
      "\u001b[0;32m~/anaconda/lib/python3.5/site-packages/pandas/core/internals.py\u001b[0m in \u001b[0;36mapply\u001b[0;34m(self, f, axes, filter, do_integrity_check, consolidate, **kwargs)\u001b[0m\n\u001b[1;32m   3089\u001b[0m \u001b[0;34m\u001b[0m\u001b[0m\n\u001b[1;32m   3090\u001b[0m             \u001b[0mkwargs\u001b[0m\u001b[0;34m[\u001b[0m\u001b[0;34m'mgr'\u001b[0m\u001b[0;34m]\u001b[0m \u001b[0;34m=\u001b[0m \u001b[0mself\u001b[0m\u001b[0;34m\u001b[0m\u001b[0m\n\u001b[0;32m-> 3091\u001b[0;31m             \u001b[0mapplied\u001b[0m \u001b[0;34m=\u001b[0m \u001b[0mgetattr\u001b[0m\u001b[0;34m(\u001b[0m\u001b[0mb\u001b[0m\u001b[0;34m,\u001b[0m \u001b[0mf\u001b[0m\u001b[0;34m)\u001b[0m\u001b[0;34m(\u001b[0m\u001b[0;34m**\u001b[0m\u001b[0mkwargs\u001b[0m\u001b[0;34m)\u001b[0m\u001b[0;34m\u001b[0m\u001b[0m\n\u001b[0m\u001b[1;32m   3092\u001b[0m             \u001b[0mresult_blocks\u001b[0m \u001b[0;34m=\u001b[0m \u001b[0m_extend_blocks\u001b[0m\u001b[0;34m(\u001b[0m\u001b[0mapplied\u001b[0m\u001b[0;34m,\u001b[0m \u001b[0mresult_blocks\u001b[0m\u001b[0;34m)\u001b[0m\u001b[0;34m\u001b[0m\u001b[0m\n\u001b[1;32m   3093\u001b[0m \u001b[0;34m\u001b[0m\u001b[0m\n",
      "\u001b[0;32m~/anaconda/lib/python3.5/site-packages/pandas/core/internals.py\u001b[0m in \u001b[0;36mcopy\u001b[0;34m(self, deep, mgr)\u001b[0m\n\u001b[1;32m    627\u001b[0m         \u001b[0mvalues\u001b[0m \u001b[0;34m=\u001b[0m \u001b[0mself\u001b[0m\u001b[0;34m.\u001b[0m\u001b[0mvalues\u001b[0m\u001b[0;34m\u001b[0m\u001b[0m\n\u001b[1;32m    628\u001b[0m         \u001b[0;32mif\u001b[0m \u001b[0mdeep\u001b[0m\u001b[0;34m:\u001b[0m\u001b[0;34m\u001b[0m\u001b[0m\n\u001b[0;32m--> 629\u001b[0;31m             \u001b[0mvalues\u001b[0m \u001b[0;34m=\u001b[0m \u001b[0mvalues\u001b[0m\u001b[0;34m.\u001b[0m\u001b[0mcopy\u001b[0m\u001b[0;34m(\u001b[0m\u001b[0;34m)\u001b[0m\u001b[0;34m\u001b[0m\u001b[0m\n\u001b[0m\u001b[1;32m    630\u001b[0m         \u001b[0;32mreturn\u001b[0m \u001b[0mself\u001b[0m\u001b[0;34m.\u001b[0m\u001b[0mmake_block_same_class\u001b[0m\u001b[0;34m(\u001b[0m\u001b[0mvalues\u001b[0m\u001b[0;34m)\u001b[0m\u001b[0;34m\u001b[0m\u001b[0m\n\u001b[1;32m    631\u001b[0m \u001b[0;34m\u001b[0m\u001b[0m\n",
      "\u001b[0;31mKeyboardInterrupt\u001b[0m: "
     ]
    }
   ],
   "source": [
    "iteration_data = []\n",
    "current_min_nll = 0\n",
    "previous_min_nll = 0\n",
    "\n",
    "\n",
    "# Initial grid selection\n",
    "range_d = [0.003, 0.006, 0.009]\n",
    "range_sigma = [0.03, 0.06, 0.09]\n",
    "range_theta = [0.3, 0.5, 0.7]\n",
    "\n",
    "#data files definition\n",
    "expdata_file_name = '/Users/pradyumna/Documents/gitDocs/FF2018/InputData/tests/expdata.csv'\n",
    "fixations_file_name = '/Users/pradyumna/Documents/gitDocs/FF2018/InputData/tests/fixations.csv'\n",
    "conditions_file_name = '/Users/pradyumna/Documents/gitDocs/FF2018/InputData/tests/trial_conditions.csv'\n",
    "\n",
    "trials_per_subject = 39\n",
    "simulations_per_condition = 100\n",
    "num_samples_posterior = 100\n",
    "\n",
    "iter_num = 1\n",
    "\n",
    "    \n",
    "#run the toolbox\n",
    "addm_pta_map.main(range_d, range_sigma, range_theta,\n",
    "                  conditions_file_name, \n",
    "                  expdata_file_name,\n",
    "                  fixations_file_name, \n",
    "                  trials_per_subject,num_samples_posterior,simulations_per_condition, [],\n",
    "                  9, True, True,\n",
    "                  True)\n",
    "\n",
    "\n",
    "print (\"finishedddd\")"
   ]
  },
  {
   "cell_type": "code",
   "execution_count": 102,
   "metadata": {},
   "outputs": [
    {
     "name": "stdout",
     "output_type": "stream",
     "text": [
      "Loading experimental data...\n",
      "Starting grid search...\n",
      "Computing likelihoods for model (0.003, 0.03, 0.3)...\n",
      "Computing likelihoods for model (0.003, 0.03, 0.5)...\n",
      "Computing likelihoods for model (0.003, 0.03, 0.7)...\n",
      "Computing likelihoods for model (0.003, 0.06, 0.3)...\n",
      "Computing likelihoods for model (0.003, 0.06, 0.5)...\n",
      "Computing likelihoods for model (0.003, 0.06, 0.7)...\n",
      "Computing likelihoods for model (0.003, 0.09, 0.3)...\n",
      "Computing likelihoods for model (0.003, 0.09, 0.5)...\n",
      "Computing likelihoods for model (0.003, 0.09, 0.7)...\n",
      "Computing likelihoods for model (0.006, 0.03, 0.3)...\n",
      "Computing likelihoods for model (0.006, 0.03, 0.5)...\n",
      "Computing likelihoods for model (0.006, 0.03, 0.7)...\n",
      "Computing likelihoods for model (0.006, 0.06, 0.3)...\n",
      "Computing likelihoods for model (0.006, 0.06, 0.5)...\n",
      "Computing likelihoods for model (0.006, 0.06, 0.7)...\n",
      "Computing likelihoods for model (0.006, 0.09, 0.3)...\n",
      "Computing likelihoods for model (0.006, 0.09, 0.5)...\n",
      "Computing likelihoods for model (0.006, 0.09, 0.7)...\n",
      "Computing likelihoods for model (0.009, 0.03, 0.3)...\n",
      "Computing likelihoods for model (0.009, 0.03, 0.5)...\n",
      "Computing likelihoods for model (0.009, 0.03, 0.7)...\n",
      "Computing likelihoods for model (0.009, 0.06, 0.3)...\n",
      "Computing likelihoods for model (0.009, 0.06, 0.5)...\n",
      "Computing likelihoods for model (0.009, 0.06, 0.7)...\n",
      "Computing likelihoods for model (0.009, 0.09, 0.3)...\n",
      "Computing likelihoods for model (0.009, 0.09, 0.5)...\n",
      "Computing likelihoods for model (0.009, 0.09, 0.7)...\n",
      "Finished grid search!\n",
      "Optimal d: 0.003\n",
      "Optimal sigma: 0.06\n",
      "Optimal theta: 0.3\n",
      "Min NLL: 162.516831956\n",
      "Getting fixation distributions from even trials...\n",
      "Generating model simulations...\n"
     ]
    },
    {
     "name": "stderr",
     "output_type": "stream",
     "text": [
      "/Users/pradyumna/anaconda/lib/python3.5/site-packages/addm_toolbox/util.py:379: RuntimeWarning: invalid value encountered in double_scalars\n",
      "  probLeftChosen[i] = countLeftChosen[i] / countTotal[i]\n",
      "/Users/pradyumna/anaconda/lib/python3.5/site-packages/addm_toolbox/util.py:401: RuntimeWarning: invalid value encountered in double_scalars\n",
      "  probLeftChosen[i] = countLeftChosen[i] / countTotal[i]\n",
      "/Users/pradyumna/anaconda/lib/python3.5/site-packages/numpy/core/_methods.py:59: RuntimeWarning: Mean of empty slice.\n",
      "  warnings.warn(\"Mean of empty slice.\", RuntimeWarning)\n",
      "/Users/pradyumna/anaconda/lib/python3.5/site-packages/numpy/core/_methods.py:71: RuntimeWarning: invalid value encountered in double_scalars\n",
      "  ret = ret.dtype.type(ret / rcount)\n",
      "/Users/pradyumna/anaconda/lib/python3.5/site-packages/numpy/core/_methods.py:83: RuntimeWarning: Degrees of freedom <= 0 for slice\n",
      "  warnings.warn(\"Degrees of freedom <= 0 for slice\", RuntimeWarning)\n",
      "/Users/pradyumna/anaconda/lib/python3.5/site-packages/numpy/core/_methods.py:95: RuntimeWarning: invalid value encountered in true_divide\n",
      "  arrmean, rcount, out=arrmean, casting='unsafe', subok=False)\n",
      "/Users/pradyumna/anaconda/lib/python3.5/site-packages/numpy/core/_methods.py:117: RuntimeWarning: invalid value encountered in double_scalars\n",
      "  ret = ret.dtype.type(ret / rcount)\n"
     ]
    },
    {
     "name": "stdout",
     "output_type": "stream",
     "text": [
      "finishedddd\n"
     ]
    }
   ],
   "source": [
    "iteration_data = []\n",
    "current_min_nll = 0\n",
    "previous_min_nll = 0\n",
    "\n",
    "\n",
    "# Initial grid selection\n",
    "range_d = [0.003, 0.006, 0.009]\n",
    "range_sigma = [0.03, 0.06, 0.09]\n",
    "range_theta = [0.3, 0.5, 0.7]\n",
    "\n",
    "#data files definition\n",
    "expdata_file_name = '/Users/pradyumna/Documents/gitDocs/FF2018/InputData/tests/expdata.csv'\n",
    "fixations_file_name = '/Users/pradyumna/Documents/gitDocs/FF2018/InputData/tests/fixations.csv'\n",
    "conditions_file_name = '/Users/pradyumna/Documents/gitDocs/FF2018/InputData/tests/trial_conditions.csv'\n",
    "\n",
    "trials_per_subject = 39\n",
    "simulations_per_condition = 100\n",
    "#num_samples_posterior = 100\n",
    "\n",
    "iter_num = 1\n",
    "\n",
    "    \n",
    "#run the toolbox\n",
    "addm_pta_mle.main(range_d, range_sigma, range_theta,\n",
    "                  conditions_file_name, \n",
    "                  expdata_file_name,\n",
    "                  fixations_file_name, \n",
    "                  trials_per_subject,simulations_per_condition, [],\n",
    "                  9, True, True,\n",
    "                  True)\n",
    "\n",
    "\n",
    "print (\"finishedddd\")"
   ]
  },
  {
   "cell_type": "code",
   "execution_count": null,
   "metadata": {},
   "outputs": [],
   "source": [
    "###############################################"
   ]
  },
  {
   "cell_type": "markdown",
   "metadata": {},
   "source": [
    "# Attempt of using DDM model from the toolbox\n",
    "# Parameters\n",
    "\n",
    "### (d, sigma, rangeD, rangeSigma, trialsFileName=None, trialsPerCondition=800, numThreads=9, verbose=False):"
   ]
  },
  {
   "cell_type": "code",
   "execution_count": null,
   "metadata": {},
   "outputs": [],
   "source": [
    "# Initial grid selection\n",
    "range_d = [x * 0.0001 for x in range(0, 101)] \n",
    "range_sigma = [x * 0.001 for x in range(0, 101)]\n",
    "\n",
    "# DDM parameters for generating artificial data\n",
    "d_init = 0.0024\n",
    "sigma_init = 0.062 \n",
    "\n",
    "\n",
    "#data files definition\n",
    "trials_file_name = None\n",
    "expdata_file_name = '/Users/bdmlab/OneDrive - University College London/PhD Projects/GiTs/FF2018/InputData/expdata_FFA_Like_v2.csv'\n",
    "fixations_file_name = '/Users/bdmlab/OneDrive - University College London/PhD Projects/GiTs/FF2018/InputData/fixations_FFA_Like_v2.csv'\n",
    "trials_per_subject = 120\n",
    "simulations_per_condition = 300\n",
    "\n",
    "\n",
    "\n",
    "a = ddm_pta_test.main(d_init, sigma_init, range_d, range_sigma,\n",
    "\n"
   ]
  },
  {
   "cell_type": "code",
   "execution_count": null,
   "metadata": {},
   "outputs": [],
   "source": [
    "###############################################"
   ]
  },
  {
   "cell_type": "markdown",
   "metadata": {},
   "source": [
    "# Using PTA algorithm to solve aDDM"
   ]
  },
  {
   "cell_type": "code",
   "execution_count": 30,
   "metadata": {},
   "outputs": [],
   "source": [
    "from __future__ import absolute_import\n",
    "import argparse\n",
    "from addm_toolbox import addm_pta_mle_limited\n",
    "import numpy as np\n",
    "import pandas as pd\n"
   ]
  },
  {
   "cell_type": "markdown",
   "metadata": {},
   "source": [
    "# Parameters \n",
    "### addm_pta_map.main\n",
    "#### def main(rangeD, rangeSigma, rangeTheta, trialsFileName=None,expdataFileName=None, fixationsFileName=None, trialsPerSubject=100, numSamples=100, numSimulations=800, subjectIds=[], numThreads=9,saveSimulations=False, saveFigures=False, verbose=False):"
   ]
  },
  {
   "cell_type": "markdown",
   "metadata": {},
   "source": [
    "## Dislike condition grid iterations"
   ]
  },
  {
   "cell_type": "code",
   "execution_count": 1,
   "metadata": {},
   "outputs": [
    {
     "ename": "NameError",
     "evalue": "name 'addm_pta_mle_limited' is not defined",
     "output_type": "error",
     "traceback": [
      "\u001b[0;31m---------------------------------------------------------------------------\u001b[0m",
      "\u001b[0;31mNameError\u001b[0m                                 Traceback (most recent call last)",
      "\u001b[0;32m<ipython-input-1-54f21c9ed6f3>\u001b[0m in \u001b[0;36m<module>\u001b[0;34m()\u001b[0m\n\u001b[1;32m     31\u001b[0m \u001b[0;34m\u001b[0m\u001b[0m\n\u001b[1;32m     32\u001b[0m     \u001b[0;31m#run the toolbox\u001b[0m\u001b[0;34m\u001b[0m\u001b[0;34m\u001b[0m\u001b[0m\n\u001b[0;32m---> 33\u001b[0;31m     a = addm_pta_mle_limited.main(range_d, range_sigma, range_theta,\n\u001b[0m\u001b[1;32m     34\u001b[0m                       \u001b[0;32mNone\u001b[0m\u001b[0;34m,\u001b[0m\u001b[0;34m\u001b[0m\u001b[0m\n\u001b[1;32m     35\u001b[0m                       \u001b[0mexpdata_file_name\u001b[0m\u001b[0;34m,\u001b[0m\u001b[0;34m\u001b[0m\u001b[0m\n",
      "\u001b[0;31mNameError\u001b[0m: name 'addm_pta_mle_limited' is not defined"
     ]
    }
   ],
   "source": [
    "iteration_data = []\n",
    "current_min_nll = 0\n",
    "previous_min_nll = 0\n",
    "\n",
    "\n",
    "# Initial grid selection\n",
    "range_d = [0.003, 0.006, 0.009]\n",
    "range_sigma = [0.03, 0.06, 0.09]\n",
    "range_theta = [0.3, 0.5, 0.7]\n",
    "\n",
    "#data files definition\n",
    "trials_file_name = None\n",
    "expdata_file_name = '/Users/bdmlab/OneDrive - University College London/PhD Projects/GiTs/FF2018/InputData/expdata_FFA_Dislike_v2.csv'\n",
    "fixations_file_name = '/Users/bdmlab/OneDrive - University College London/PhD Projects/GiTs/FF2018/InputData/fixations_FFA_Dislike_v2.csv'\n",
    "trials_per_subject = 120\n",
    "simulations_per_condition = 300\n",
    "\n",
    "iter_num = 1\n",
    "\n",
    "while (abs(current_min_nll-previous_min_nll) > (previous_min_nll*1/100)) or iter_num == 1:\n",
    "    \n",
    "    if iter_num > 1:  \n",
    "        delta_d = range_d[1]-range_d[0]\n",
    "        delta_sigma = range_sigma[1] - range_sigma[0]\n",
    "        delta_theta = range_theta[1] - range_theta[0]\n",
    "        \n",
    "        range_d = [new_d - delta_d/2 , new_d ,new_d + delta_d/2]\n",
    "        range_sigma =[new_sigma - delta_sigma/2 , new_sigma ,new_sigma + delta_sigma/2]\n",
    "        range_theta =[new_theta - delta_theta/2 , new_theta ,new_theta + delta_theta/2]\n",
    "    \n",
    "    \n",
    "    #run the toolbox\n",
    "    a = addm_pta_mle_limited.main(range_d, range_sigma, range_theta,\n",
    "                      None, \n",
    "                      expdata_file_name,\n",
    "                      fixations_file_name, \n",
    "                      trials_per_subject,simulations_per_condition, [],\n",
    "                      9, True, True,\n",
    "                      True)\n",
    "    \n",
    "    # Update the NLL values for this iteration\n",
    "    previous_min_nll = current_min_nll\n",
    "    current_min_nll = a[1]\n",
    "    \n",
    "    #get the new values\n",
    "    new_d = a[0][0]\n",
    "    new_sigma = a[0][1]\n",
    "    new_theta = a[0][2]\n",
    "    \n",
    "    iteration_data.append([iter_num,new_d, new_sigma, new_theta,current_min_nll]) \n",
    "\n",
    "    iter_num = iter_num + 1\n",
    "\n",
    "\n",
    "\n",
    "    \n",
    "    \n",
    "iteration_dataf=pd.DataFrame(iteration_data,columns=['Iteration', 'd', 'sigma', 'theta', 'min_NLL'])\n",
    "print (\"Finished iterations!!\")\n"
   ]
  },
  {
   "cell_type": "code",
   "execution_count": null,
   "metadata": {},
   "outputs": [],
   "source": []
  }
 ],
 "metadata": {
  "kernelspec": {
   "display_name": "Python 3",
   "language": "python",
   "name": "python3"
  },
  "language_info": {
   "codemirror_mode": {
    "name": "ipython",
    "version": 3
   },
   "file_extension": ".py",
   "mimetype": "text/x-python",
   "name": "python",
   "nbconvert_exporter": "python",
   "pygments_lexer": "ipython3",
   "version": "3.5.4"
  }
 },
 "nbformat": 4,
 "nbformat_minor": 2
}
